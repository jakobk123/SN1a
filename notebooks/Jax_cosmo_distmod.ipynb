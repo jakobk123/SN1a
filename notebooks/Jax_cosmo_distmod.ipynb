{
 "cells": [
  {
   "cell_type": "code",
   "execution_count": 1,
   "id": "00c45c1e",
   "metadata": {},
   "outputs": [],
   "source": [
    "import jax\n",
    "import sys\n",
    "import jax.numpy as jnp\n",
    "import jax_cosmo as jc\n",
    "sys.path.append('../source/')\n",
    "from cosmo_jnp import cosmo, pantheon\n",
    "from scipy.constants import c"
   ]
  },
  {
   "cell_type": "markdown",
   "id": "e5a1703a",
   "metadata": {},
   "source": [
    "## Introduce a cosmology\n",
    "\n",
    "1. Jax cosmo. n_s and sigma8 are dummy values. They should have no effect.\n",
    "2. Cosmo class from cosmo_jnp module. Data is to be loaded first."
   ]
  },
  {
   "cell_type": "code",
   "execution_count": 2,
   "id": "ad8077b2",
   "metadata": {},
   "outputs": [
    {
     "name": "stderr",
     "output_type": "stream",
     "text": [
      "WARNING:absl:No GPU/TPU found, falling back to CPU. (Set TF_CPP_MIN_LOG_LEVEL=0 and rerun for more info.)\n"
     ]
    }
   ],
   "source": [
    "cosmo_jax = jc.Cosmology(h=0.7, Omega_c = 0.25, Omega_b=0.05, w0=-1., wa=0., Omega_k=0, n_s=0.96, sigma8=0.83)\n",
    "zz=jnp.linspace(0.,1,10000)\n",
    "cosmo_jk = cosmo(0.7, zz);"
   ]
  },
  {
   "cell_type": "code",
   "execution_count": 3,
   "id": "4086814f",
   "metadata": {},
   "outputs": [],
   "source": [
    "p = pantheon('../data/pantheon.txt', '../data/pantheon_covsys.txt')"
   ]
  },
  {
   "cell_type": "markdown",
   "id": "55defff1",
   "metadata": {},
   "source": [
    "convert the redhift values to $a$ values"
   ]
  },
  {
   "cell_type": "code",
   "execution_count": 4,
   "id": "6662842f",
   "metadata": {},
   "outputs": [],
   "source": [
    "a_panth = jc.utils.z2a(zz)"
   ]
  },
  {
   "cell_type": "markdown",
   "id": "55a06215",
   "metadata": {},
   "source": [
    "Determing the distance modulus from the luminosity distance"
   ]
  },
  {
   "cell_type": "code",
   "execution_count": 5,
   "id": "1237e08b",
   "metadata": {},
   "outputs": [
    {
     "name": "stderr",
     "output_type": "stream",
     "text": [
      "/home/jakob/.local/lib/python3.10/site-packages/jax/_src/numpy/lax_numpy.py:4459: UserWarning: Explicitly requested dtype <class 'jax.numpy.int64'> requested in astype is not available, and will be truncated to dtype int32. To enable more dtypes, set the jax_enable_x64 configuration option or the JAX_ENABLE_X64 shell environment variable. See https://github.com/google/jax#current-gotchas for more.\n",
      "  lax_internal._check_user_dtype_supported(dtype, \"astype\")\n"
     ]
    }
   ],
   "source": [
    "#%%timeit\n",
    "d_jc = (jc.background.angular_diameter_distance(cosmo_jax, a_panth)/a_panth**2)/cosmo_jax.h\n",
    "mu_jc = 5*jnp.log10(d_jc) + 25;"
   ]
  },
  {
   "cell_type": "code",
   "execution_count": 6,
   "id": "09bea080",
   "metadata": {},
   "outputs": [],
   "source": [
    "#%%timeit\n",
    "cd = {'Omega_m' : 0.30,  'w_0':-1., 'w_1':0.}\n",
    "d_jk = cosmo_jk.d_L(cosmo_jk.H_z(**cd))\n",
    "mu_jk=cosmo_jk.dist_mod(cd)"
   ]
  },
  {
   "cell_type": "code",
   "execution_count": 7,
   "id": "a8dae8f5",
   "metadata": {},
   "outputs": [
    {
     "data": {
      "text/plain": [
       "(0.99, 1.02)"
      ]
     },
     "execution_count": 7,
     "metadata": {},
     "output_type": "execute_result"
    },
    {
     "data": {
      "image/png": "[encoded data removed]",
      "text/plain": [
       "<Figure size 432x288 with 1 Axes>"
      ]
     },
     "metadata": {
      "needs_background": "light"
     },
     "output_type": "display_data"
    }
   ],
   "source": [
    "import matplotlib.pyplot as plt\n",
    "plt.plot(zz, mu_jc/mu_jk, label='mu')\n",
    "plt.plot(zz, d_jc/d_jk, label='d')\n",
    "plt.legend()\n",
    "plt.xlim(0., 0.0931)\n",
    "plt.axhline(1, color='k')\n",
    "plt.ylim(0.99,1.02)"
   ]
  },
  {
   "cell_type": "code",
   "execution_count": 8,
   "id": "682ba8b8",
   "metadata": {},
   "outputs": [
    {
     "data": {
      "text/plain": [
       "[<matplotlib.lines.Line2D at 0x7fe2a422fd00>]"
      ]
     },
     "execution_count": 8,
     "metadata": {},
     "output_type": "execute_result"
    },
    {
     "data": {
      "image/png": "[encoded data removed]",
      "text/plain": [
       "<Figure size 432x288 with 1 Axes>"
      ]
     },
     "metadata": {
      "needs_background": "light"
     },
     "output_type": "display_data"
    }
   ],
   "source": [
    "plt.plot(zz, d_jc/d_jk)"
   ]
  },
  {
   "cell_type": "code",
   "execution_count": 9,
   "id": "ec9caf47",
   "metadata": {},
   "outputs": [
    {
     "data": {
      "text/plain": [
       "DeviceArray([0.        , 0.43740427], dtype=float32)"
      ]
     },
     "execution_count": 9,
     "metadata": {},
     "output_type": "execute_result"
    }
   ],
   "source": [
    "d_jc[0:2]"
   ]
  },
  {
   "cell_type": "code",
   "execution_count": 10,
   "id": "0ff417cc",
   "metadata": {},
   "outputs": [
    {
     "data": {
      "text/plain": [
       "DeviceArray([0.        , 0.42835096], dtype=float32)"
      ]
     },
     "execution_count": 10,
     "metadata": {},
     "output_type": "execute_result"
    }
   ],
   "source": [
    "d_jk[0:2]"
   ]
  },
  {
   "cell_type": "markdown",
   "id": "822fec56",
   "metadata": {},
   "source": [
    "# Testing new cosmology object based on jax_cosmo"
   ]
  },
  {
   "cell_type": "code",
   "execution_count": 11,
   "id": "bd95040a",
   "metadata": {},
   "outputs": [],
   "source": [
    "from cosmo_jnp import cosmo_jc"
   ]
  },
  {
   "cell_type": "code",
   "execution_count": 16,
   "id": "f245d132",
   "metadata": {},
   "outputs": [],
   "source": [
    "cosmo2 = cosmo_jc(0.7, zz)"
   ]
  },
  {
   "cell_type": "code",
   "execution_count": 17,
   "id": "80789377",
   "metadata": {},
   "outputs": [],
   "source": [
    "mu2=cosmo2.dist_mod(cd)"
   ]
  },
  {
   "cell_type": "code",
   "execution_count": 19,
   "id": "1f4ab92b",
   "metadata": {},
   "outputs": [
    {
     "data": {
      "text/plain": [
       "[<matplotlib.lines.Line2D at 0x7fe2cc3471f0>]"
      ]
     },
     "execution_count": 19,
     "metadata": {},
     "output_type": "execute_result"
    },
    {
     "data": {
      "image/png": "[encoded data removed]",
      "text/plain": [
       "<Figure size 432x288 with 1 Axes>"
      ]
     },
     "metadata": {
      "needs_background": "light"
     },
     "output_type": "display_data"
    }
   ],
   "source": [
    "plt.plot(zz, mu2/mu_jk)"
   ]
  },
  {
   "cell_type": "markdown",
   "id": "2ff3d02e",
   "metadata": {},
   "source": [
    "### Time comparison\n",
    "1. cosmo"
   ]
  },
  {
   "cell_type": "code",
   "execution_count": 21,
   "id": "abb7680b",
   "metadata": {},
   "outputs": [
    {
     "name": "stdout",
     "output_type": "stream",
     "text": [
      "212 ms ± 25.4 ms per loop (mean ± std. dev. of 7 runs, 1 loop each)\n"
     ]
    }
   ],
   "source": [
    "%%timeit\n",
    "mu_jk=cosmo_jk.dist_mod(cd)"
   ]
  },
  {
   "cell_type": "markdown",
   "id": "77336aa5",
   "metadata": {},
   "source": [
    "2. cosmo_jc"
   ]
  },
  {
   "cell_type": "code",
   "execution_count": 22,
   "id": "91086dcc",
   "metadata": {},
   "outputs": [
    {
     "name": "stderr",
     "output_type": "stream",
     "text": [
      "/home/jakob/.local/lib/python3.10/site-packages/jax/_src/numpy/lax_numpy.py:4459: UserWarning: Explicitly requested dtype <class 'jax.numpy.int64'> requested in astype is not available, and will be truncated to dtype int32. To enable more dtypes, set the jax_enable_x64 configuration option or the JAX_ENABLE_X64 shell environment variable. See https://github.com/google/jax#current-gotchas for more.\n",
      "  lax_internal._check_user_dtype_supported(dtype, \"astype\")\n"
     ]
    },
    {
     "name": "stdout",
     "output_type": "stream",
     "text": [
      "705 ms ± 33.9 ms per loop (mean ± std. dev. of 7 runs, 1 loop each)\n"
     ]
    }
   ],
   "source": [
    "%%timeit\n",
    "mu2=cosmo2.dist_mod(cd)"
   ]
  },
  {
   "cell_type": "code",
   "execution_count": null,
   "id": "27566aeb",
   "metadata": {},
   "outputs": [],
   "source": []
  }
 ],
 "metadata": {
  "kernelspec": {
   "display_name": "Python 3 (ipykernel)",
   "language": "python",
   "name": "python3"
  },
  "language_info": {
   "codemirror_mode": {
    "name": "ipython",
    "version": 3
   },
   "file_extension": ".py",
   "mimetype": "text/x-python",
   "name": "python",
   "nbconvert_exporter": "python",
   "pygments_lexer": "ipython3",
   "version": "3.10.4"
  },
  "vscode": {
   "interpreter": {
    "hash": "285225d6a3f3cdc903724ee22bae20ee39dbee19c2500e9a7a66fbe1e06fae80"
   }
  }
 },
 "nbformat": 4,
 "nbformat_minor": 5
}
