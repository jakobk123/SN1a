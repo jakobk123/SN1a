{
 "cells": [
  {
   "cell_type": "code",
   "execution_count": 6,
   "id": "00c45c1e",
   "metadata": {},
   "outputs": [],
   "source": [
    "import jax\n",
    "import jax.numpy as jnp\n",
    "import jax_cosmo as jc\n",
    "sys.path.append('../source/')\n",
    "from cosmo_jnp import cosmo, pantheon"
   ]
  },
  {
   "cell_type": "markdown",
   "id": "e5a1703a",
   "metadata": {},
   "source": [
    "## Introduce a cosmology\n",
    "\n",
    "1. Jax cosmo. n_s and sigma8 are dummy values. They should have no effect.\n",
    "2. Cosmo class from cosmo_jnp module. Data is to be loaded first."
   ]
  },
  {
   "cell_type": "code",
   "execution_count": 88,
   "id": "ad8077b2",
   "metadata": {},
   "outputs": [
    {
     "data": {
      "text/plain": [
       "DeviceArray(0.00931, dtype=float32)"
      ]
     },
     "execution_count": 88,
     "metadata": {},
     "output_type": "execute_result"
    }
   ],
   "source": [
    "cosmo_jax = jc.Cosmology(h=0.7, Omega_c = 0.25, Omega_b=0.05, w0=-1., wa=0., Omega_k=0, n_s=0.96, sigma8=0.83)\n",
    "p = pantheon('../data/pantheon.txt', '../data/pantheon_covsys.txt')\n",
    "zz=jnp.linspace(0.,10,1000)\n",
    "cosmo_jk = cosmo(0.7, zz)\n",
    "p.redshift1.min()"
   ]
  },
  {
   "cell_type": "markdown",
   "id": "55defff1",
   "metadata": {},
   "source": [
    "convert the redhift values to $a$ values"
   ]
  },
  {
   "cell_type": "code",
   "execution_count": 70,
   "id": "6662842f",
   "metadata": {},
   "outputs": [
    {
     "data": {
      "text/plain": [
       "(1000,)"
      ]
     },
     "execution_count": 70,
     "metadata": {},
     "output_type": "execute_result"
    }
   ],
   "source": [
    "a_panth = jc.utils.z2a(zz)\n",
    "a_panth.shape"
   ]
  },
  {
   "cell_type": "markdown",
   "id": "55a06215",
   "metadata": {},
   "source": [
    "Determing the distance modulus from the luminosity distance"
   ]
  },
  {
   "cell_type": "code",
   "execution_count": 71,
   "id": "53a9bba9",
   "metadata": {},
   "outputs": [
    {
     "name": "stdout",
     "output_type": "stream",
     "text": [
      "\u001b[0;31mSignature:\u001b[0m \u001b[0mjc\u001b[0m\u001b[0;34m.\u001b[0m\u001b[0mbackground\u001b[0m\u001b[0;34m.\u001b[0m\u001b[0mangular_diameter_distance\u001b[0m\u001b[0;34m(\u001b[0m\u001b[0mcosmo\u001b[0m\u001b[0;34m,\u001b[0m \u001b[0ma\u001b[0m\u001b[0;34m)\u001b[0m\u001b[0;34m\u001b[0m\u001b[0;34m\u001b[0m\u001b[0m\n",
      "\u001b[0;31mDocstring:\u001b[0m\n",
      "Angular diameter distance in [Mpc/h] for a given scale factor.\n",
      "\n",
      "Parameters\n",
      "----------\n",
      "a : array_like\n",
      "    Scale factor\n",
      "\n",
      "Returns\n",
      "-------\n",
      "d_A : ndarray, or float if input scalar\n",
      "\n",
      "Notes\n",
      "-----\n",
      "Angular diameter distance is expressed in terms of the transverse\n",
      "comoving distance as:\n",
      "\n",
      ".. math::\n",
      "\n",
      "    d_A(a) = a f_k(a)\n",
      "\u001b[0;31mFile:\u001b[0m      ~/CosmoProjects/differentiablestuff/jax_cosmo/jax_cosmo/background.py\n",
      "\u001b[0;31mType:\u001b[0m      function\n"
     ]
    }
   ],
   "source": [
    "jc.background.angular_diameter_distance?"
   ]
  },
  {
   "cell_type": "code",
   "execution_count": 72,
   "id": "1237e08b",
   "metadata": {},
   "outputs": [
    {
     "name": "stderr",
     "output_type": "stream",
     "text": [
      "/home/santiago/anaconda3/envs/diffstuff/lib/python3.10/site-packages/jax/_src/numpy/lax_numpy.py:4459: UserWarning: Explicitly requested dtype <class 'jax.numpy.int64'> requested in astype is not available, and will be truncated to dtype int32. To enable more dtypes, set the jax_enable_x64 configuration option or the JAX_ENABLE_X64 shell environment variable. See https://github.com/google/jax#current-gotchas for more.\n",
      "  lax_internal._check_user_dtype_supported(dtype, \"astype\")\n"
     ]
    }
   ],
   "source": [
    "#%%timeit\n",
    "d_jc = (jc.background.angular_diameter_distance(cosmo_jax, a_panth)/a_panth**2)/cosmo_jax.h\n",
    "mu_jc = 5*jnp.log10(d_jc) + 25"
   ]
  },
  {
   "cell_type": "code",
   "execution_count": 73,
   "id": "09bea080",
   "metadata": {},
   "outputs": [],
   "source": [
    "#%%timeit\n",
    "cd = {'Omega_m' : 0.30,  'w_0':-1., 'w_1':0.}\n",
    "d_jk = cosmo_jk.d_L(cosmo_jk.H_z(**cd))\n",
    "mu_jk=cosmo_jk.dist_mod(cd)"
   ]
  },
  {
   "cell_type": "code",
   "execution_count": 105,
   "id": "a8dae8f5",
   "metadata": {},
   "outputs": [
    {
     "data": {
      "text/plain": [
       "<matplotlib.legend.Legend at 0x7fac507b9180>"
      ]
     },
     "execution_count": 105,
     "metadata": {},
     "output_type": "execute_result"
    },
    {
     "data": {
      "image/png": "[encoded data removed]",
      "text/plain": [
       "<Figure size 432x288 with 1 Axes>"
      ]
     },
     "metadata": {
      "needs_background": "light"
     },
     "output_type": "display_data"
    }
   ],
   "source": [
    "import matplotlib.pyplot as plt\n",
    "plt.plot(zz, mu_jc/mu_jk, label='mu')\n",
    "plt.plot(zz, d_jc/d_jk, label='d')\n",
    "plt.legend()\n",
    "#plt.xlim(0.00001, 0.00931)\n",
    "#plt.ylim(-1,1.2)"
   ]
  },
  {
   "cell_type": "code",
   "execution_count": 95,
   "id": "8060bf8c",
   "metadata": {},
   "outputs": [
    {
     "data": {
      "text/plain": [
       "DeviceArray([ 0.        ,  0.01001001,  0.02002002,  0.03003003,\n",
       "              0.04004004,  0.05005005,  0.06006006,  0.07007007,\n",
       "              0.08008008,  0.09009009,  0.1001001 ,  0.1101101 ,\n",
       "              0.12012012,  0.13013013,  0.14014013,  0.15015015,\n",
       "              0.16016015,  0.17017016,  0.18018018,  0.19019018,\n",
       "              0.2002002 ,  0.2102102 ,  0.22022021,  0.23023023,\n",
       "              0.24024023,  0.25025025,  0.26026025,  0.27027026,\n",
       "              0.28028026,  0.29029027,  0.3003003 ,  0.3103103 ,\n",
       "              0.3203203 ,  0.3303303 ,  0.34034032,  0.35035035,\n",
       "              0.36036035,  0.37037036,  0.38038036,  0.39039037,\n",
       "              0.4004004 ,  0.4104104 ,  0.4204204 ,  0.4304304 ,\n",
       "              0.44044042,  0.45045042,  0.46046045,  0.47047046,\n",
       "              0.48048046,  0.49049047,  0.5005005 ,  0.5105105 ,\n",
       "              0.5205205 ,  0.5305305 ,  0.5405405 ,  0.5505505 ,\n",
       "              0.5605605 ,  0.5705705 ,  0.58058053,  0.5905906 ,\n",
       "              0.6006006 ,  0.6106106 ,  0.6206206 ,  0.6306306 ,\n",
       "              0.6406406 ,  0.6506506 ,  0.6606606 ,  0.6706706 ,\n",
       "              0.68068063,  0.69069064,  0.7007007 ,  0.7107107 ,\n",
       "              0.7207207 ,  0.7307307 ,  0.7407407 ,  0.7507507 ,\n",
       "              0.7607607 ,  0.7707707 ,  0.78078073,  0.79079074,\n",
       "              0.8008008 ,  0.8108108 ,  0.8208208 ,  0.8308308 ,\n",
       "              0.8408408 ,  0.8508508 ,  0.8608608 ,  0.8708708 ,\n",
       "              0.88088083,  0.89089084,  0.90090084,  0.9109109 ,\n",
       "              0.9209209 ,  0.9309309 ,  0.9409409 ,  0.9509509 ,\n",
       "              0.9609609 ,  0.9709709 ,  0.98098093,  0.99099094,\n",
       "              1.001001  ,  1.011011  ,  1.021021  ,  1.031031  ,\n",
       "              1.041041  ,  1.051051  ,  1.061061  ,  1.071071  ,\n",
       "              1.081081  ,  1.091091  ,  1.101101  ,  1.111111  ,\n",
       "              1.121121  ,  1.131131  ,  1.141141  ,  1.1511511 ,\n",
       "              1.1611611 ,  1.1711711 ,  1.1811812 ,  1.1911912 ,\n",
       "              1.2012012 ,  1.2112112 ,  1.2212212 ,  1.2312312 ,\n",
       "              1.2412412 ,  1.2512512 ,  1.2612612 ,  1.2712712 ,\n",
       "              1.2812812 ,  1.2912912 ,  1.3013012 ,  1.3113112 ,\n",
       "              1.3213212 ,  1.3313313 ,  1.3413413 ,  1.3513513 ,\n",
       "              1.3613613 ,  1.3713713 ,  1.3813813 ,  1.3913914 ,\n",
       "              1.4014014 ,  1.4114114 ,  1.4214214 ,  1.4314314 ,\n",
       "              1.4414414 ,  1.4514514 ,  1.4614614 ,  1.4714714 ,\n",
       "              1.4814814 ,  1.4914914 ,  1.5015014 ,  1.5115114 ,\n",
       "              1.5215214 ,  1.5315315 ,  1.5415415 ,  1.5515515 ,\n",
       "              1.5615615 ,  1.5715715 ,  1.5815815 ,  1.5915915 ,\n",
       "              1.6016016 ,  1.6116116 ,  1.6216216 ,  1.6316316 ,\n",
       "              1.6416416 ,  1.6516516 ,  1.6616616 ,  1.6716716 ,\n",
       "              1.6816816 ,  1.6916916 ,  1.7017016 ,  1.7117116 ,\n",
       "              1.7217216 ,  1.7317317 ,  1.7417417 ,  1.7517517 ,\n",
       "              1.7617617 ,  1.7717717 ,  1.7817817 ,  1.7917917 ,\n",
       "              1.8018017 ,  1.8118117 ,  1.8218218 ,  1.8318318 ,\n",
       "              1.8418418 ,  1.8518518 ,  1.8618618 ,  1.8718718 ,\n",
       "              1.8818818 ,  1.8918918 ,  1.9019018 ,  1.9119118 ,\n",
       "              1.9219218 ,  1.9319319 ,  1.9419419 ,  1.9519519 ,\n",
       "              1.9619619 ,  1.9719719 ,  1.9819819 ,  1.9919919 ,\n",
       "              2.002002  ,  2.012012  ,  2.022022  ,  2.032032  ,\n",
       "              2.042042  ,  2.052052  ,  2.062062  ,  2.072072  ,\n",
       "              2.082082  ,  2.092092  ,  2.102102  ,  2.112112  ,\n",
       "              2.122122  ,  2.132132  ,  2.142142  ,  2.152152  ,\n",
       "              2.162162  ,  2.172172  ,  2.182182  ,  2.192192  ,\n",
       "              2.202202  ,  2.212212  ,  2.222222  ,  2.232232  ,\n",
       "              2.242242  ,  2.252252  ,  2.262262  ,  2.272272  ,\n",
       "              2.282282  ,  2.292292  ,  2.3023021 ,  2.3123121 ,\n",
       "              2.3223221 ,  2.3323321 ,  2.3423421 ,  2.3523524 ,\n",
       "              2.3623624 ,  2.3723724 ,  2.3823824 ,  2.3923924 ,\n",
       "              2.4024024 ,  2.4124124 ,  2.4224224 ,  2.4324324 ,\n",
       "              2.4424424 ,  2.4524524 ,  2.4624624 ,  2.4724724 ,\n",
       "              2.4824824 ,  2.4924924 ,  2.5025024 ,  2.5125124 ,\n",
       "              2.5225224 ,  2.5325325 ,  2.5425425 ,  2.5525525 ,\n",
       "              2.5625625 ,  2.5725725 ,  2.5825825 ,  2.5925925 ,\n",
       "              2.6026025 ,  2.6126125 ,  2.6226225 ,  2.6326325 ,\n",
       "              2.6426425 ,  2.6526525 ,  2.6626625 ,  2.6726725 ,\n",
       "              2.6826825 ,  2.6926925 ,  2.7027025 ,  2.7127125 ,\n",
       "              2.7227225 ,  2.7327325 ,  2.7427425 ,  2.7527525 ,\n",
       "              2.7627625 ,  2.7727726 ,  2.7827828 ,  2.7927928 ,\n",
       "              2.8028028 ,  2.8128128 ,  2.8228228 ,  2.8328328 ,\n",
       "              2.8428428 ,  2.8528528 ,  2.8628628 ,  2.8728728 ,\n",
       "              2.8828828 ,  2.8928928 ,  2.9029028 ,  2.9129128 ,\n",
       "              2.9229228 ,  2.9329329 ,  2.9429429 ,  2.9529529 ,\n",
       "              2.9629629 ,  2.9729729 ,  2.9829829 ,  2.9929929 ,\n",
       "              3.003003  ,  3.013013  ,  3.023023  ,  3.033033  ,\n",
       "              3.043043  ,  3.053053  ,  3.063063  ,  3.073073  ,\n",
       "              3.083083  ,  3.093093  ,  3.103103  ,  3.113113  ,\n",
       "              3.123123  ,  3.133133  ,  3.143143  ,  3.153153  ,\n",
       "              3.163163  ,  3.173173  ,  3.183183  ,  3.193193  ,\n",
       "              3.2032032 ,  3.2132132 ,  3.2232232 ,  3.2332332 ,\n",
       "              3.2432432 ,  3.2532532 ,  3.2632632 ,  3.2732732 ,\n",
       "              3.2832832 ,  3.2932932 ,  3.3033032 ,  3.3133132 ,\n",
       "              3.3233232 ,  3.3333333 ,  3.3433433 ,  3.3533533 ,\n",
       "              3.3633633 ,  3.3733733 ,  3.3833833 ,  3.3933933 ,\n",
       "              3.4034033 ,  3.4134133 ,  3.4234233 ,  3.4334333 ,\n",
       "              3.4434433 ,  3.4534533 ,  3.4634633 ,  3.4734733 ,\n",
       "              3.4834833 ,  3.4934933 ,  3.5035033 ,  3.5135133 ,\n",
       "              3.5235233 ,  3.5335333 ,  3.5435433 ,  3.5535533 ,\n",
       "              3.5635633 ,  3.5735734 ,  3.5835834 ,  3.5935934 ,\n",
       "              3.6036034 ,  3.6136134 ,  3.6236234 ,  3.6336336 ,\n",
       "              3.6436436 ,  3.6536536 ,  3.6636636 ,  3.6736736 ,\n",
       "              3.6836836 ,  3.6936936 ,  3.7037036 ,  3.7137136 ,\n",
       "              3.7237236 ,  3.7337337 ,  3.7437437 ,  3.7537537 ,\n",
       "              3.7637637 ,  3.7737737 ,  3.7837837 ,  3.7937937 ,\n",
       "              3.8038037 ,  3.8138137 ,  3.8238237 ,  3.8338337 ,\n",
       "              3.8438437 ,  3.8538537 ,  3.8638637 ,  3.8738737 ,\n",
       "              3.8838837 ,  3.8938937 ,  3.9039037 ,  3.9139137 ,\n",
       "              3.9239237 ,  3.9339337 ,  3.9439437 ,  3.9539537 ,\n",
       "              3.9639637 ,  3.9739738 ,  3.9839838 ,  3.9939938 ,\n",
       "              4.004004  ,  4.014014  ,  4.024024  ,  4.034034  ,\n",
       "              4.044044  ,  4.054054  ,  4.064064  ,  4.074074  ,\n",
       "              4.084084  ,  4.094094  ,  4.104104  ,  4.114114  ,\n",
       "              4.124124  ,  4.134134  ,  4.144144  ,  4.154154  ,\n",
       "              4.164164  ,  4.174174  ,  4.184184  ,  4.194194  ,\n",
       "              4.204204  ,  4.214214  ,  4.224224  ,  4.234234  ,\n",
       "              4.244244  ,  4.254254  ,  4.264264  ,  4.2742743 ,\n",
       "              4.284284  ,  4.2942944 ,  4.304304  ,  4.3143144 ,\n",
       "              4.324324  ,  4.3343344 ,  4.344344  ,  4.3543544 ,\n",
       "              4.364364  ,  4.3743744 ,  4.384384  ,  4.3943944 ,\n",
       "              4.404404  ,  4.4144144 ,  4.424424  ,  4.4344344 ,\n",
       "              4.444444  ,  4.4544544 ,  4.464464  ,  4.4744744 ,\n",
       "              4.484484  ,  4.4944944 ,  4.504504  ,  4.5145144 ,\n",
       "              4.524524  ,  4.5345345 ,  4.544544  ,  4.5545545 ,\n",
       "              4.564564  ,  4.5745745 ,  4.584584  ,  4.5945945 ,\n",
       "              4.6046042 ,  4.6146145 ,  4.6246243 ,  4.6346345 ,\n",
       "              4.6446443 ,  4.6546545 ,  4.6646643 ,  4.6746745 ,\n",
       "              4.6846843 ,  4.6946945 ,  4.7047048 ,  4.7147145 ,\n",
       "              4.724725  ,  4.7347345 ,  4.744745  ,  4.7547545 ,\n",
       "              4.764765  ,  4.7747746 ,  4.784785  ,  4.7947946 ,\n",
       "              4.804805  ,  4.8148146 ,  4.824825  ,  4.8348346 ,\n",
       "              4.844845  ,  4.8548546 ,  4.864865  ,  4.8748746 ,\n",
       "              4.884885  ,  4.8948946 ,  4.904905  ,  4.9149146 ,\n",
       "              4.924925  ,  4.9349346 ,  4.944945  ,  4.9549546 ,\n",
       "              4.964965  ,  4.9749746 ,  4.984985  ,  4.9949946 ,\n",
       "              5.005005  ,  5.0150146 ,  5.025025  ,  5.0350347 ,\n",
       "              5.045045  ,  5.0550547 ,  5.065065  ,  5.0750747 ,\n",
       "              5.085085  ,  5.0950947 ,  5.105105  ,  5.1151147 ,\n",
       "              5.125125  ,  5.135135  ,  5.145145  ,  5.155155  ,\n",
       "              5.165165  ,  5.175175  ,  5.185185  ,  5.195195  ,\n",
       "              5.205205  ,  5.215215  ,  5.225225  ,  5.235235  ,\n",
       "              5.245245  ,  5.255255  ,  5.265265  ,  5.275275  ,\n",
       "              5.285285  ,  5.2952952 ,  5.305305  ,  5.3153152 ,\n",
       "              5.325325  ,  5.3353353 ,  5.345345  ,  5.3553553 ,\n",
       "              5.365365  ,  5.3753753 ,  5.385385  ,  5.3953953 ,\n",
       "              5.405405  ,  5.4154153 ,  5.425425  ,  5.4354353 ,\n",
       "              5.445445  ,  5.4554553 ,  5.465465  ,  5.4754753 ,\n",
       "              5.485485  ,  5.4954953 ,  5.505505  ,  5.5155153 ,\n",
       "              5.525525  ,  5.5355353 ,  5.545545  ,  5.5555553 ,\n",
       "              5.5655656 ,  5.5755754 ,  5.5855856 ,  5.5955954 ,\n",
       "              5.6056056 ,  5.6156154 ,  5.6256256 ,  5.6356354 ,\n",
       "              5.6456456 ,  5.6556554 ,  5.6656656 ,  5.6756754 ,\n",
       "              5.6856856 ,  5.6956954 ,  5.7057056 ,  5.7157154 ,\n",
       "              5.7257257 ,  5.7357354 ,  5.7457457 ,  5.7557554 ,\n",
       "              5.7657657 ,  5.7757754 ,  5.7857857 ,  5.7957954 ,\n",
       "              5.8058057 ,  5.8158154 ,  5.8258257 ,  5.8358355 ,\n",
       "              5.8458457 ,  5.8558555 ,  5.8658657 ,  5.8758755 ,\n",
       "              5.8858857 ,  5.8958955 ,  5.9059057 ,  5.9159155 ,\n",
       "              5.9259257 ,  5.9359355 ,  5.9459457 ,  5.9559555 ,\n",
       "              5.9659657 ,  5.9759755 ,  5.9859858 ,  5.995996  ,\n",
       "              6.006006  ,  6.016016  ,  6.026026  ,  6.036036  ,\n",
       "              6.046046  ,  6.056056  ,  6.066066  ,  6.076076  ,\n",
       "              6.086086  ,  6.096096  ,  6.106106  ,  6.116116  ,\n",
       "              6.126126  ,  6.136136  ,  6.146146  ,  6.156156  ,\n",
       "              6.166166  ,  6.176176  ,  6.186186  ,  6.196196  ,\n",
       "              6.206206  ,  6.216216  ,  6.226226  ,  6.236236  ,\n",
       "              6.246246  ,  6.256256  ,  6.266266  ,  6.276276  ,\n",
       "              6.286286  ,  6.296296  ,  6.306306  ,  6.316316  ,\n",
       "              6.326326  ,  6.336336  ,  6.346346  ,  6.356356  ,\n",
       "              6.366366  ,  6.376376  ,  6.386386  ,  6.396396  ,\n",
       "              6.4064064 ,  6.416416  ,  6.4264264 ,  6.436436  ,\n",
       "              6.4464464 ,  6.456456  ,  6.4664664 ,  6.476476  ,\n",
       "              6.4864864 ,  6.496496  ,  6.5065064 ,  6.516516  ,\n",
       "              6.5265265 ,  6.536536  ,  6.5465465 ,  6.556556  ,\n",
       "              6.5665665 ,  6.576576  ,  6.5865865 ,  6.5965962 ,\n",
       "              6.6066065 ,  6.6166162 ,  6.6266265 ,  6.6366363 ,\n",
       "              6.6466465 ,  6.6566563 ,  6.6666665 ,  6.6766763 ,\n",
       "              6.6866865 ,  6.6966963 ,  6.7067065 ,  6.7167163 ,\n",
       "              6.7267265 ,  6.7367363 ,  6.7467465 ,  6.7567563 ,\n",
       "              6.7667665 ,  6.7767763 ,  6.7867866 ,  6.7967963 ,\n",
       "              6.8068066 ,  6.8168163 ,  6.8268266 ,  6.836837  ,\n",
       "              6.8468466 ,  6.856857  ,  6.8668666 ,  6.876877  ,\n",
       "              6.8868866 ,  6.896897  ,  6.9069066 ,  6.916917  ,\n",
       "              6.9269266 ,  6.936937  ,  6.9469466 ,  6.956957  ,\n",
       "              6.9669666 ,  6.976977  ,  6.9869866 ,  6.996997  ,\n",
       "              7.0070066 ,  7.017017  ,  7.0270267 ,  7.037037  ,\n",
       "              7.0470467 ,  7.057057  ,  7.0670667 ,  7.077077  ,\n",
       "              7.0870867 ,  7.097097  ,  7.1071067 ,  7.117117  ,\n",
       "              7.1271267 ,  7.137137  ,  7.1471467 ,  7.157157  ,\n",
       "              7.1671667 ,  7.177177  ,  7.1871867 ,  7.197197  ,\n",
       "              7.2072067 ,  7.217217  ,  7.2272267 ,  7.237237  ,\n",
       "              7.2472467 ,  7.257257  ,  7.267267  ,  7.277277  ,\n",
       "              7.287287  ,  7.297297  ,  7.3073072 ,  7.317317  ,\n",
       "              7.3273273 ,  7.337337  ,  7.3473473 ,  7.357357  ,\n",
       "              7.3673673 ,  7.377377  ,  7.3873873 ,  7.397397  ,\n",
       "              7.4074073 ,  7.417417  ,  7.4274273 ,  7.437437  ,\n",
       "              7.4474473 ,  7.457457  ,  7.4674673 ,  7.477477  ,\n",
       "              7.4874873 ,  7.497497  ,  7.5075073 ,  7.517517  ,\n",
       "              7.5275273 ,  7.537537  ,  7.5475473 ,  7.557557  ,\n",
       "              7.5675673 ,  7.577577  ,  7.5875874 ,  7.597597  ,\n",
       "              7.6076074 ,  7.617617  ,  7.6276274 ,  7.637637  ,\n",
       "              7.6476474 ,  7.657657  ,  7.6676674 ,  7.677677  ,\n",
       "              7.6876874 ,  7.6976976 ,  7.7077074 ,  7.7177176 ,\n",
       "              7.7277274 ,  7.7377377 ,  7.7477474 ,  7.7577577 ,\n",
       "              7.7677674 ,  7.7777777 ,  7.7877874 ,  7.7977977 ,\n",
       "              7.8078074 ,  7.8178177 ,  7.8278275 ,  7.8378377 ,\n",
       "              7.8478475 ,  7.8578577 ,  7.8678675 ,  7.8778777 ,\n",
       "              7.8878875 ,  7.8978977 ,  7.9079075 ,  7.9179177 ,\n",
       "              7.9279275 ,  7.9379377 ,  7.9479475 ,  7.9579577 ,\n",
       "              7.9679675 ,  7.9779778 ,  7.9879875 ,  7.9979978 ,\n",
       "              8.008008  ,  8.018018  ,  8.028028  ,  8.038037  ,\n",
       "              8.048048  ,  8.058058  ,  8.068068  ,  8.078077  ,\n",
       "              8.088088  ,  8.098098  ,  8.108108  ,  8.118118  ,\n",
       "              8.128128  ,  8.138138  ,  8.148148  ,  8.158158  ,\n",
       "              8.168168  ,  8.178178  ,  8.188188  ,  8.198198  ,\n",
       "              8.208208  ,  8.218218  ,  8.228228  ,  8.238238  ,\n",
       "              8.248248  ,  8.258258  ,  8.268268  ,  8.278278  ,\n",
       "              8.288288  ,  8.298298  ,  8.308308  ,  8.318318  ,\n",
       "              8.328328  ,  8.338338  ,  8.348348  ,  8.358358  ,\n",
       "              8.368368  ,  8.378378  ,  8.388388  ,  8.398398  ,\n",
       "              8.408408  ,  8.418418  ,  8.428428  ,  8.438438  ,\n",
       "              8.448448  ,  8.458458  ,  8.468468  ,  8.478478  ,\n",
       "              8.488488  ,  8.498498  ,  8.508508  ,  8.518518  ,\n",
       "              8.528528  ,  8.538538  ,  8.548549  ,  8.558558  ,\n",
       "              8.568568  ,  8.578578  ,  8.588589  ,  8.5985985 ,\n",
       "              8.608608  ,  8.618618  ,  8.628629  ,  8.6386385 ,\n",
       "              8.648648  ,  8.658658  ,  8.668669  ,  8.6786785 ,\n",
       "              8.688688  ,  8.698698  ,  8.708709  ,  8.718719  ,\n",
       "              8.728728  ,  8.738738  ,  8.748749  ,  8.758759  ,\n",
       "              8.768768  ,  8.778778  ,  8.788789  ,  8.798799  ,\n",
       "              8.808808  ,  8.818818  ,  8.828829  ,  8.838839  ,\n",
       "              8.848848  ,  8.858858  ,  8.868869  ,  8.878879  ,\n",
       "              8.888888  ,  8.898898  ,  8.908909  ,  8.918919  ,\n",
       "              8.928928  ,  8.938938  ,  8.948949  ,  8.958959  ,\n",
       "              8.968968  ,  8.978979  ,  8.988989  ,  8.998999  ,\n",
       "              9.009008  ,  9.019019  ,  9.029029  ,  9.039039  ,\n",
       "              9.049048  ,  9.059059  ,  9.069069  ,  9.079079  ,\n",
       "              9.089088  ,  9.099099  ,  9.109109  ,  9.119119  ,\n",
       "              9.129128  ,  9.139139  ,  9.149149  ,  9.159159  ,\n",
       "              9.169168  ,  9.179179  ,  9.189189  ,  9.199199  ,\n",
       "              9.2092085 ,  9.219219  ,  9.229229  ,  9.239239  ,\n",
       "              9.2492485 ,  9.259259  ,  9.269269  ,  9.279279  ,\n",
       "              9.2892885 ,  9.299299  ,  9.309309  ,  9.319319  ,\n",
       "              9.329329  ,  9.339339  ,  9.349349  ,  9.359359  ,\n",
       "              9.369369  ,  9.379379  ,  9.389389  ,  9.399399  ,\n",
       "              9.4094095 ,  9.419419  ,  9.429429  ,  9.439439  ,\n",
       "              9.44945   ,  9.459459  ,  9.469469  ,  9.479479  ,\n",
       "              9.48949   ,  9.499499  ,  9.509509  ,  9.519519  ,\n",
       "              9.52953   ,  9.539539  ,  9.549549  ,  9.559559  ,\n",
       "              9.56957   ,  9.579579  ,  9.589589  ,  9.599599  ,\n",
       "              9.60961   ,  9.619619  ,  9.629629  ,  9.639639  ,\n",
       "              9.64965   ,  9.659659  ,  9.669669  ,  9.679679  ,\n",
       "              9.68969   ,  9.699699  ,  9.709709  ,  9.719719  ,\n",
       "              9.72973   ,  9.739739  ,  9.749749  ,  9.759759  ,\n",
       "              9.76977   ,  9.779779  ,  9.789789  ,  9.799799  ,\n",
       "              9.80981   ,  9.819819  ,  9.829829  ,  9.83984   ,\n",
       "              9.84985   ,  9.859859  ,  9.869869  ,  9.87988   ,\n",
       "              9.88989   ,  9.8998995 ,  9.909909  ,  9.91992   ,\n",
       "              9.92993   ,  9.9399395 ,  9.949949  ,  9.95996   ,\n",
       "              9.96997   ,  9.9799795 ,  9.989989  , 10.        ],            dtype=float32)"
      ]
     },
     "execution_count": 95,
     "metadata": {},
     "output_type": "execute_result"
    }
   ],
   "source": [
    "zz"
   ]
  },
  {
   "cell_type": "code",
   "execution_count": 89,
   "id": "2ac81dd3",
   "metadata": {},
   "outputs": [
    {
     "data": {
      "text/plain": [
       "(0.0, 100.0)"
      ]
     },
     "execution_count": 89,
     "metadata": {},
     "output_type": "execute_result"
    },
    {
     "data": {
      "image/png": "[encoded data removed]",
      "text/plain": [
       "<Figure size 432x288 with 1 Axes>"
      ]
     },
     "metadata": {
      "needs_background": "light"
     },
     "output_type": "display_data"
    }
   ],
   "source": [
    "plt.plot(zz,d_jk)\n",
    "plt.plot(zz,d_jc)\n",
    "plt.xlim(0,0.00931)\n",
    "plt.ylim(0,100)"
   ]
  },
  {
   "cell_type": "code",
   "execution_count": 97,
   "id": "802c2134",
   "metadata": {},
   "outputs": [
    {
     "data": {
      "text/plain": [
       "DeviceArray(0.01001001, dtype=float32)"
      ]
     },
     "execution_count": 97,
     "metadata": {},
     "output_type": "execute_result"
    }
   ],
   "source": [
    "zz[1]"
   ]
  },
  {
   "cell_type": "code",
   "execution_count": 100,
   "id": "2ef3defc",
   "metadata": {},
   "outputs": [
    {
     "data": {
      "text/plain": [
       "DeviceArray(-0.4282653, dtype=float32)"
      ]
     },
     "execution_count": 100,
     "metadata": {},
     "output_type": "execute_result"
    }
   ],
   "source": [
    "d_jk[0]"
   ]
  },
  {
   "cell_type": "code",
   "execution_count": 101,
   "id": "740cf668",
   "metadata": {},
   "outputs": [
    {
     "data": {
      "text/plain": [
       "DeviceArray(0., dtype=float32)"
      ]
     },
     "execution_count": 101,
     "metadata": {},
     "output_type": "execute_result"
    }
   ],
   "source": [
    "d_jc[0]"
   ]
  },
  {
   "cell_type": "code",
   "execution_count": null,
   "id": "bb805738",
   "metadata": {},
   "outputs": [],
   "source": []
  }
 ],
 "metadata": {
  "kernelspec": {
   "display_name": "Python 3.10.4 ('diffstuff')",
   "language": "python",
   "name": "python3"
  },
  "language_info": {
   "codemirror_mode": {
    "name": "ipython",
    "version": 3
   },
   "file_extension": ".py",
   "mimetype": "text/x-python",
   "name": "python",
   "nbconvert_exporter": "python",
   "pygments_lexer": "ipython3",
   "version": "3.10.4"
  },
  "vscode": {
   "interpreter": {
    "hash": "285225d6a3f3cdc903724ee22bae20ee39dbee19c2500e9a7a66fbe1e06fae80"
   }
  }
 },
 "nbformat": 4,
 "nbformat_minor": 5
}
