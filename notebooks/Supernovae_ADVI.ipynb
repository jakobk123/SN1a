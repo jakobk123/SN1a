{
 "cells": [
  {
   "cell_type": "markdown",
   "id": "4090a17c",
   "metadata": {},
   "source": [
    "# Supernova Data Analysis with ADVI"
   ]
  },
  {
   "cell_type": "markdown",
   "id": "0c439aa3",
   "metadata": {},
   "source": [
    "Loading the required packages"
   ]
  },
  {
   "cell_type": "code",
   "execution_count": 1,
   "id": "7cb36e2b",
   "metadata": {},
   "outputs": [
    {
     "name": "stderr",
     "output_type": "stream",
     "text": [
      "/usr/lib/python3/dist-packages/pkg_resources/__init__.py:116: PkgResourcesDeprecationWarning: 1.1build1 is an invalid version and will not be supported in a future release\n",
      "  warnings.warn(\n",
      "/usr/lib/python3/dist-packages/pkg_resources/__init__.py:116: PkgResourcesDeprecationWarning: 0.1.43ubuntu1 is an invalid version and will not be supported in a future release\n",
      "  warnings.warn(\n"
     ]
    }
   ],
   "source": [
    "import jax\n",
    "import jax.numpy as jnp\n",
    "import jax.random as random\n",
    "\n",
    "import jax_cosmo as jc\n",
    "\n",
    "import numpyro\n",
    "from numpyro import sample\n",
    "import numpyro.distributions as dist\n",
    "from numpyro.infer.autoguide import AutoMultivariateNormal\n",
    "from numpyro.infer import init_to_value, Trace_ELBO, SVI\n",
    "from optax import adam\n",
    "\n",
    "import matplotlib.pyplot as plt\n",
    "\n",
    "import arviz as az"
   ]
  },
  {
   "cell_type": "markdown",
   "id": "ee6720b8",
   "metadata": {},
   "source": [
    "Generate random keys for jax random numbers"
   ]
  },
  {
   "cell_type": "code",
   "execution_count": 2,
   "id": "1cf87ff7",
   "metadata": {},
   "outputs": [],
   "source": [
    "key = random.PRNGKey(3141)\n",
    "key, subkey, subkey2, subkey3 = random.split(key, 4)"
   ]
  },
  {
   "cell_type": "markdown",
   "id": "ceb090c9",
   "metadata": {},
   "source": [
    "## Creating some data"
   ]
  },
  {
   "cell_type": "markdown",
   "id": "72cce76e",
   "metadata": {},
   "source": [
    "The distance modulus $\\mu$ is given through the following equation\n",
    "\n",
    "\\begin{equation}\n",
    "    25 + 5 \\log_{10}\\left( \\frac{d_L}{\\text{Mpc}} \\right),\n",
    "\\end{equation}\n",
    "\n",
    "where $d_L$ is the distance modulus. It is related to the angular diameter distance $d_A$ via\n",
    "\n",
    "\\begin{equation}\n",
    "    d_L/\\text{[Mpc]} = \\frac{d_A/\\text{[Mpc/h]}}{h a^2},\n",
    "\\end{equation}\n",
    "\n",
    "where $d_A$ is included in jax_cosmo and returned in units of [Mpc/h].\n",
    "\n",
    "$a$ is the universe's scale parameter and related with the redshift parameter $z$ through $a = 1/(1+z)$"
   ]
  },
  {
   "cell_type": "code",
   "execution_count": 3,
   "id": "8ee6bff7",
   "metadata": {},
   "outputs": [],
   "source": [
    "shape = (2000,)\n",
    "z_random = random.uniform(key, shape, minval=0.01, maxval=1.5)\n",
    "z = jnp.sort(z_random)"
   ]
  },
  {
   "cell_type": "code",
   "execution_count": 4,
   "id": "5a53e99b",
   "metadata": {},
   "outputs": [],
   "source": [
    "true_param = {'h':0.7,\n",
    "    'Omega_m':0.29,\n",
    "    'w0':-1.02,\n",
    "    'wa':0.01}"
   ]
  },
  {
   "cell_type": "code",
   "execution_count": 5,
   "id": "6860088e",
   "metadata": {},
   "outputs": [],
   "source": [
    "def distance_modulus(theta, z):\n",
    "    a = jc.utils.z2a(z)\n",
    "    h = theta.get('h', 0.7)\n",
    "    Omega_m = theta.get('Omega_m', 0.3)\n",
    "    Omega_b = 0.05\n",
    "    Omega_c = Omega_m - Omega_b\n",
    "    Omega_k = theta.get('Omega_k', 0.)\n",
    "    w0 = theta.get('w0', -1.)\n",
    "    wa = theta.get('wa', 0.)\n",
    "    \n",
    "    cosmology = jc.Cosmology(h=h, Omega_c=Omega_c, Omega_b=Omega_b, w0=w0, wa=wa, Omega_k=Omega_k, n_s=0.96, sigma8=0.83)\n",
    "    dist_L = (jc.background.angular_diameter_distance(cosmology, a)/a**2.0)/h\n",
    "    dist_mod = 25. + 5. * jnp.log10(dist_L)\n",
    "    return dist_mod"
   ]
  },
  {
   "cell_type": "markdown",
   "id": "cd4179bb",
   "metadata": {},
   "source": [
    "Random noise can be added at this point."
   ]
  },
  {
   "cell_type": "code",
   "execution_count": 81,
   "id": "3e510707",
   "metadata": {},
   "outputs": [],
   "source": [
    "sigma = 0.3 * jnp.log(1+z)\n",
    "dist_mod_err = sigma * random.normal(subkey, shape) \n",
    "\n",
    "cov = jnp.diag(sigma**2)"
   ]
  },
  {
   "cell_type": "code",
   "execution_count": 82,
   "id": "e7561550",
   "metadata": {},
   "outputs": [],
   "source": [
    "dist_mod = distance_modulus(true_param, z) #+ dist_mod_err"
   ]
  },
  {
   "cell_type": "code",
   "execution_count": 83,
   "id": "0239d345",
   "metadata": {},
   "outputs": [
    {
     "data": {
      "image/png": "[encoded data removed]",
      "text/plain": [
       "<Figure size 864x432 with 1 Axes>"
      ]
     },
     "metadata": {
      "needs_background": "light"
     },
     "output_type": "display_data"
    }
   ],
   "source": [
    "plt.figure(figsize=(12,6))\n",
    "plt.errorbar(z, dist_mod, yerr = sigma, marker='.', linestyle='')\n",
    "plt.xlabel('redshift')\n",
    "plt.ylabel('distance modulus');"
   ]
  },
  {
   "cell_type": "markdown",
   "id": "cdf1ba74",
   "metadata": {},
   "source": [
    "## Setting up the model"
   ]
  },
  {
   "cell_type": "code",
   "execution_count": 84,
   "id": "8b4cb517",
   "metadata": {},
   "outputs": [],
   "source": [
    "def model_cpl():\n",
    "    Omega_m = sample(\"Omega_m\", dist.Uniform(0,1))\n",
    "    w0 = sample(\"w0\", dist.Uniform(-10, 10))\n",
    "    wa = sample(\"wa\", dist.Uniform(-10,10))\n",
    "    theta_dict = {\"Omega_m\":Omega_m, \"w0\":w0, \"wa\":wa}\n",
    "    mu = distance_modulus(theta_dict, z)\n",
    "    \n",
    "    sample(\"y\", dist.MultivariateNormal(mu, cov), obs=dist_mod)"
   ]
  },
  {
   "cell_type": "markdown",
   "id": "2754aeca",
   "metadata": {},
   "source": [
    "## Running the optimizer"
   ]
  },
  {
   "cell_type": "code",
   "execution_count": 85,
   "id": "d95df572",
   "metadata": {},
   "outputs": [],
   "source": [
    "initial_values = {'Omega_m':0.3, 'w0':-1., 'wa':0.}"
   ]
  },
  {
   "cell_type": "code",
   "execution_count": 86,
   "id": "ca6452e6",
   "metadata": {},
   "outputs": [],
   "source": [
    "guide_cpl = AutoMultivariateNormal(model_cpl, \n",
    "                                   init_loc_fn = init_to_value(values=initial_values))"
   ]
  },
  {
   "cell_type": "code",
   "execution_count": 87,
   "id": "fba84904",
   "metadata": {},
   "outputs": [],
   "source": [
    "svi = SVI(model_cpl, \n",
    "    guide_cpl, \n",
    "    adam(0.005), \n",
    "    Trace_ELBO()\n",
    ")"
   ]
  },
  {
   "cell_type": "code",
   "execution_count": 88,
   "id": "11cc492a",
   "metadata": {},
   "outputs": [
    {
     "name": "stderr",
     "output_type": "stream",
     "text": [
      "/home/jakob/.local/lib/python3.10/site-packages/jax/_src/numpy/lax_numpy.py:4459: UserWarning: Explicitly requested dtype <class 'jax.numpy.int64'> requested in astype is not available, and will be truncated to dtype int32. To enable more dtypes, set the jax_enable_x64 configuration option or the JAX_ENABLE_X64 shell environment variable. See https://github.com/google/jax#current-gotchas for more.\n",
      "  lax_internal._check_user_dtype_supported(dtype, \"astype\")\n",
      "100%|███████████████| 20000/20000 [24:26<00:00, 13.64it/s, init loss: -1350.2955, avg. loss [19001-20000]: -2248.8694]\n"
     ]
    }
   ],
   "source": [
    "svi_result = svi.run(subkey2, 20000)"
   ]
  },
  {
   "cell_type": "markdown",
   "id": "6ec64320",
   "metadata": {},
   "source": [
    "### Evaluating the result\n",
    "The posterior samples get converted into arviz inference data."
   ]
  },
  {
   "cell_type": "code",
   "execution_count": 89,
   "id": "9ae8f363",
   "metadata": {},
   "outputs": [],
   "source": [
    "samples = guide_cpl.sample_posterior(subkey3, svi_result.params, (1000000,))\n",
    "idata_num = az.from_dict(samples)"
   ]
  },
  {
   "cell_type": "code",
   "execution_count": 90,
   "id": "a34c6156",
   "metadata": {},
   "outputs": [
    {
     "data": {
      "text/html": [
       "<div>\n",
       "<style scoped>\n",
       "    .dataframe tbody tr th:only-of-type {\n",
       "        vertical-align: middle;\n",
       "    }\n",
       "\n",
       "    .dataframe tbody tr th {\n",
       "        vertical-align: top;\n",
       "    }\n",
       "\n",
       "    .dataframe thead th {\n",
       "        text-align: right;\n",
       "    }\n",
       "</style>\n",
       "<table border=\"1\" class=\"dataframe\">\n",
       "  <thead>\n",
       "    <tr style=\"text-align: right;\">\n",
       "      <th></th>\n",
       "      <th>mean</th>\n",
       "      <th>sd</th>\n",
       "      <th>hdi_3%</th>\n",
       "      <th>hdi_97%</th>\n",
       "    </tr>\n",
       "  </thead>\n",
       "  <tbody>\n",
       "    <tr>\n",
       "      <th>Omega_m</th>\n",
       "      <td>0.311</td>\n",
       "      <td>0.019</td>\n",
       "      <td>0.276</td>\n",
       "      <td>0.348</td>\n",
       "    </tr>\n",
       "    <tr>\n",
       "      <th>w0</th>\n",
       "      <td>-1.056</td>\n",
       "      <td>0.026</td>\n",
       "      <td>-1.104</td>\n",
       "      <td>-1.007</td>\n",
       "    </tr>\n",
       "    <tr>\n",
       "      <th>wa</th>\n",
       "      <td>-0.277</td>\n",
       "      <td>0.248</td>\n",
       "      <td>-0.741</td>\n",
       "      <td>0.192</td>\n",
       "    </tr>\n",
       "  </tbody>\n",
       "</table>\n",
       "</div>"
      ],
      "text/plain": [
       "          mean     sd  hdi_3%  hdi_97%\n",
       "Omega_m  0.311  0.019   0.276    0.348\n",
       "w0      -1.056  0.026  -1.104   -1.007\n",
       "wa      -0.277  0.248  -0.741    0.192"
      ]
     },
     "execution_count": 90,
     "metadata": {},
     "output_type": "execute_result"
    }
   ],
   "source": [
    "az.summary(idata_num, kind='stats')"
   ]
  },
  {
   "cell_type": "markdown",
   "id": "13985f4b",
   "metadata": {},
   "source": [
    "## Plotting"
   ]
  },
  {
   "cell_type": "code",
   "execution_count": 91,
   "id": "3268bf22",
   "metadata": {},
   "outputs": [
    {
     "data": {
      "image/png": "[encoded data removed]",
      "text/plain": [
       "<Figure size 720x720 with 6 Axes>"
      ]
     },
     "metadata": {
      "needs_background": "light"
     },
     "output_type": "display_data"
    }
   ],
   "source": [
    "var_dict = {\"Omega_m\" : r\"$\\Omega_{m,0}$\",\n",
    "               \"w0\" :  r\"$w_0$\",\n",
    "               \"wa\" : r\"$w_a$\"}   \n",
    "\n",
    "labeller = az.labels.MapLabeller(var_name_map=var_dict)\n",
    "\n",
    "az.plot_pair(idata_num, \n",
    "             kind='kde', \n",
    "             marginals=True, \n",
    "             figsize=(10,10), \n",
    "             textsize=16, \n",
    "             contour=False, \n",
    "             labeller=labeller, \n",
    "             kde_kwargs = {'hdi_probs' : [0.3, 0.6, 0.9]},\n",
    "             point_estimate = 'mean'\n",
    "            );"
   ]
  },
  {
   "cell_type": "code",
   "execution_count": 97,
   "id": "0c85786c",
   "metadata": {},
   "outputs": [
    {
     "data": {
      "text/plain": [
       "(-2280.0, -2150.0)"
      ]
     },
     "execution_count": 97,
     "metadata": {},
     "output_type": "execute_result"
    },
    {
     "data": {
      "image/png": "[encoded data removed]",
      "text/plain": [
       "<Figure size 432x288 with 1 Axes>"
      ]
     },
     "metadata": {
      "needs_background": "light"
     },
     "output_type": "display_data"
    }
   ],
   "source": [
    "plt.plot(svi_result.losses)\n",
    "plt.ylim(-2280, -2150)"
   ]
  },
  {
   "cell_type": "code",
   "execution_count": null,
   "id": "df56e58d",
   "metadata": {},
   "outputs": [],
   "source": []
  }
 ],
 "metadata": {
  "kernelspec": {
   "display_name": "Python 3 (ipykernel)",
   "language": "python",
   "name": "python3"
  },
  "language_info": {
   "codemirror_mode": {
    "name": "ipython",
    "version": 3
   },
   "file_extension": ".py",
   "mimetype": "text/x-python",
   "name": "python",
   "nbconvert_exporter": "python",
   "pygments_lexer": "ipython3",
   "version": "3.10.4"
  }
 },
 "nbformat": 4,
 "nbformat_minor": 5
}
