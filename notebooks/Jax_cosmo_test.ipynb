{
 "cells": [
  {
   "cell_type": "code",
   "execution_count": 1,
   "id": "1495bf65",
   "metadata": {},
   "outputs": [],
   "source": [
    "#import jax\n",
    "import jax.numpy as jnp\n",
    "import jax.random as random\n",
    "\n",
    "import jax_cosmo as jc\n",
    "\n",
    "import numpyro\n",
    "from numpyro import sample\n",
    "import numpyro.distributions as dist\n",
    "from numpyro.infer.autoguide import AutoMultivariateNormal\n",
    "from numpyro.infer import init_to_value, Trace_ELBO, SVI\n",
    "from optax import adam\n",
    "\n",
    "import matplotlib.pyplot as plt\n",
    "\n",
    "import arviz as az\n",
    "\n",
    "import numpy as np\n",
    "\n",
    "import emcee_jax"
   ]
  },
  {
   "cell_type": "code",
   "execution_count": 2,
   "id": "4cf5fc15",
   "metadata": {},
   "outputs": [],
   "source": [
    "#from em import *"
   ]
  },
  {
   "cell_type": "code",
   "execution_count": 3,
   "id": "69d3935a",
   "metadata": {},
   "outputs": [],
   "source": [
    "key = random.PRNGKey(3141)\n",
    "key, subkey, subkey2, subkey3 = random.split(key, 4)"
   ]
  },
  {
   "cell_type": "markdown",
   "id": "580a827f",
   "metadata": {},
   "source": [
    "## Creating some data"
   ]
  },
  {
   "cell_type": "code",
   "execution_count": 4,
   "id": "82a79183",
   "metadata": {},
   "outputs": [],
   "source": [
    "!export JAX_ENABLE_X64=TRUE"
   ]
  },
  {
   "cell_type": "code",
   "execution_count": 5,
   "id": "fc812dd8",
   "metadata": {},
   "outputs": [],
   "source": [
    "shape = (2000,)\n",
    "z_random = random.uniform(key, shape, minval=0.01, maxval=1.5)\n",
    "z = jnp.sort(z_random)"
   ]
  },
  {
   "cell_type": "code",
   "execution_count": 6,
   "id": "5b7e28d1",
   "metadata": {},
   "outputs": [
    {
     "data": {
      "text/plain": [
       "DeviceArray([0.01022949, 0.01116165, 0.01366114, ..., 1.4987795 ,\n",
       "             1.4995131 , 1.499763  ], dtype=float32)"
      ]
     },
     "execution_count": 6,
     "metadata": {},
     "output_type": "execute_result"
    }
   ],
   "source": [
    "z"
   ]
  },
  {
   "cell_type": "code",
   "execution_count": 7,
   "id": "098d365e",
   "metadata": {},
   "outputs": [],
   "source": [
    "true_param = {'h':0.7,\n",
    "    'Omega_m':0.29,\n",
    "    'w0':-1.02,\n",
    "    'wa':0.01}"
   ]
  },
  {
   "cell_type": "code",
   "execution_count": 8,
   "id": "47adfc03",
   "metadata": {},
   "outputs": [
    {
     "name": "stderr",
     "output_type": "stream",
     "text": [
      "/home/santiago/anaconda3/envs/diffstuff/lib/python3.10/site-packages/jax/_src/numpy/lax_numpy.py:4459: UserWarning: Explicitly requested dtype <class 'jax.numpy.int64'> requested in astype is not available, and will be truncated to dtype int32. To enable more dtypes, set the jax_enable_x64 configuration option or the JAX_ENABLE_X64 shell environment variable. See https://github.com/google/jax#current-gotchas for more.\n",
      "  lax_internal._check_user_dtype_supported(dtype, \"astype\")\n"
     ]
    },
    {
     "data": {
      "text/plain": [
       "DeviceArray([0.], dtype=float32)"
      ]
     },
     "execution_count": 8,
     "metadata": {},
     "output_type": "execute_result"
    }
   ],
   "source": [
    "cosmology = jc.Cosmology(h=true_param['h'], Omega_c=true_param['Omega_m']-0.05, Omega_b=0.05, w0=true_param['w0'], wa=true_param['wa'], Omega_k=0., n_s=0.96, sigma8=0.83)\n",
    "dist_L = (jc.background.angular_diameter_distance(cosmology, 1.0)/1.0**2.0)/0.67\n",
    "dist_L"
   ]
  },
  {
   "cell_type": "code",
   "execution_count": 9,
   "id": "8503824b",
   "metadata": {},
   "outputs": [],
   "source": [
    "def distance_modulus(theta, z):\n",
    "    a = jc.utils.z2a(z)\n",
    "    h = theta.get('h', 0.7)\n",
    "    Omega_m = theta.get('Omega_m', 0.3)\n",
    "    Omega_b = 0.05\n",
    "    Omega_c = Omega_m - Omega_b\n",
    "    Omega_k = theta.get('Omega_k', 0.)\n",
    "    w0 = theta.get('w0', -1.)\n",
    "    wa = theta.get('wa', 0.)\n",
    "    \n",
    "    cosmology = jc.Cosmology(h=h, Omega_c=Omega_c, Omega_b=Omega_b, w0=w0, wa=wa, Omega_k=Omega_k, n_s=0.96, sigma8=0.83)\n",
    "    dist_L = (jc.background.angular_diameter_distance(cosmology, a)/a**2.0)/h\n",
    "    dist_mod = 25.0 + 5.0 * jnp.log10(dist_L)\n",
    "    return dist_mod"
   ]
  },
  {
   "cell_type": "code",
   "execution_count": 10,
   "id": "ed9a6869",
   "metadata": {},
   "outputs": [],
   "source": [
    "sigma0 = 0.1\n",
    "sigma = sigma0 * jnp.log(1+z)\n",
    "dist_mod_err = sigma #* random.uniform(subkey, shape, minval=-sigma0, maxval=sigma0) \n",
    "\n",
    "cov = jnp.diag(sigma**2.0)"
   ]
  },
  {
   "cell_type": "code",
   "execution_count": 11,
   "id": "caba7605",
   "metadata": {},
   "outputs": [],
   "source": [
    "dist_mod = distance_modulus(true_param, z) + dist_mod_err"
   ]
  },
  {
   "cell_type": "code",
   "execution_count": 12,
   "id": "f894693f",
   "metadata": {},
   "outputs": [
    {
     "data": {
      "text/plain": [
       "Text(0, 0.5, 'distance modulus')"
      ]
     },
     "execution_count": 12,
     "metadata": {},
     "output_type": "execute_result"
    },
    {
     "data": {
      "image/png": "[encoded data removed]",
      "text/plain": [
       "<Figure size 864x432 with 1 Axes>"
      ]
     },
     "metadata": {
      "needs_background": "light"
     },
     "output_type": "display_data"
    }
   ],
   "source": [
    "plt.figure(figsize=(12,6))\n",
    "plt.errorbar(z, dist_mod, yerr = sigma, marker='.', linestyle='')\n",
    "plt.xlabel('redshift')\n",
    "plt.ylabel('distance modulus')"
   ]
  },
  {
   "cell_type": "markdown",
   "id": "9c933884",
   "metadata": {},
   "source": [
    "## Setting up the model"
   ]
  },
  {
   "cell_type": "code",
   "execution_count": 13,
   "id": "bb2c91b5",
   "metadata": {},
   "outputs": [],
   "source": [
    "def model_cpl(x, y, sig):\n",
    "    cov = jnp.diag(sig**2)\n",
    "    Omega_m = sample(\"Omega_m\", dist.Uniform(0,1))\n",
    "    w0 = sample(\"w0\", dist.Uniform(-10, 10))\n",
    "    wa = sample(\"wa\", dist.Uniform(-10,10))\n",
    "    theta_dict = {\"Omega_m\":Omega_m, \"w0\":w0, \"wa\":wa}\n",
    "    mu = distance_modulus(theta_dict, x)\n",
    "    \n",
    "    sample(\"y\", dist.MultivariateNormal(mu, cov), obs=y)"
   ]
  },
  {
   "cell_type": "markdown",
   "id": "e6d7ac1e",
   "metadata": {},
   "source": [
    "## Running the optimizer"
   ]
  },
  {
   "cell_type": "code",
   "execution_count": 14,
   "id": "fd2e4358",
   "metadata": {},
   "outputs": [],
   "source": [
    "initial_values = {'Omega_m':0.5, 'w0':-1., 'wa':0.}"
   ]
  },
  {
   "cell_type": "code",
   "execution_count": 15,
   "id": "df2c05cf",
   "metadata": {},
   "outputs": [],
   "source": [
    "guide_cpl = AutoMultivariateNormal(model_cpl, \n",
    "                                   init_loc_fn = init_to_value(values=initial_values))"
   ]
  },
  {
   "cell_type": "code",
   "execution_count": 15,
   "id": "e3de9378",
   "metadata": {},
   "outputs": [],
   "source": [
    "svi = SVI(model_cpl, \n",
    "    guide_cpl, \n",
    "    adam(0.01), \n",
    "    Trace_ELBO(),     \n",
    "    x = z,\n",
    "    y = dist_mod,\n",
    "    sig = sigma\n",
    ")"
   ]
  },
  {
   "cell_type": "code",
   "execution_count": 16,
   "id": "60f20076",
   "metadata": {},
   "outputs": [
    {
     "name": "stderr",
     "output_type": "stream",
     "text": [
      "/home/santiago/anaconda3/envs/diffstuff/lib/python3.10/site-packages/jax/_src/numpy/lax_numpy.py:4459: UserWarning: Explicitly requested dtype <class 'jax.numpy.int64'> requested in astype is not available, and will be truncated to dtype int32. To enable more dtypes, set the jax_enable_x64 configuration option or the JAX_ENABLE_X64 shell environment variable. See https://github.com/google/jax#current-gotchas for more.\n",
      "  lax_internal._check_user_dtype_supported(dtype, \"astype\")\n",
      "  2%|▏         | 15/1000 [00:04<04:23,  3.74it/s]\n"
     ]
    },
    {
     "ename": "KeyboardInterrupt",
     "evalue": "",
     "output_type": "error",
     "traceback": [
      "\u001b[0;31m---------------------------------------------------------------------------\u001b[0m",
      "\u001b[0;31mKeyboardInterrupt\u001b[0m                         Traceback (most recent call last)",
      "\u001b[1;32m/home/santiago/CosmoProjects/differentiablestuff/SN1a/notebooks/Jax_cosmo_test.ipynb Cell 19\u001b[0m in \u001b[0;36m<cell line: 1>\u001b[0;34m()\u001b[0m\n\u001b[0;32m----> <a href='vscode-notebook-cell:/home/santiago/CosmoProjects/differentiablestuff/SN1a/notebooks/Jax_cosmo_test.ipynb#ch0000015?line=0'>1</a>\u001b[0m svi_result \u001b[39m=\u001b[39m svi\u001b[39m.\u001b[39;49mrun(subkey2, \u001b[39m1000\u001b[39;49m)\n",
      "File \u001b[0;32m~/anaconda3/envs/diffstuff/lib/python3.10/site-packages/numpyro/infer/svi.py:350\u001b[0m, in \u001b[0;36mSVI.run\u001b[0;34m(self, rng_key, num_steps, progress_bar, stable_update, init_state, *args, **kwargs)\u001b[0m\n\u001b[1;32m    348\u001b[0m batch \u001b[39m=\u001b[39m \u001b[39mmax\u001b[39m(num_steps \u001b[39m/\u001b[39m\u001b[39m/\u001b[39m \u001b[39m20\u001b[39m, \u001b[39m1\u001b[39m)\n\u001b[1;32m    349\u001b[0m \u001b[39mfor\u001b[39;00m i \u001b[39min\u001b[39;00m t:\n\u001b[0;32m--> 350\u001b[0m     svi_state, loss \u001b[39m=\u001b[39m jit(body_fn)(svi_state, \u001b[39mNone\u001b[39;49;00m)\n\u001b[1;32m    351\u001b[0m     losses\u001b[39m.\u001b[39mappend(loss)\n\u001b[1;32m    352\u001b[0m     \u001b[39mif\u001b[39;00m i \u001b[39m%\u001b[39m batch \u001b[39m==\u001b[39m \u001b[39m0\u001b[39m:\n",
      "    \u001b[0;31m[... skipping hidden 1 frame]\u001b[0m\n",
      "File \u001b[0;32m~/anaconda3/envs/diffstuff/lib/python3.10/site-packages/jax/_src/api.py:473\u001b[0m, in \u001b[0;36m_cpp_jit.<locals>.cache_miss\u001b[0;34m(*args, **kwargs)\u001b[0m\n\u001b[1;32m    471\u001b[0m   in_type \u001b[39m=\u001b[39m pe\u001b[39m.\u001b[39minfer_lambda_input_type(\u001b[39mNone\u001b[39;00m, args_flat)\n\u001b[1;32m    472\u001b[0m   flat_fun \u001b[39m=\u001b[39m lu\u001b[39m.\u001b[39mannotate(flat_fun, in_type)\n\u001b[0;32m--> 473\u001b[0m out_flat \u001b[39m=\u001b[39m xla\u001b[39m.\u001b[39;49mxla_call(\n\u001b[1;32m    474\u001b[0m     flat_fun, \u001b[39m*\u001b[39;49margs_flat,\n\u001b[1;32m    475\u001b[0m     device\u001b[39m=\u001b[39;49mdevice, backend\u001b[39m=\u001b[39;49mbackend, name\u001b[39m=\u001b[39;49mflat_fun\u001b[39m.\u001b[39;49m\u001b[39m__name__\u001b[39;49m,\n\u001b[1;32m    476\u001b[0m     donated_invars\u001b[39m=\u001b[39;49mdonated_invars, inline\u001b[39m=\u001b[39;49minline, keep_unused\u001b[39m=\u001b[39;49mkeep_unused)\n\u001b[1;32m    477\u001b[0m out_pytree_def \u001b[39m=\u001b[39m out_tree()\n\u001b[1;32m    478\u001b[0m out \u001b[39m=\u001b[39m tree_unflatten(out_pytree_def, out_flat)\n",
      "File \u001b[0;32m~/anaconda3/envs/diffstuff/lib/python3.10/site-packages/jax/core.py:1765\u001b[0m, in \u001b[0;36mCallPrimitive.bind\u001b[0;34m(self, fun, *args, **params)\u001b[0m\n\u001b[1;32m   1764\u001b[0m \u001b[39mdef\u001b[39;00m \u001b[39mbind\u001b[39m(\u001b[39mself\u001b[39m, fun, \u001b[39m*\u001b[39margs, \u001b[39m*\u001b[39m\u001b[39m*\u001b[39mparams):\n\u001b[0;32m-> 1765\u001b[0m   \u001b[39mreturn\u001b[39;00m call_bind(\u001b[39mself\u001b[39;49m, fun, \u001b[39m*\u001b[39;49margs, \u001b[39m*\u001b[39;49m\u001b[39m*\u001b[39;49mparams)\n",
      "File \u001b[0;32m~/anaconda3/envs/diffstuff/lib/python3.10/site-packages/jax/core.py:1781\u001b[0m, in \u001b[0;36mcall_bind\u001b[0;34m(primitive, fun, *args, **params)\u001b[0m\n\u001b[1;32m   1779\u001b[0m tracers \u001b[39m=\u001b[39m \u001b[39mmap\u001b[39m(top_trace\u001b[39m.\u001b[39mfull_raise, args)\n\u001b[1;32m   1780\u001b[0m fun_ \u001b[39m=\u001b[39m lu\u001b[39m.\u001b[39mannotate(fun_, fun\u001b[39m.\u001b[39min_type)\n\u001b[0;32m-> 1781\u001b[0m outs \u001b[39m=\u001b[39m top_trace\u001b[39m.\u001b[39;49mprocess_call(primitive, fun_, tracers, params)\n\u001b[1;32m   1782\u001b[0m \u001b[39mreturn\u001b[39;00m \u001b[39mmap\u001b[39m(full_lower, apply_todos(env_trace_todo(), outs))\n",
      "File \u001b[0;32m~/anaconda3/envs/diffstuff/lib/python3.10/site-packages/jax/core.py:678\u001b[0m, in \u001b[0;36mEvalTrace.process_call\u001b[0;34m(self, primitive, f, tracers, params)\u001b[0m\n\u001b[1;32m    677\u001b[0m \u001b[39mdef\u001b[39;00m \u001b[39mprocess_call\u001b[39m(\u001b[39mself\u001b[39m, primitive, f, tracers, params):\n\u001b[0;32m--> 678\u001b[0m   \u001b[39mreturn\u001b[39;00m primitive\u001b[39m.\u001b[39;49mimpl(f, \u001b[39m*\u001b[39;49mtracers, \u001b[39m*\u001b[39;49m\u001b[39m*\u001b[39;49mparams)\n",
      "File \u001b[0;32m~/anaconda3/envs/diffstuff/lib/python3.10/site-packages/jax/_src/dispatch.py:185\u001b[0m, in \u001b[0;36m_xla_call_impl\u001b[0;34m(***failed resolving arguments***)\u001b[0m\n\u001b[1;32m    182\u001b[0m compiled_fun \u001b[39m=\u001b[39m _xla_callable(fun, device, backend, name, donated_invars,\n\u001b[1;32m    183\u001b[0m                              keep_unused, \u001b[39m*\u001b[39marg_specs)\n\u001b[1;32m    184\u001b[0m \u001b[39mtry\u001b[39;00m:\n\u001b[0;32m--> 185\u001b[0m   \u001b[39mreturn\u001b[39;00m compiled_fun(\u001b[39m*\u001b[39;49margs)\n\u001b[1;32m    186\u001b[0m \u001b[39mexcept\u001b[39;00m \u001b[39mFloatingPointError\u001b[39;00m:\n\u001b[1;32m    187\u001b[0m   \u001b[39massert\u001b[39;00m config\u001b[39m.\u001b[39mjax_debug_nans \u001b[39mor\u001b[39;00m config\u001b[39m.\u001b[39mjax_debug_infs  \u001b[39m# compiled_fun can only raise in this case\u001b[39;00m\n",
      "File \u001b[0;32m~/anaconda3/envs/diffstuff/lib/python3.10/site-packages/jax/_src/dispatch.py:615\u001b[0m, in \u001b[0;36m_execute_compiled\u001b[0;34m(name, compiled, input_handler, output_buffer_counts, result_handlers, effects, kept_var_idx, *args)\u001b[0m\n\u001b[1;32m    613\u001b[0m \u001b[39mif\u001b[39;00m effects:\n\u001b[1;32m    614\u001b[0m   input_bufs_flat, token_handler \u001b[39m=\u001b[39m _add_tokens(effects, device, input_bufs_flat)\n\u001b[0;32m--> 615\u001b[0m out_bufs_flat \u001b[39m=\u001b[39m compiled\u001b[39m.\u001b[39;49mexecute(input_bufs_flat)\n\u001b[1;32m    616\u001b[0m check_special(name, out_bufs_flat)\n\u001b[1;32m    617\u001b[0m \u001b[39mif\u001b[39;00m output_buffer_counts \u001b[39mis\u001b[39;00m \u001b[39mNone\u001b[39;00m:\n",
      "\u001b[0;31mKeyboardInterrupt\u001b[0m: "
     ]
    }
   ],
   "source": [
    "svi_result = svi.run(subkey2, 1000)"
   ]
  },
  {
   "cell_type": "code",
   "execution_count": null,
   "id": "f7ab3837",
   "metadata": {},
   "outputs": [
    {
     "data": {
      "text/plain": [
       "{'auto_loc': DeviceArray([-0.6060317 , -0.22931151, -0.49325305], dtype=float32),\n",
       " 'auto_scale_tril': DeviceArray([[ 0.04770408,  0.        ,  0.        ],\n",
       "              [-0.00432543,  0.02005947,  0.        ],\n",
       "              [-0.05101621, -0.17809437,  0.09513464]], dtype=float32)}"
      ]
     },
     "execution_count": 30,
     "metadata": {},
     "output_type": "execute_result"
    }
   ],
   "source": [
    "svi_result.params"
   ]
  },
  {
   "cell_type": "code",
   "execution_count": null,
   "id": "b918026d",
   "metadata": {},
   "outputs": [],
   "source": [
    "samples = guide_cpl.sample_posterior(subkey3, svi_result.params, (10000,))\n",
    "idata_num = az.from_dict(samples)"
   ]
  },
  {
   "cell_type": "code",
   "execution_count": null,
   "id": "3e4be6b4",
   "metadata": {},
   "outputs": [
    {
     "data": {
      "text/html": [
       "<div>\n",
       "<style scoped>\n",
       "    .dataframe tbody tr th:only-of-type {\n",
       "        vertical-align: middle;\n",
       "    }\n",
       "\n",
       "    .dataframe tbody tr th {\n",
       "        vertical-align: top;\n",
       "    }\n",
       "\n",
       "    .dataframe thead th {\n",
       "        text-align: right;\n",
       "    }\n",
       "</style>\n",
       "<table border=\"1\" class=\"dataframe\">\n",
       "  <thead>\n",
       "    <tr style=\"text-align: right;\">\n",
       "      <th></th>\n",
       "      <th>mean</th>\n",
       "      <th>sd</th>\n",
       "      <th>hdi_3%</th>\n",
       "      <th>hdi_97%</th>\n",
       "    </tr>\n",
       "  </thead>\n",
       "  <tbody>\n",
       "    <tr>\n",
       "      <th>Omega_m</th>\n",
       "      <td>0.353</td>\n",
       "      <td>0.011</td>\n",
       "      <td>0.332</td>\n",
       "      <td>0.373</td>\n",
       "    </tr>\n",
       "    <tr>\n",
       "      <th>w0</th>\n",
       "      <td>-1.141</td>\n",
       "      <td>0.101</td>\n",
       "      <td>-1.342</td>\n",
       "      <td>-0.958</td>\n",
       "    </tr>\n",
       "    <tr>\n",
       "      <th>wa</th>\n",
       "      <td>-2.400</td>\n",
       "      <td>0.965</td>\n",
       "      <td>-4.203</td>\n",
       "      <td>-0.571</td>\n",
       "    </tr>\n",
       "  </tbody>\n",
       "</table>\n",
       "</div>"
      ],
      "text/plain": [
       "          mean     sd  hdi_3%  hdi_97%\n",
       "Omega_m  0.353  0.011   0.332    0.373\n",
       "w0      -1.141  0.101  -1.342   -0.958\n",
       "wa      -2.400  0.965  -4.203   -0.571"
      ]
     },
     "execution_count": 26,
     "metadata": {},
     "output_type": "execute_result"
    }
   ],
   "source": [
    "az.summary(idata_num, kind='stats')"
   ]
  },
  {
   "cell_type": "code",
   "execution_count": null,
   "id": "e60e3763",
   "metadata": {},
   "outputs": [],
   "source": [
    "Omegam_mean = idata_num.posterior.Omega_m.mean()\n",
    "Omegam_mean = Omegam_mean.to_numpy()"
   ]
  },
  {
   "cell_type": "code",
   "execution_count": 44,
   "id": "e60e3763",
   "metadata": {},
   "outputs": [],
   "source": [
    "w0_m = idata_num.posterior.w0.mean()\n",
    "w0_m = w0_m.to_numpy()"
   ]
  },
  {
   "cell_type": "code",
   "execution_count": 45,
   "id": "e60e3763",
   "metadata": {},
   "outputs": [],
   "source": [
    "wa_m = idata_num.posterior.wa.mean()\n",
    "wa_m = wa_m.to_numpy()"
   ]
  },
  {
   "cell_type": "code",
   "execution_count": 51,
   "id": "d4fb4d96",
   "metadata": {},
   "outputs": [],
   "source": [
    "sampled_means = {'Omega_m': Omegam_mean,\n",
    "'w0' : w0_m,\n",
    "'wa' : wa_m\n",
    "}"
   ]
  },
  {
   "cell_type": "code",
   "execution_count": 46,
   "id": "e4b16ac4",
   "metadata": {},
   "outputs": [],
   "source": [
    "var_dict = {\"Omega_m\" : r\"$\\Omega_{m,0}$\",\n",
    "               \"w0\" :  r\"$w_0$\",\n",
    "               \"wa\" : r\"$w_a$\"}   \n",
    "\n",
    "ref_dict = {var_dict[\"Omega_m\"] : true_param['Omega_m'],\n",
    "               var_dict[\"w0\"] :  true_param['w0'],\n",
    "               var_dict[\"wa\"] : true_param['wa']}   \n",
    " "
   ]
  },
  {
   "cell_type": "code",
   "execution_count": null,
   "id": "2bf28790",
   "metadata": {},
   "outputs": [],
   "source": [
    "              \n",
    "labeller = az.labels.MapLabeller(var_name_map=var_dict)\n",
    "\n",
    "az.plot_pair(idata_num, kind='kde', marginals=True, figsize=(10,10), textsize=16, contour=False, labeller=labeller, reference_values=ref_dict)"
   ]
  },
  {
   "cell_type": "code",
   "execution_count": 53,
   "id": "90910579",
   "metadata": {},
   "outputs": [
    {
     "data": {
      "text/plain": [
       "[<matplotlib.lines.Line2D at 0x7f852266ea70>]"
      ]
     },
     "execution_count": 53,
     "metadata": {},
     "output_type": "execute_result"
    },
    {
     "data": {
      "image/png": "[encoded data removed]",
      "text/plain": [
       "<Figure size 432x288 with 1 Axes>"
      ]
     },
     "metadata": {
      "needs_background": "light"
     },
     "output_type": "display_data"
    }
   ],
   "source": [
    "plt.plot(svi_result.losses)"
   ]
  },
  {
   "cell_type": "code",
   "execution_count": 60,
   "id": "781e8bee",
   "metadata": {},
   "outputs": [
    {
     "data": {
      "text/plain": [
       "Text(0, 0.5, 'distance modulus')"
      ]
     },
     "execution_count": 60,
     "metadata": {},
     "output_type": "execute_result"
    },
    {
     "data": {
      "image/png": "[encoded data removed]",
      "text/plain": [
       "<Figure size 864x432 with 1 Axes>"
      ]
     },
     "metadata": {
      "needs_background": "light"
     },
     "output_type": "display_data"
    }
   ],
   "source": [
    "plt.figure(figsize=(12,6))\n",
    "plt.errorbar(z, dist_mod, yerr = sigma, marker='+', ms=1, linestyle='')\n",
    "plt.plot(z, distance_modulus(sampled_means, z))\n",
    "plt.xlabel('redshift')\n",
    "plt.ylabel('distance modulus')"
   ]
  },
  {
   "cell_type": "code",
   "execution_count": 61,
   "id": "f86f3512",
   "metadata": {},
   "outputs": [],
   "source": [
    "from numpyro.infer import MCMC, NUTS"
   ]
  },
  {
   "cell_type": "code",
   "execution_count": 62,
   "id": "b9bea22d",
   "metadata": {},
   "outputs": [
    {
     "name": "stderr",
     "output_type": "stream",
     "text": [
      "  0%|          | 0/1000 [00:00<?, ?it/s]/home/santiago/anaconda3/envs/diffstuff/lib/python3.10/site-packages/jax/_src/numpy/lax_numpy.py:4459: UserWarning: Explicitly requested dtype <class 'jax.numpy.int64'> requested in astype is not available, and will be truncated to dtype int32. To enable more dtypes, set the jax_enable_x64 configuration option or the JAX_ENABLE_X64 shell environment variable. See https://github.com/google/jax#current-gotchas for more.\n",
      "  lax_internal._check_user_dtype_supported(dtype, \"astype\")\n",
      "sample: 100%|██████████| 1000/1000 [05:03<00:00,  3.30it/s, 115 steps of size 4.55e-02. acc. prob=0.94]\n"
     ]
    },
    {
     "name": "stdout",
     "output_type": "stream",
     "text": [
      "\n",
      "                mean       std    median      5.0%     95.0%     n_eff     r_hat\n",
      "   Omega_m      0.24      0.02      0.25      0.22      0.27    127.40      1.00\n",
      "        w0     -1.03      0.02     -1.03     -1.06     -1.00    136.63      1.00\n",
      "        wa     -0.03      0.17     -0.03     -0.34      0.25    129.12      1.00\n",
      "\n",
      "Number of divergences: 0\n"
     ]
    }
   ],
   "source": [
    "mcmc_key = random.PRNGKey(1234)\n",
    "kernel = NUTS(model_cpl)\n",
    "mcmc = MCMC(kernel, num_warmup=250, num_samples=750)\n",
    "mcmc.run(mcmc_key, z, dist_mod, sigma)\n",
    "mcmc.print_summary()"
   ]
  },
  {
   "cell_type": "code",
   "execution_count": 69,
   "id": "d2b2e174",
   "metadata": {},
   "outputs": [
    {
     "name": "stdout",
     "output_type": "stream",
     "text": [
      "\n",
      "                mean       std    median      5.0%     95.0%     n_eff     r_hat\n",
      "   Omega_m      0.24      0.02      0.25      0.22      0.27    127.40      1.00\n",
      "        w0     -1.03      0.02     -1.03     -1.06     -1.00    136.63      1.00\n",
      "        wa     -0.03      0.17     -0.03     -0.34      0.25    129.12      1.00\n",
      "\n",
      "Number of divergences: 0\n"
     ]
    }
   ],
   "source": [
    "mcmc.print_summary()"
   ]
  },
  {
   "cell_type": "code",
   "execution_count": 63,
   "id": "02b6bcec",
   "metadata": {},
   "outputs": [
    {
     "data": {
      "text/plain": [
       "{'h': 0.7, 'Omega_m': 0.29, 'w0': -1.02, 'wa': 0.01}"
      ]
     },
     "execution_count": 63,
     "metadata": {},
     "output_type": "execute_result"
    }
   ],
   "source": [
    "true_param"
   ]
  },
  {
   "cell_type": "code",
   "execution_count": 67,
   "id": "60209949",
   "metadata": {},
   "outputs": [],
   "source": [
    "from numpyro.distributions.transforms import AffineTransform\n",
    "from numpyro.infer import MCMC, NUTS, Predictive"
   ]
  },
  {
   "cell_type": "code",
   "execution_count": null,
   "id": "3647458a",
   "metadata": {},
   "outputs": [],
   "source": []
  },
  {
   "cell_type": "code",
   "execution_count": 72,
   "id": "7768264e",
   "metadata": {},
   "outputs": [],
   "source": [
    "posterior_samples = mcmc.get_samples()\n",
    "#posterior_predictive = Predictive(model_cpl, posterior_samples)(\n",
    "#    mcmc_key, dist_mod, \n",
    "#)\n",
    "#prior = Predictive(model, num_samples=500)(\n",
    "#    PRNGKey(2), eight_school_data[\"J\"], eight_school_data[\"sigma\"]\n",
    "#)\n",
    "\n",
    "numpyro_data = az.from_dict(\n",
    "    posterior_samples\n",
    "    #prior=prior,\n",
    "    #posterior_predictive=posterior_predictive,\n",
    "    #coords={\"school\": np.arange(eight_school_data[\"J\"])},\n",
    "    #dims={\"theta\": [\"school\"]},\n",
    ")"
   ]
  },
  {
   "cell_type": "code",
   "execution_count": 81,
   "id": "22f718a0",
   "metadata": {},
   "outputs": [
    {
     "data": {
      "text/plain": [
       "array([[<AxesSubplot:ylabel='$\\\\Omega_{m,0}$'>, <AxesSubplot:>,\n",
       "        <AxesSubplot:>],\n",
       "       [<AxesSubplot:ylabel='$w_0$'>, <AxesSubplot:>, <AxesSubplot:>],\n",
       "       [<AxesSubplot:xlabel='$\\\\Omega_{m,0}$', ylabel='$w_a$'>,\n",
       "        <AxesSubplot:xlabel='$w_0$'>, <AxesSubplot:xlabel='$w_a$'>]],\n",
       "      dtype=object)"
      ]
     },
     "execution_count": 81,
     "metadata": {},
     "output_type": "execute_result"
    },
    {
     "data": {
      "image/png": "[encoded data removed]",
      "text/plain": [
       "<Figure size 864x720 with 6 Axes>"
      ]
     },
     "metadata": {
      "needs_background": "light"
     },
     "output_type": "display_data"
    }
   ],
   "source": [
    "fig, ax = plt.subplots(3,3, figsize=(12,10))\n",
    "labeller = az.labels.MapLabeller(var_name_map=var_dict)\n",
    "\n",
    "az.plot_pair(numpyro_data, kind='kde', marginals=True, figsize=(10,10), textsize=16, contour=False, labeller=labeller, reference_values=ref_dict, ax=ax, marginal_kwargs={'color':'green'},\n",
    "kde_kwargs={\"contourf_kwargs\": {\"cmap\": \"Greens\"}})\n",
    "\n",
    "az.plot_pair(idata_num, kind='kde', marginals=True, figsize=(10,10), textsize=16, contour=False, labeller=labeller, reference_values=ref_dict, kde_kwargs={\"contourf_kwargs\": {\"cmap\": \"Blues\"}},\n",
    "ax=ax, marginal_kwargs={'color':'blue'})"
   ]
  },
  {
   "cell_type": "markdown",
   "id": "6f45cbf7",
   "metadata": {},
   "source": [
    "## emcee"
   ]
  },
  {
   "cell_type": "code",
   "execution_count": 16,
   "id": "74f60ba4",
   "metadata": {},
   "outputs": [
    {
     "data": {
      "text/plain": [
       "DeviceArray([33.254223, 33.443607, 33.882393, ..., 45.211433, 45.212746,\n",
       "             45.21319 ], dtype=float32)"
      ]
     },
     "execution_count": 16,
     "metadata": {},
     "output_type": "execute_result"
    }
   ],
   "source": [
    "distance_modulus(true_param, np.asarray(z))"
   ]
  },
  {
   "cell_type": "code",
   "execution_count": 17,
   "id": "755c5c3b",
   "metadata": {},
   "outputs": [],
   "source": [
    "from emcee_jax.host_callback import wrap_python_log_prob_fn"
   ]
  },
  {
   "cell_type": "code",
   "execution_count": 18,
   "id": "52dabb2b",
   "metadata": {},
   "outputs": [
    {
     "data": {
      "text/plain": [
       "array([33.254223, 33.443607, 33.882393, ..., 45.211433, 45.212746,\n",
       "       45.21319 ], dtype=float32)"
      ]
     },
     "execution_count": 18,
     "metadata": {},
     "output_type": "execute_result"
    }
   ],
   "source": [
    "np.asarray(distance_modulus(true_param, np.asarray(z)))"
   ]
  },
  {
   "cell_type": "code",
   "execution_count": 19,
   "id": "d23104dd",
   "metadata": {},
   "outputs": [],
   "source": [
    "def log_likelihood(x, y, sig, theta_dict):\n",
    "    distance_mod = np.asarray(distance_modulus(theta_dict, x) , dtype=float)\n",
    "    log_like = -0.5 * ((y - distance_mod)**2.0/sig**2.0)\n",
    "    return log_like"
   ]
  },
  {
   "cell_type": "code",
   "execution_count": 20,
   "id": "f7e8da81",
   "metadata": {},
   "outputs": [],
   "source": [
    "def log_prior(Omega_m=0.3, w_0=-1, w_1=0):\n",
    "    '''returns the log of the propability densities up to a constant'''\n",
    "    if 0.0 < Omega_m < 1.0:\n",
    "        return -((w_0+1.0)**2.0/5.0**2.0 + (w_1)**2.0/5.0**2.0) \n",
    "    return -100000000"
   ]
  },
  {
   "cell_type": "code",
   "execution_count": 23,
   "id": "e23e4ca9",
   "metadata": {},
   "outputs": [],
   "source": [
    "@wrap_python_log_prob_fn\n",
    "def log_probability(theta, x=z, y=dist_mod, sig=sigma):\n",
    "    '''performs the multiplication prior*likelihood'''\n",
    "    keys = ['Omega_m', 'w_0', 'w_1']\n",
    "    theta_dict = dict(zip(keys, theta))\n",
    "    lp = log_prior(**theta_dict)\n",
    "    if not jnp.isfinite(lp):\n",
    "        return -jnp.inf\n",
    "    return lp + log_likelihood( x, y, sig, theta_dict)\n",
    "    #return log_likelihood( x, y, sig, theta_dict)"
   ]
  },
  {
   "cell_type": "code",
   "execution_count": 24,
   "id": "7f08f7e4",
   "metadata": {},
   "outputs": [
    {
     "data": {
      "text/plain": [
       "DeviceArray([ 0.7 ,  0.29, -1.02,  0.01], dtype=float32)"
      ]
     },
     "execution_count": 24,
     "metadata": {},
     "output_type": "execute_result"
    }
   ],
   "source": [
    "trp = jnp.asarray(list(true_param.values()))\n",
    "trp"
   ]
  },
  {
   "cell_type": "code",
   "execution_count": 25,
   "id": "9285f146",
   "metadata": {},
   "outputs": [
    {
     "data": {
      "text/plain": [
       "DeviceArray([0.01022949, 0.01116165, 0.01366114, ..., 1.4987795 ,\n",
       "             1.4995131 , 1.499763  ], dtype=float32)"
      ]
     },
     "execution_count": 25,
     "metadata": {},
     "output_type": "execute_result"
    }
   ],
   "source": [
    "z"
   ]
  },
  {
   "cell_type": "code",
   "execution_count": 26,
   "id": "add2a59d",
   "metadata": {},
   "outputs": [
    {
     "data": {
      "text/plain": [
       "DeviceArray([33.25524 , 33.444717, 33.88375 , ..., 45.303013, 45.304356,\n",
       "             45.30481 ], dtype=float32)"
      ]
     },
     "execution_count": 26,
     "metadata": {},
     "output_type": "execute_result"
    }
   ],
   "source": [
    "dist_mod"
   ]
  },
  {
   "cell_type": "code",
   "execution_count": 27,
   "id": "14d57026",
   "metadata": {},
   "outputs": [
    {
     "data": {
      "text/plain": [
       "DeviceArray([0.00101775, 0.00110999, 0.00135687, ..., 0.09158024,\n",
       "             0.0916096 , 0.0916196 ], dtype=float32)"
      ]
     },
     "execution_count": 27,
     "metadata": {},
     "output_type": "execute_result"
    }
   ],
   "source": [
    "sigma"
   ]
  },
  {
   "cell_type": "code",
   "execution_count": 29,
   "id": "08b00acb",
   "metadata": {},
   "outputs": [
    {
     "name": "stderr",
     "output_type": "stream",
     "text": [
      "ERROR:absl:Outside call <jax.experimental.host_callback._CallbackWrapper object at 0x7f6eb5463ee0> threw exception Callback func <jax.experimental.host_callback._CallbackWrapper object at 0x7f6eb5463ee0> should have returned a result with abstract values ShapedArray(float32[]) but returned ShapedArray(float32[2000]).\n"
     ]
    },
    {
     "ename": "XlaRuntimeError",
     "evalue": "INTERNAL: Generated function failed: TypeError: Callback func <jax.experimental.host_callback._CallbackWrapper object at 0x7f6eb5463ee0> should have returned a result with abstract values ShapedArray(float32[]) but returned ShapedArray(float32[2000])\n\nAt:\n  /home/santiago/anaconda3/envs/diffstuff/lib/python3.10/site-packages/jax/experimental/host_callback.py(1296): _outside_call_run_callback\n  /home/santiago/anaconda3/envs/diffstuff/lib/python3.10/site-packages/jax/experimental/host_callback.py(1173): wrapped_callback\n  /home/santiago/anaconda3/envs/diffstuff/lib/python3.10/site-packages/jax/_src/dispatch.py(615): _execute_compiled\n  /home/santiago/anaconda3/envs/diffstuff/lib/python3.10/site-packages/jax/_src/dispatch.py(100): apply_primitive\n  /home/santiago/anaconda3/envs/diffstuff/lib/python3.10/site-packages/jax/experimental/host_callback.py(984): _outside_call_impl\n  /home/santiago/anaconda3/envs/diffstuff/lib/python3.10/site-packages/jax/core.py(675): process_primitive\n  /home/santiago/anaconda3/envs/diffstuff/lib/python3.10/site-packages/jax/core.py(326): bind_with_trace\n  /home/santiago/anaconda3/envs/diffstuff/lib/python3.10/site-packages/jax/core.py(323): bind\n  /home/santiago/anaconda3/envs/diffstuff/lib/python3.10/site-packages/jax/core.py(390): eval_jaxpr\n  /home/santiago/anaconda3/envs/diffstuff/lib/python3.10/site-packages/jax/core.py(192): jaxpr_as_fun\n  /home/santiago/anaconda3/envs/diffstuff/lib/python3.10/site-packages/jax/_src/custom_batching.py(128): custom_vmap_impl\n  /home/santiago/anaconda3/envs/diffstuff/lib/python3.10/site-packages/jax/core.py(675): process_primitive\n  /home/santiago/anaconda3/envs/diffstuff/lib/python3.10/site-packages/jax/core.py(326): bind_with_trace\n  /home/santiago/anaconda3/envs/diffstuff/lib/python3.10/site-packages/jax/core.py(323): bind\n  /home/santiago/anaconda3/envs/diffstuff/lib/python3.10/site-packages/jax/_src/custom_batching.py(71): __call__\n  /home/santiago/anaconda3/envs/diffstuff/lib/python3.10/site-packages/jax/_src/traceback_util.py(162): reraise_with_filtered_traceback\n  /tmp/ipykernel_124789/1528938840.py(1): <cell line: 1>\n  /home/santiago/anaconda3/envs/diffstuff/lib/python3.10/site-packages/IPython/core/interactiveshell.py(3397): run_code\n  /home/santiago/anaconda3/envs/diffstuff/lib/python3.10/site-packages/IPython/core/interactiveshell.py(3337): run_ast_nodes\n  /home/santiago/anaconda3/envs/diffstuff/lib/python3.10/site-packages/IPython/core/interactiveshell.py(3134): run_cell_async\n  /home/santiago/anaconda3/envs/diffstuff/lib/python3.10/site-packages/IPython/core/async_helpers.py(129): _pseudo_sync_runner\n  /home/santiago/anaconda3/envs/diffstuff/lib/python3.10/site-packages/IPython/core/interactiveshell.py(2935): _run_cell\n  /home/santiago/anaconda3/envs/diffstuff/lib/python3.10/site-packages/IPython/core/interactiveshell.py(2880): run_cell\n  /home/santiago/anaconda3/envs/diffstuff/lib/python3.10/site-packages/ipykernel/zmqshell.py(532): run_cell\n  /home/santiago/anaconda3/envs/diffstuff/lib/python3.10/site-packages/ipykernel/ipkernel.py(360): do_execute\n  /home/santiago/anaconda3/envs/diffstuff/lib/python3.10/site-packages/ipykernel/kernelbase.py(662): execute_request\n  /home/santiago/anaconda3/envs/diffstuff/lib/python3.10/site-packages/ipykernel/kernelbase.py(367): dispatch_shell\n  /home/santiago/anaconda3/envs/diffstuff/lib/python3.10/site-packages/ipykernel/kernelbase.py(460): process_one\n  /home/santiago/anaconda3/envs/diffstuff/lib/python3.10/site-packages/ipykernel/kernelbase.py(471): dispatch_queue\n  /home/santiago/anaconda3/envs/diffstuff/lib/python3.10/asyncio/events.py(80): _run\n  /home/santiago/anaconda3/envs/diffstuff/lib/python3.10/asyncio/base_events.py(1896): _run_once\n  /home/santiago/anaconda3/envs/diffstuff/lib/python3.10/asyncio/base_events.py(600): run_forever\n  /home/santiago/anaconda3/envs/diffstuff/lib/python3.10/site-packages/tornado/platform/asyncio.py(199): start\n  /home/santiago/anaconda3/envs/diffstuff/lib/python3.10/site-packages/ipykernel/kernelapp.py(677): start\n  /home/santiago/anaconda3/envs/diffstuff/lib/python3.10/site-packages/traitlets/config/application.py(846): launch_instance\n  /home/santiago/anaconda3/envs/diffstuff/lib/python3.10/site-packages/ipykernel_launcher.py(16): <module>\n  /home/santiago/anaconda3/envs/diffstuff/lib/python3.10/runpy.py(86): _run_code\n  /home/santiago/anaconda3/envs/diffstuff/lib/python3.10/runpy.py(196): _run_module_as_main\n",
     "output_type": "error",
     "traceback": [
      "\u001b[0;31m---------------------------------------------------------------------------\u001b[0m",
      "\u001b[0;31mJaxStackTraceBeforeTransformation\u001b[0m         Traceback (most recent call last)",
      "File \u001b[0;32m~/anaconda3/envs/diffstuff/lib/python3.10/runpy.py:191\u001b[0m, in \u001b[0;36m_run_module_as_main\u001b[0;34m(***failed resolving arguments***)\u001b[0m\n\u001b[1;32m    190\u001b[0m \u001b[39mexcept\u001b[39;00m _Error \u001b[39mas\u001b[39;00m exc:\n\u001b[0;32m--> 191\u001b[0m     msg \u001b[39m=\u001b[39m \u001b[39m\"\u001b[39m\u001b[39m%s\u001b[39;00m\u001b[39m: \u001b[39m\u001b[39m%s\u001b[39;00m\u001b[39m\"\u001b[39m \u001b[39m%\u001b[39m (sys\u001b[39m.\u001b[39mexecutable, exc)\n\u001b[1;32m    192\u001b[0m     sys\u001b[39m.\u001b[39mexit(msg)\n",
      "File \u001b[0;32m~/anaconda3/envs/diffstuff/lib/python3.10/runpy.py:75\u001b[0m, in \u001b[0;36m_run_code\u001b[0;34m(***failed resolving arguments***)\u001b[0m\n\u001b[1;32m     74\u001b[0m loader \u001b[39m=\u001b[39m mod_spec\u001b[39m.\u001b[39mloader\n\u001b[0;32m---> 75\u001b[0m fname \u001b[39m=\u001b[39m mod_spec\u001b[39m.\u001b[39morigin\n\u001b[1;32m     76\u001b[0m cached \u001b[39m=\u001b[39m mod_spec\u001b[39m.\u001b[39mcached\n",
      "File \u001b[0;32m~/anaconda3/envs/diffstuff/lib/python3.10/site-packages/ipykernel_launcher.py:12\u001b[0m, in \u001b[0;36m<module>\u001b[0;34m\u001b[0m\n\u001b[1;32m      9\u001b[0m \u001b[39mif\u001b[39;00m \u001b[39m__name__\u001b[39m \u001b[39m==\u001b[39m \u001b[39m'\u001b[39m\u001b[39m__main__\u001b[39m\u001b[39m'\u001b[39m:\n\u001b[1;32m     10\u001b[0m     \u001b[39m# Remove the CWD from sys.path while we load stuff.\u001b[39;00m\n\u001b[1;32m     11\u001b[0m     \u001b[39m# This is added back by InteractiveShellApp.init_path()\u001b[39;00m\n\u001b[0;32m---> 12\u001b[0m     \u001b[39mif\u001b[39;00m sys\u001b[39m.\u001b[39mpath[\u001b[39m0\u001b[39m] \u001b[39m==\u001b[39m \u001b[39m'\u001b[39m\u001b[39m'\u001b[39m:\n\u001b[1;32m     13\u001b[0m         \u001b[39mdel\u001b[39;00m sys\u001b[39m.\u001b[39mpath[\u001b[39m0\u001b[39m]\n",
      "File \u001b[0;32m~/anaconda3/envs/diffstuff/lib/python3.10/site-packages/traitlets/config/application.py:844\u001b[0m, in \u001b[0;36mApplication.launch_instance\u001b[0;34m(***failed resolving arguments***)\u001b[0m\n\u001b[1;32m    840\u001b[0m \u001b[39m\"\"\"Launch a global instance of this Application\u001b[39;00m\n\u001b[1;32m    841\u001b[0m \n\u001b[1;32m    842\u001b[0m \u001b[39mIf a global instance already exists, this reinitializes and starts it\u001b[39;00m\n\u001b[1;32m    843\u001b[0m \u001b[39m\"\"\"\u001b[39;00m\n\u001b[0;32m--> 844\u001b[0m app \u001b[39m=\u001b[39m \u001b[39mcls\u001b[39m\u001b[39m.\u001b[39minstance(\u001b[39m*\u001b[39m\u001b[39m*\u001b[39mkwargs)\n\u001b[1;32m    845\u001b[0m app\u001b[39m.\u001b[39minitialize(argv)\n",
      "File \u001b[0;32m~/anaconda3/envs/diffstuff/lib/python3.10/site-packages/ipykernel/kernelapp.py:668\u001b[0m, in \u001b[0;36mIPKernelApp.start\u001b[0;34m(***failed resolving arguments***)\u001b[0m\n\u001b[1;32m    667\u001b[0m \u001b[39mif\u001b[39;00m \u001b[39mself\u001b[39m\u001b[39m.\u001b[39mtrio_loop:\n\u001b[0;32m--> 668\u001b[0m     \u001b[39mfrom\u001b[39;00m \u001b[39mipykernel\u001b[39;00m\u001b[39m.\u001b[39;00m\u001b[39mtrio_runner\u001b[39;00m \u001b[39mimport\u001b[39;00m TrioRunner\n\u001b[1;32m    669\u001b[0m     tr \u001b[39m=\u001b[39m TrioRunner()\n",
      "File \u001b[0;32m~/anaconda3/envs/diffstuff/lib/python3.10/site-packages/tornado/platform/asyncio.py:195\u001b[0m, in \u001b[0;36mBaseAsyncIOLoop.start\u001b[0;34m(***failed resolving arguments***)\u001b[0m\n\u001b[1;32m    194\u001b[0m \u001b[39mexcept\u001b[39;00m (\u001b[39mRuntimeError\u001b[39;00m, \u001b[39mAssertionError\u001b[39;00m):\n\u001b[0;32m--> 195\u001b[0m     old_loop \u001b[39m=\u001b[39m \u001b[39mNone\u001b[39;00m  \u001b[39m# type: ignore\u001b[39;00m\n\u001b[1;32m    196\u001b[0m \u001b[39mtry\u001b[39;00m:\n",
      "File \u001b[0;32m~/anaconda3/envs/diffstuff/lib/python3.10/asyncio/base_events.py:594\u001b[0m, in \u001b[0;36mBaseEventLoop.run_forever\u001b[0;34m(***failed resolving arguments***)\u001b[0m\n\u001b[1;32m    592\u001b[0m \u001b[39mself\u001b[39m\u001b[39m.\u001b[39m_thread_id \u001b[39m=\u001b[39m threading\u001b[39m.\u001b[39mget_ident()\n\u001b[0;32m--> 594\u001b[0m old_agen_hooks \u001b[39m=\u001b[39m sys\u001b[39m.\u001b[39mget_asyncgen_hooks()\n\u001b[1;32m    595\u001b[0m sys\u001b[39m.\u001b[39mset_asyncgen_hooks(firstiter\u001b[39m=\u001b[39m\u001b[39mself\u001b[39m\u001b[39m.\u001b[39m_asyncgen_firstiter_hook,\n\u001b[1;32m    596\u001b[0m                        finalizer\u001b[39m=\u001b[39m\u001b[39mself\u001b[39m\u001b[39m.\u001b[39m_asyncgen_finalizer_hook)\n",
      "File \u001b[0;32m~/anaconda3/envs/diffstuff/lib/python3.10/asyncio/base_events.py:1860\u001b[0m, in \u001b[0;36mBaseEventLoop._run_once\u001b[0;34m(***failed resolving arguments***)\u001b[0m\n\u001b[1;32m   1858\u001b[0m     timeout \u001b[39m=\u001b[39m \u001b[39mmin\u001b[39m(\u001b[39mmax\u001b[39m(\u001b[39m0\u001b[39m, when \u001b[39m-\u001b[39m \u001b[39mself\u001b[39m\u001b[39m.\u001b[39mtime()), MAXIMUM_SELECT_TIMEOUT)\n\u001b[0;32m-> 1860\u001b[0m event_list \u001b[39m=\u001b[39m \u001b[39mself\u001b[39m\u001b[39m.\u001b[39m_selector\u001b[39m.\u001b[39mselect(timeout)\n\u001b[1;32m   1861\u001b[0m \u001b[39mself\u001b[39m\u001b[39m.\u001b[39m_process_events(event_list)\n",
      "File \u001b[0;32m~/anaconda3/envs/diffstuff/lib/python3.10/asyncio/events.py:80\u001b[0m, in \u001b[0;36mHandle._run\u001b[0;34m(***failed resolving arguments***)\u001b[0m\n\u001b[1;32m     79\u001b[0m \u001b[39mtry\u001b[39;00m:\n\u001b[0;32m---> 80\u001b[0m     \u001b[39mself\u001b[39m\u001b[39m.\u001b[39m_context\u001b[39m.\u001b[39mrun(\u001b[39mself\u001b[39m\u001b[39m.\u001b[39m_callback, \u001b[39m*\u001b[39m\u001b[39mself\u001b[39m\u001b[39m.\u001b[39m_args)\n\u001b[1;32m     81\u001b[0m \u001b[39mexcept\u001b[39;00m (\u001b[39mSystemExit\u001b[39;00m, \u001b[39mKeyboardInterrupt\u001b[39;00m):\n",
      "File \u001b[0;32m~/anaconda3/envs/diffstuff/lib/python3.10/site-packages/ipykernel/kernelbase.py:471\u001b[0m, in \u001b[0;36mKernel.dispatch_queue\u001b[0;34m(***failed resolving arguments***)\u001b[0m\n\u001b[1;32m    470\u001b[0m \u001b[39mtry\u001b[39;00m:\n\u001b[0;32m--> 471\u001b[0m     \u001b[39mawait\u001b[39;00m \u001b[39mself\u001b[39m\u001b[39m.\u001b[39mprocess_one()\n\u001b[1;32m    472\u001b[0m \u001b[39mexcept\u001b[39;00m \u001b[39mException\u001b[39;00m:\n",
      "File \u001b[0;32m~/anaconda3/envs/diffstuff/lib/python3.10/site-packages/ipykernel/kernelbase.py:457\u001b[0m, in \u001b[0;36mKernel.process_one\u001b[0;34m(***failed resolving arguments***)\u001b[0m\n\u001b[1;32m    456\u001b[0m \u001b[39mtry\u001b[39;00m:\n\u001b[0;32m--> 457\u001b[0m     t, dispatch, args \u001b[39m=\u001b[39m \u001b[39mself\u001b[39m\u001b[39m.\u001b[39mmsg_queue\u001b[39m.\u001b[39mget_nowait()\n\u001b[1;32m    458\u001b[0m \u001b[39mexcept\u001b[39;00m (asyncio\u001b[39m.\u001b[39mQueueEmpty, QueueEmpty):\n",
      "File \u001b[0;32m~/anaconda3/envs/diffstuff/lib/python3.10/site-packages/ipykernel/kernelbase.py:344\u001b[0m, in \u001b[0;36mKernel.dispatch_shell\u001b[0;34m(***failed resolving arguments***)\u001b[0m\n\u001b[1;32m    343\u001b[0m     \u001b[39mself\u001b[39m\u001b[39m.\u001b[39mshell_stream\u001b[39m.\u001b[39mflush(zmq\u001b[39m.\u001b[39mPOLLOUT)\n\u001b[0;32m--> 344\u001b[0m     \u001b[39mreturn\u001b[39;00m\n\u001b[1;32m    346\u001b[0m \u001b[39m# Print some info about this message and leave a '--->' marker, so it's\u001b[39;00m\n\u001b[1;32m    347\u001b[0m \u001b[39m# easier to trace visually the message chain when debugging.  Each\u001b[39;00m\n\u001b[1;32m    348\u001b[0m \u001b[39m# handler prints its message at the end.\u001b[39;00m\n",
      "File \u001b[0;32m~/anaconda3/envs/diffstuff/lib/python3.10/site-packages/ipykernel/kernelbase.py:644\u001b[0m, in \u001b[0;36mKernel.execute_request\u001b[0;34m(***failed resolving arguments***)\u001b[0m\n\u001b[1;32m    643\u001b[0m \u001b[39mself\u001b[39m\u001b[39m.\u001b[39mlog\u001b[39m.\u001b[39merror(\u001b[39m\"\u001b[39m\u001b[39mGot bad msg: \u001b[39m\u001b[39m\"\u001b[39m)\n\u001b[0;32m--> 644\u001b[0m \u001b[39mself\u001b[39m\u001b[39m.\u001b[39mlog\u001b[39m.\u001b[39merror(\u001b[39m\"\u001b[39m\u001b[39m%s\u001b[39;00m\u001b[39m\"\u001b[39m, parent)\n\u001b[1;32m    645\u001b[0m \u001b[39mreturn\u001b[39;00m\n",
      "File \u001b[0;32m~/anaconda3/envs/diffstuff/lib/python3.10/site-packages/ipykernel/ipkernel.py:329\u001b[0m, in \u001b[0;36mIPythonKernel.do_execute\u001b[0;34m(***failed resolving arguments***)\u001b[0m\n\u001b[1;32m    327\u001b[0m     preprocessing_exc_tuple \u001b[39m=\u001b[39m sys\u001b[39m.\u001b[39mexc_info()\n\u001b[0;32m--> 329\u001b[0m \u001b[39mif\u001b[39;00m (\n\u001b[1;32m    330\u001b[0m     _asyncio_runner\n\u001b[1;32m    331\u001b[0m     \u001b[39mand\u001b[39;00m shell\u001b[39m.\u001b[39mloop_runner \u001b[39mis\u001b[39;00m _asyncio_runner\n\u001b[1;32m    332\u001b[0m     \u001b[39mand\u001b[39;00m asyncio\u001b[39m.\u001b[39mget_event_loop()\u001b[39m.\u001b[39mis_running()\n\u001b[1;32m    333\u001b[0m     \u001b[39mand\u001b[39;00m should_run_async(\n\u001b[1;32m    334\u001b[0m         code,\n\u001b[1;32m    335\u001b[0m         transformed_cell\u001b[39m=\u001b[39mtransformed_cell,\n\u001b[1;32m    336\u001b[0m         preprocessing_exc_tuple\u001b[39m=\u001b[39mpreprocessing_exc_tuple,\n\u001b[1;32m    337\u001b[0m     )\n\u001b[1;32m    338\u001b[0m ):\n\u001b[1;32m    339\u001b[0m     coro \u001b[39m=\u001b[39m run_cell(\n\u001b[1;32m    340\u001b[0m         code,\n\u001b[1;32m    341\u001b[0m         store_history\u001b[39m=\u001b[39mstore_history,\n\u001b[0;32m   (...)\u001b[0m\n\u001b[1;32m    344\u001b[0m         preprocessing_exc_tuple\u001b[39m=\u001b[39mpreprocessing_exc_tuple\n\u001b[1;32m    345\u001b[0m     )\n",
      "File \u001b[0;32m~/anaconda3/envs/diffstuff/lib/python3.10/site-packages/ipykernel/zmqshell.py:532\u001b[0m, in \u001b[0;36mZMQInteractiveShell.run_cell\u001b[0;34m(***failed resolving arguments***)\u001b[0m\n\u001b[1;32m    531\u001b[0m \u001b[39mself\u001b[39m\u001b[39m.\u001b[39m_last_traceback \u001b[39m=\u001b[39m \u001b[39mNone\u001b[39;00m\n\u001b[0;32m--> 532\u001b[0m \u001b[39mreturn\u001b[39;00m \u001b[39msuper\u001b[39m()\u001b[39m.\u001b[39mrun_cell(\u001b[39m*\u001b[39margs, \u001b[39m*\u001b[39m\u001b[39m*\u001b[39mkwargs)\n",
      "File \u001b[0;32m~/anaconda3/envs/diffstuff/lib/python3.10/site-packages/IPython/core/interactiveshell.py:2881\u001b[0m, in \u001b[0;36mInteractiveShell.run_cell\u001b[0;34m(***failed resolving arguments***)\u001b[0m\n\u001b[1;32m   2879\u001b[0m \u001b[39mtry\u001b[39;00m:\n\u001b[1;32m   2880\u001b[0m     result \u001b[39m=\u001b[39m \u001b[39mself\u001b[39m\u001b[39m.\u001b[39m_run_cell(\n\u001b[0;32m-> 2881\u001b[0m         raw_cell, store_history, silent, shell_futures, cell_id\n\u001b[1;32m   2882\u001b[0m     )\n\u001b[1;32m   2883\u001b[0m \u001b[39mfinally\u001b[39;00m:\n",
      "File \u001b[0;32m~/anaconda3/envs/diffstuff/lib/python3.10/site-packages/IPython/core/interactiveshell.py:2910\u001b[0m, in \u001b[0;36mInteractiveShell._run_cell\u001b[0;34m(***failed resolving arguments***)\u001b[0m\n\u001b[1;32m   2908\u001b[0m \u001b[39massert\u001b[39;00m transformed_cell \u001b[39mis\u001b[39;00m \u001b[39mnot\u001b[39;00m \u001b[39mNone\u001b[39;00m\n\u001b[1;32m   2909\u001b[0m coro \u001b[39m=\u001b[39m \u001b[39mself\u001b[39m\u001b[39m.\u001b[39mrun_cell_async(\n\u001b[0;32m-> 2910\u001b[0m     raw_cell,\n\u001b[1;32m   2911\u001b[0m     store_history\u001b[39m=\u001b[39mstore_history,\n\u001b[1;32m   2912\u001b[0m     silent\u001b[39m=\u001b[39msilent,\n\u001b[1;32m   2913\u001b[0m     shell_futures\u001b[39m=\u001b[39mshell_futures,\n\u001b[1;32m   2914\u001b[0m     transformed_cell\u001b[39m=\u001b[39mtransformed_cell,\n\u001b[1;32m   2915\u001b[0m     preprocessing_exc_tuple\u001b[39m=\u001b[39mpreprocessing_exc_tuple,\n\u001b[1;32m   2916\u001b[0m     cell_id\u001b[39m=\u001b[39mcell_id,\n\u001b[1;32m   2917\u001b[0m )\n\u001b[1;32m   2919\u001b[0m \u001b[39m# run_cell_async is async, but may not actually need an eventloop.\u001b[39;00m\n\u001b[1;32m   2920\u001b[0m \u001b[39m# when this is the case, we want to run it using the pseudo_sync_runner\u001b[39;00m\n\u001b[1;32m   2921\u001b[0m \u001b[39m# so that code can invoke eventloops (for example via the %run , and\u001b[39;00m\n\u001b[1;32m   2922\u001b[0m \u001b[39m# `%paste` magic.\u001b[39;00m\n",
      "File \u001b[0;32m~/anaconda3/envs/diffstuff/lib/python3.10/site-packages/IPython/core/async_helpers.py:129\u001b[0m, in \u001b[0;36m_pseudo_sync_runner\u001b[0;34m(***failed resolving arguments***)\u001b[0m\n\u001b[1;32m    128\u001b[0m \u001b[39mtry\u001b[39;00m:\n\u001b[0;32m--> 129\u001b[0m     coro\u001b[39m.\u001b[39msend(\u001b[39mNone\u001b[39;00m)\n\u001b[1;32m    130\u001b[0m \u001b[39mexcept\u001b[39;00m \u001b[39mStopIteration\u001b[39;00m \u001b[39mas\u001b[39;00m exc:\n",
      "File \u001b[0;32m~/anaconda3/envs/diffstuff/lib/python3.10/site-packages/IPython/core/interactiveshell.py:3108\u001b[0m, in \u001b[0;36mInteractiveShell.run_cell_async\u001b[0;34m(***failed resolving arguments***)\u001b[0m\n\u001b[1;32m   3107\u001b[0m     code_ast \u001b[39m=\u001b[39m compiler\u001b[39m.\u001b[39mast_parse(cell, filename\u001b[39m=\u001b[39mcell_name)\n\u001b[0;32m-> 3108\u001b[0m \u001b[39mexcept\u001b[39;00m \u001b[39mself\u001b[39m\u001b[39m.\u001b[39mcustom_exceptions \u001b[39mas\u001b[39;00m e:\n\u001b[1;32m   3109\u001b[0m     etype, value, tb \u001b[39m=\u001b[39m sys\u001b[39m.\u001b[39mexc_info()\n",
      "File \u001b[0;32m~/anaconda3/envs/diffstuff/lib/python3.10/site-packages/IPython/core/interactiveshell.py:3305\u001b[0m, in \u001b[0;36mInteractiveShell.run_ast_nodes\u001b[0;34m(***failed resolving arguments***)\u001b[0m\n\u001b[1;32m   3304\u001b[0m     to_run_exec, to_run_interactive \u001b[39m=\u001b[39m nodelist[:\u001b[39m-\u001b[39m\u001b[39m1\u001b[39m], nodelist[\u001b[39m-\u001b[39m\u001b[39m1\u001b[39m:]\n\u001b[0;32m-> 3305\u001b[0m \u001b[39melif\u001b[39;00m interactivity \u001b[39m==\u001b[39m \u001b[39m'\u001b[39m\u001b[39mall\u001b[39m\u001b[39m'\u001b[39m:\n\u001b[1;32m   3306\u001b[0m     to_run_exec, to_run_interactive \u001b[39m=\u001b[39m [], nodelist\n",
      "File \u001b[0;32m~/anaconda3/envs/diffstuff/lib/python3.10/site-packages/IPython/core/interactiveshell.py:3394\u001b[0m, in \u001b[0;36mInteractiveShell.run_code\u001b[0;34m(***failed resolving arguments***)\u001b[0m\n\u001b[1;32m   3393\u001b[0m \u001b[39mtry\u001b[39;00m:\n\u001b[0;32m-> 3394\u001b[0m     \u001b[39mif\u001b[39;00m async_:\n\u001b[1;32m   3395\u001b[0m         \u001b[39mawait\u001b[39;00m \u001b[39meval\u001b[39m(code_obj, \u001b[39mself\u001b[39m\u001b[39m.\u001b[39muser_global_ns, \u001b[39mself\u001b[39m\u001b[39m.\u001b[39muser_ns)\n",
      "\u001b[1;32m/home/santiago/CosmoProjects/differentiablestuff/SN1a/notebooks/Jax_cosmo_test.ipynb Cell 51\u001b[0m in \u001b[0;36m<cell line: 1>\u001b[0;34m()\u001b[0m\n\u001b[0;32m----> <a href='vscode-notebook-cell:/home/santiago/CosmoProjects/differentiablestuff/SN1a/notebooks/Jax_cosmo_test.ipynb#ch0000042?line=0'>1</a>\u001b[0m log_probability(trp)\n",
      "File \u001b[0;32m~/CosmoProjects/differentiablestuff/emcee-jax/src/emcee_jax/_src/host_callback.py:26\u001b[0m, in \u001b[0;36mwrap_python_log_prob_fn.<locals>.log_prob_fn\u001b[0;34m(***failed resolving arguments***)\u001b[0m\n\u001b[1;32m     23\u001b[0m dtype \u001b[39m=\u001b[39m _tree_dtype(params)\n\u001b[1;32m     24\u001b[0m \u001b[39mreturn\u001b[39;00m host_callback\u001b[39m.\u001b[39mcall(\n\u001b[1;32m     25\u001b[0m     python_log_prob_fn,\n\u001b[0;32m---> 26\u001b[0m     params,\n\u001b[1;32m     27\u001b[0m     result_shape\u001b[39m=\u001b[39mjax\u001b[39m.\u001b[39mShapeDtypeStruct((), dtype),\n\u001b[1;32m     28\u001b[0m )\n",
      "File \u001b[0;32m~/anaconda3/envs/diffstuff/lib/python3.10/site-packages/jax/experimental/host_callback.py:692\u001b[0m, in \u001b[0;36mcall\u001b[0;34m(***failed resolving arguments***)\u001b[0m\n\u001b[1;32m    658\u001b[0m \u001b[39m\"\"\"Make a call to the host, and expect a result.\u001b[39;00m\n\u001b[1;32m    659\u001b[0m \n\u001b[1;32m    660\u001b[0m \u001b[39m**Experimental: please give feedback, and expect changes!**\u001b[39;00m\n\u001b[0;32m   (...)\u001b[0m\n\u001b[1;32m    690\u001b[0m \u001b[39m<jax.experimental.host_callback.html>`_.\u001b[39;00m\n\u001b[1;32m    691\u001b[0m \u001b[39m\"\"\"\u001b[39;00m\n\u001b[0;32m--> 692\u001b[0m \u001b[39mreturn\u001b[39;00m _call(callback_func, arg, result_shape\u001b[39m=\u001b[39mresult_shape,\n\u001b[1;32m    693\u001b[0m              call_with_device\u001b[39m=\u001b[39mcall_with_device, identity\u001b[39m=\u001b[39m\u001b[39mFalse\u001b[39;00m)\n",
      "File \u001b[0;32m~/anaconda3/envs/diffstuff/lib/python3.10/site-packages/jax/experimental/host_callback.py:750\u001b[0m, in \u001b[0;36m_call\u001b[0;34m(***failed resolving arguments***)\u001b[0m\n\u001b[1;32m    748\u001b[0m \u001b[39mif\u001b[39;00m \u001b[39mnot\u001b[39;00m identity:\n\u001b[1;32m    749\u001b[0m   \u001b[39m# Turn abstract values into ShapesDtypeStruct\u001b[39;00m\n\u001b[0;32m--> 750\u001b[0m   flat_results_shape, result_treedef \u001b[39m=\u001b[39m pytree\u001b[39m.\u001b[39mflatten(result_shape)\n\u001b[1;32m    751\u001b[0m   \u001b[39mtry\u001b[39;00m:\n",
      "\u001b[0;31mJaxStackTraceBeforeTransformation\u001b[0m: jaxlib.xla_extension.XlaRuntimeError: INTERNAL: Generated function failed: TypeError: Callback func <jax.experimental.host_callback._CallbackWrapper object at 0x7f6eb5463ee0> should have returned a result with abstract values ShapedArray(float32[]) but returned ShapedArray(float32[2000])\n\nAt:\n  /home/santiago/anaconda3/envs/diffstuff/lib/python3.10/site-packages/jax/experimental/host_callback.py(1296): _outside_call_run_callback\n  /home/santiago/anaconda3/envs/diffstuff/lib/python3.10/site-packages/jax/experimental/host_callback.py(1173): wrapped_callback\n  /home/santiago/anaconda3/envs/diffstuff/lib/python3.10/site-packages/jax/_src/dispatch.py(615): _execute_compiled\n  /home/santiago/anaconda3/envs/diffstuff/lib/python3.10/site-packages/jax/_src/dispatch.py(100): apply_primitive\n  /home/santiago/anaconda3/envs/diffstuff/lib/python3.10/site-packages/jax/experimental/host_callback.py(984): _outside_call_impl\n  /home/santiago/anaconda3/envs/diffstuff/lib/python3.10/site-packages/jax/core.py(675): process_primitive\n  /home/santiago/anaconda3/envs/diffstuff/lib/python3.10/site-packages/jax/core.py(326): bind_with_trace\n  /home/santiago/anaconda3/envs/diffstuff/lib/python3.10/site-packages/jax/core.py(323): bind\n  /home/santiago/anaconda3/envs/diffstuff/lib/python3.10/site-packages/jax/core.py(390): eval_jaxpr\n  /home/santiago/anaconda3/envs/diffstuff/lib/python3.10/site-packages/jax/core.py(192): jaxpr_as_fun\n  /home/santiago/anaconda3/envs/diffstuff/lib/python3.10/site-packages/jax/_src/custom_batching.py(128): custom_vmap_impl\n  /home/santiago/anaconda3/envs/diffstuff/lib/python3.10/site-packages/jax/core.py(675): process_primitive\n  /home/santiago/anaconda3/envs/diffstuff/lib/python3.10/site-packages/jax/core.py(326): bind_with_trace\n  /home/santiago/anaconda3/envs/diffstuff/lib/python3.10/site-packages/jax/core.py(323): bind\n  /home/santiago/anaconda3/envs/diffstuff/lib/python3.10/site-packages/jax/_src/custom_batching.py(71): __call__\n  /home/santiago/anaconda3/envs/diffstuff/lib/python3.10/site-packages/jax/_src/traceback_util.py(162): reraise_with_filtered_traceback\n  /tmp/ipykernel_124789/1528938840.py(1): <cell line: 1>\n  /home/santiago/anaconda3/envs/diffstuff/lib/python3.10/site-packages/IPython/core/interactiveshell.py(3397): run_code\n  /home/santiago/anaconda3/envs/diffstuff/lib/python3.10/site-packages/IPython/core/interactiveshell.py(3337): run_ast_nodes\n  /home/santiago/anaconda3/envs/diffstuff/lib/python3.10/site-packages/IPython/core/interactiveshell.py(3134): run_cell_async\n  /home/santiago/anaconda3/envs/diffstuff/lib/python3.10/site-packages/IPython/core/async_helpers.py(129): _pseudo_sync_runner\n  /home/santiago/anaconda3/envs/diffstuff/lib/python3.10/site-packages/IPython/core/interactiveshell.py(2935): _run_cell\n  /home/santiago/anaconda3/envs/diffstuff/lib/python3.10/site-packages/IPython/core/interactiveshell.py(2880): run_cell\n  /home/santiago/anaconda3/envs/diffstuff/lib/python3.10/site-packages/ipykernel/zmqshell.py(532): run_cell\n  /home/santiago/anaconda3/envs/diffstuff/lib/python3.10/site-packages/ipykernel/ipkernel.py(360): do_execute\n  /home/santiago/anaconda3/envs/diffstuff/lib/python3.10/site-packages/ipykernel/kernelbase.py(662): execute_request\n  /home/santiago/anaconda3/envs/diffstuff/lib/python3.10/site-packages/ipykernel/kernelbase.py(367): dispatch_shell\n  /home/santiago/anaconda3/envs/diffstuff/lib/python3.10/site-packages/ipykernel/kernelbase.py(460): process_one\n  /home/santiago/anaconda3/envs/diffstuff/lib/python3.10/site-packages/ipykernel/kernelbase.py(471): dispatch_queue\n  /home/santiago/anaconda3/envs/diffstuff/lib/python3.10/asyncio/events.py(80): _run\n  /home/santiago/anaconda3/envs/diffstuff/lib/python3.10/asyncio/base_events.py(1896): _run_once\n  /home/santiago/anaconda3/envs/diffstuff/lib/python3.10/asyncio/base_events.py(600): run_forever\n  /home/santiago/anaconda3/envs/diffstuff/lib/python3.10/site-packages/tornado/platform/asyncio.py(199): start\n  /home/santiago/anaconda3/envs/diffstuff/lib/python3.10/site-packages/ipykernel/kernelapp.py(677): start\n  /home/santiago/anaconda3/envs/diffstuff/lib/python3.10/site-packages/traitlets/config/application.py(846): launch_instance\n  /home/santiago/anaconda3/envs/diffstuff/lib/python3.10/site-packages/ipykernel_launcher.py(16): <module>\n  /home/santiago/anaconda3/envs/diffstuff/lib/python3.10/runpy.py(86): _run_code\n  /home/santiago/anaconda3/envs/diffstuff/lib/python3.10/runpy.py(196): _run_module_as_main\n\nThe preceding stack trace is the source of the JAX operation that, once transformed by JAX, triggered the following exception.\n\n--------------------",
      "\nThe above exception was the direct cause of the following exception:\n",
      "\u001b[0;31mXlaRuntimeError\u001b[0m                           Traceback (most recent call last)",
      "\u001b[1;32m/home/santiago/CosmoProjects/differentiablestuff/SN1a/notebooks/Jax_cosmo_test.ipynb Cell 51\u001b[0m in \u001b[0;36m<cell line: 1>\u001b[0;34m()\u001b[0m\n\u001b[0;32m----> <a href='vscode-notebook-cell:/home/santiago/CosmoProjects/differentiablestuff/SN1a/notebooks/Jax_cosmo_test.ipynb#ch0000042?line=0'>1</a>\u001b[0m log_probability(trp)\n",
      "    \u001b[0;31m[... skipping hidden 11 frame]\u001b[0m\n",
      "File \u001b[0;32m~/anaconda3/envs/diffstuff/lib/python3.10/site-packages/jax/experimental/host_callback.py:984\u001b[0m, in \u001b[0;36m_outside_call_impl\u001b[0;34m(*args, **params)\u001b[0m\n\u001b[1;32m    975\u001b[0m   \u001b[39mreturn\u001b[39;00m results\n\u001b[1;32m    976\u001b[0m \u001b[39melse\u001b[39;00m:\n\u001b[1;32m    977\u001b[0m   \u001b[39m# We use the jitted-version of the primitive even for eager execution, both\u001b[39;00m\n\u001b[1;32m    978\u001b[0m   \u001b[39m# so that we do not duplicate logic, but also so that all outfeed is received\u001b[39;00m\n\u001b[0;32m   (...)\u001b[0m\n\u001b[1;32m    982\u001b[0m   \u001b[39m# It would be confusing to process a sequence \"id_tap; while\" in two\u001b[39;00m\n\u001b[1;32m    983\u001b[0m   \u001b[39m# different threads.\u001b[39;00m\n\u001b[0;32m--> 984\u001b[0m   \u001b[39mreturn\u001b[39;00m dispatch\u001b[39m.\u001b[39;49mapply_primitive(outside_call_p, \u001b[39m*\u001b[39;49margs, \u001b[39m*\u001b[39;49m\u001b[39m*\u001b[39;49mparams)\n",
      "    \u001b[0;31m[... skipping hidden 1 frame]\u001b[0m\n",
      "File \u001b[0;32m~/anaconda3/envs/diffstuff/lib/python3.10/site-packages/jax/_src/dispatch.py:615\u001b[0m, in \u001b[0;36m_execute_compiled\u001b[0;34m(name, compiled, input_handler, output_buffer_counts, result_handlers, effects, kept_var_idx, *args)\u001b[0m\n\u001b[1;32m    613\u001b[0m \u001b[39mif\u001b[39;00m effects:\n\u001b[1;32m    614\u001b[0m   input_bufs_flat, token_handler \u001b[39m=\u001b[39m _add_tokens(effects, device, input_bufs_flat)\n\u001b[0;32m--> 615\u001b[0m out_bufs_flat \u001b[39m=\u001b[39m compiled\u001b[39m.\u001b[39;49mexecute(input_bufs_flat)\n\u001b[1;32m    616\u001b[0m check_special(name, out_bufs_flat)\n\u001b[1;32m    617\u001b[0m \u001b[39mif\u001b[39;00m output_buffer_counts \u001b[39mis\u001b[39;00m \u001b[39mNone\u001b[39;00m:\n",
      "\u001b[0;31mXlaRuntimeError\u001b[0m: INTERNAL: Generated function failed: TypeError: Callback func <jax.experimental.host_callback._CallbackWrapper object at 0x7f6eb5463ee0> should have returned a result with abstract values ShapedArray(float32[]) but returned ShapedArray(float32[2000])\n\nAt:\n  /home/santiago/anaconda3/envs/diffstuff/lib/python3.10/site-packages/jax/experimental/host_callback.py(1296): _outside_call_run_callback\n  /home/santiago/anaconda3/envs/diffstuff/lib/python3.10/site-packages/jax/experimental/host_callback.py(1173): wrapped_callback\n  /home/santiago/anaconda3/envs/diffstuff/lib/python3.10/site-packages/jax/_src/dispatch.py(615): _execute_compiled\n  /home/santiago/anaconda3/envs/diffstuff/lib/python3.10/site-packages/jax/_src/dispatch.py(100): apply_primitive\n  /home/santiago/anaconda3/envs/diffstuff/lib/python3.10/site-packages/jax/experimental/host_callback.py(984): _outside_call_impl\n  /home/santiago/anaconda3/envs/diffstuff/lib/python3.10/site-packages/jax/core.py(675): process_primitive\n  /home/santiago/anaconda3/envs/diffstuff/lib/python3.10/site-packages/jax/core.py(326): bind_with_trace\n  /home/santiago/anaconda3/envs/diffstuff/lib/python3.10/site-packages/jax/core.py(323): bind\n  /home/santiago/anaconda3/envs/diffstuff/lib/python3.10/site-packages/jax/core.py(390): eval_jaxpr\n  /home/santiago/anaconda3/envs/diffstuff/lib/python3.10/site-packages/jax/core.py(192): jaxpr_as_fun\n  /home/santiago/anaconda3/envs/diffstuff/lib/python3.10/site-packages/jax/_src/custom_batching.py(128): custom_vmap_impl\n  /home/santiago/anaconda3/envs/diffstuff/lib/python3.10/site-packages/jax/core.py(675): process_primitive\n  /home/santiago/anaconda3/envs/diffstuff/lib/python3.10/site-packages/jax/core.py(326): bind_with_trace\n  /home/santiago/anaconda3/envs/diffstuff/lib/python3.10/site-packages/jax/core.py(323): bind\n  /home/santiago/anaconda3/envs/diffstuff/lib/python3.10/site-packages/jax/_src/custom_batching.py(71): __call__\n  /home/santiago/anaconda3/envs/diffstuff/lib/python3.10/site-packages/jax/_src/traceback_util.py(162): reraise_with_filtered_traceback\n  /tmp/ipykernel_124789/1528938840.py(1): <cell line: 1>\n  /home/santiago/anaconda3/envs/diffstuff/lib/python3.10/site-packages/IPython/core/interactiveshell.py(3397): run_code\n  /home/santiago/anaconda3/envs/diffstuff/lib/python3.10/site-packages/IPython/core/interactiveshell.py(3337): run_ast_nodes\n  /home/santiago/anaconda3/envs/diffstuff/lib/python3.10/site-packages/IPython/core/interactiveshell.py(3134): run_cell_async\n  /home/santiago/anaconda3/envs/diffstuff/lib/python3.10/site-packages/IPython/core/async_helpers.py(129): _pseudo_sync_runner\n  /home/santiago/anaconda3/envs/diffstuff/lib/python3.10/site-packages/IPython/core/interactiveshell.py(2935): _run_cell\n  /home/santiago/anaconda3/envs/diffstuff/lib/python3.10/site-packages/IPython/core/interactiveshell.py(2880): run_cell\n  /home/santiago/anaconda3/envs/diffstuff/lib/python3.10/site-packages/ipykernel/zmqshell.py(532): run_cell\n  /home/santiago/anaconda3/envs/diffstuff/lib/python3.10/site-packages/ipykernel/ipkernel.py(360): do_execute\n  /home/santiago/anaconda3/envs/diffstuff/lib/python3.10/site-packages/ipykernel/kernelbase.py(662): execute_request\n  /home/santiago/anaconda3/envs/diffstuff/lib/python3.10/site-packages/ipykernel/kernelbase.py(367): dispatch_shell\n  /home/santiago/anaconda3/envs/diffstuff/lib/python3.10/site-packages/ipykernel/kernelbase.py(460): process_one\n  /home/santiago/anaconda3/envs/diffstuff/lib/python3.10/site-packages/ipykernel/kernelbase.py(471): dispatch_queue\n  /home/santiago/anaconda3/envs/diffstuff/lib/python3.10/asyncio/events.py(80): _run\n  /home/santiago/anaconda3/envs/diffstuff/lib/python3.10/asyncio/base_events.py(1896): _run_once\n  /home/santiago/anaconda3/envs/diffstuff/lib/python3.10/asyncio/base_events.py(600): run_forever\n  /home/santiago/anaconda3/envs/diffstuff/lib/python3.10/site-packages/tornado/platform/asyncio.py(199): start\n  /home/santiago/anaconda3/envs/diffstuff/lib/python3.10/site-packages/ipykernel/kernelapp.py(677): start\n  /home/santiago/anaconda3/envs/diffstuff/lib/python3.10/site-packages/traitlets/config/application.py(846): launch_instance\n  /home/santiago/anaconda3/envs/diffstuff/lib/python3.10/site-packages/ipykernel_launcher.py(16): <module>\n  /home/santiago/anaconda3/envs/diffstuff/lib/python3.10/runpy.py(86): _run_code\n  /home/santiago/anaconda3/envs/diffstuff/lib/python3.10/runpy.py(196): _run_module_as_main\n"
     ]
    }
   ],
   "source": [
    "log_probability(trp)"
   ]
  },
  {
   "cell_type": "code",
   "execution_count": null,
   "id": "08b00acb",
   "metadata": {},
   "outputs": [
    {
     "data": {
      "text/plain": [
       "DeviceArray([-188.08003 , -159.79253 , -109.5749  , ...,  -20.953108,\n",
       "              -20.94889 ,  -20.947298], dtype=float32)"
      ]
     },
     "execution_count": 139,
     "metadata": {},
     "output_type": "execute_result"
    }
   ],
   "source": [
    "log_probability(trp)"
   ]
  },
  {
   "cell_type": "code",
   "execution_count": null,
   "id": "99a7bd2c",
   "metadata": {},
   "outputs": [
    {
     "data": {
      "text/plain": [
       "DeviceArray([[2467461003,  428148500],\n",
       "             [3186719485, 3840466878],\n",
       "             [2562233961, 1946702221]], dtype=uint32)"
      ]
     },
     "execution_count": 140,
     "metadata": {},
     "output_type": "execute_result"
    }
   ],
   "source": [
    "random.split(random.PRNGKey(0), 3)"
   ]
  },
  {
   "cell_type": "code",
   "execution_count": 126,
   "id": "ec4a9528",
   "metadata": {},
   "outputs": [],
   "source": [
    "kkey1, kkey2, kkey3 = random.split(random.PRNGKey(0), 3)"
   ]
  },
  {
   "cell_type": "code",
   "execution_count": 127,
   "id": "c13e7348",
   "metadata": {},
   "outputs": [
    {
     "data": {
      "text/plain": [
       "DeviceArray([2562233961, 1946702221], dtype=uint32)"
      ]
     },
     "execution_count": 127,
     "metadata": {},
     "output_type": "execute_result"
    }
   ],
   "source": [
    "kkey3"
   ]
  },
  {
   "cell_type": "code",
   "execution_count": 128,
   "id": "b3c63dd0",
   "metadata": {},
   "outputs": [
    {
     "name": "stdout",
     "output_type": "stream",
     "text": [
      "\u001b[0;31mInit signature:\u001b[0m\n",
      "\u001b[0mem\u001b[0m\u001b[0;34m.\u001b[0m\u001b[0mEnsembleSampler\u001b[0m\u001b[0;34m(\u001b[0m\u001b[0;34m\u001b[0m\n",
      "\u001b[0;34m\u001b[0m    \u001b[0mlog_prob_fn\u001b[0m\u001b[0;34m:\u001b[0m \u001b[0mCallable\u001b[0m\u001b[0;34m[\u001b[0m\u001b[0;34m...\u001b[0m\u001b[0;34m,\u001b[0m \u001b[0mUnion\u001b[0m\u001b[0;34m[\u001b[0m\u001b[0mAny\u001b[0m\u001b[0;34m,\u001b[0m \u001b[0mTuple\u001b[0m\u001b[0;34m[\u001b[0m\u001b[0mAny\u001b[0m\u001b[0;34m,\u001b[0m \u001b[0mUnion\u001b[0m\u001b[0;34m[\u001b[0m\u001b[0mAny\u001b[0m\u001b[0;34m,\u001b[0m \u001b[0mIterable\u001b[0m\u001b[0;34m[\u001b[0m\u001b[0mAny\u001b[0m\u001b[0;34m]\u001b[0m\u001b[0;34m,\u001b[0m \u001b[0mDict\u001b[0m\u001b[0;34m[\u001b[0m\u001b[0mAny\u001b[0m\u001b[0;34m,\u001b[0m \u001b[0mAny\u001b[0m\u001b[0;34m]\u001b[0m\u001b[0;34m,\u001b[0m \u001b[0mNamedTuple\u001b[0m\u001b[0;34m]\u001b[0m\u001b[0;34m]\u001b[0m\u001b[0;34m]\u001b[0m\u001b[0;34m]\u001b[0m\u001b[0;34m,\u001b[0m\u001b[0;34m\u001b[0m\n",
      "\u001b[0;34m\u001b[0m    \u001b[0;34m*\u001b[0m\u001b[0;34m,\u001b[0m\u001b[0;34m\u001b[0m\n",
      "\u001b[0;34m\u001b[0m    \u001b[0mmove\u001b[0m\u001b[0;34m:\u001b[0m \u001b[0mOptional\u001b[0m\u001b[0;34m[\u001b[0m\u001b[0memcee_jax\u001b[0m\u001b[0;34m.\u001b[0m\u001b[0m_src\u001b[0m\u001b[0;34m.\u001b[0m\u001b[0mmoves\u001b[0m\u001b[0;34m.\u001b[0m\u001b[0mcore\u001b[0m\u001b[0;34m.\u001b[0m\u001b[0mMove\u001b[0m\u001b[0;34m]\u001b[0m \u001b[0;34m=\u001b[0m \u001b[0;32mNone\u001b[0m\u001b[0;34m,\u001b[0m\u001b[0;34m\u001b[0m\n",
      "\u001b[0;34m\u001b[0m    \u001b[0mlog_prob_args\u001b[0m\u001b[0;34m:\u001b[0m \u001b[0mTuple\u001b[0m\u001b[0;34m[\u001b[0m\u001b[0mAny\u001b[0m\u001b[0;34m,\u001b[0m \u001b[0;34m...\u001b[0m\u001b[0;34m]\u001b[0m \u001b[0;34m=\u001b[0m \u001b[0;34m(\u001b[0m\u001b[0;34m)\u001b[0m\u001b[0;34m,\u001b[0m\u001b[0;34m\u001b[0m\n",
      "\u001b[0;34m\u001b[0m    \u001b[0mlog_prob_kwargs\u001b[0m\u001b[0;34m:\u001b[0m \u001b[0mOptional\u001b[0m\u001b[0;34m[\u001b[0m\u001b[0mDict\u001b[0m\u001b[0;34m[\u001b[0m\u001b[0mstr\u001b[0m\u001b[0;34m,\u001b[0m \u001b[0mAny\u001b[0m\u001b[0;34m]\u001b[0m\u001b[0;34m]\u001b[0m \u001b[0;34m=\u001b[0m \u001b[0;32mNone\u001b[0m\u001b[0;34m,\u001b[0m\u001b[0;34m\u001b[0m\n",
      "\u001b[0;34m\u001b[0m\u001b[0;34m)\u001b[0m\u001b[0;34m\u001b[0m\u001b[0;34m\u001b[0m\u001b[0m\n",
      "\u001b[0;31mDocstring:\u001b[0m      EnsembleSampler(log_prob_fn: Callable[..., Union[Any, Tuple[Any, Union[Any, Iterable[Any], Dict[Any, Any], NamedTuple]]]], *, move: Optional[emcee_jax._src.moves.core.Move] = None, log_prob_args: Tuple[Any, ...] = (), log_prob_kwargs: Optional[Dict[str, Any]] = None)\n",
      "\u001b[0;31mFile:\u001b[0m           ~/CosmoProjects/differentiablestuff/emcee-jax/src/emcee_jax/_src/sampler.py\n",
      "\u001b[0;31mType:\u001b[0m           type\n",
      "\u001b[0;31mSubclasses:\u001b[0m     \n"
     ]
    }
   ],
   "source": [
    "em.EnsembleSampler?"
   ]
  },
  {
   "cell_type": "code",
   "execution_count": 129,
   "id": "53c6a1c8",
   "metadata": {},
   "outputs": [
    {
     "ename": "TracerArrayConversionError",
     "evalue": "The numpy.ndarray conversion method __array__() was called on the JAX Tracer object Traced<ShapedArray(float32[2000])>with<BatchTrace(level=1/0)> with\n  val = DeviceArray([[33.26236 , 33.451763, 33.890545, ..., 45.634117, 45.635567,\n              45.636063],\n             [33.225986, 33.415386, 33.854168, ..., 44.53487 , 44.53606 ,\n              44.53647 ],\n             [33.234436, 33.423836, 33.86261 , ..., 44.690174, 44.691387,\n              44.691803],\n             ...,\n             [      nan,       nan,       nan, ...,       nan,       nan,\n                    nan],\n             [      nan,       nan,       nan, ...,       nan,       nan,\n                    nan],\n             [      nan,       nan,       nan, ...,       nan,       nan,\n                    nan]], dtype=float32)\n  batch_dim = 0\nThis Tracer was created on line /tmp/ipykernel_117953/143536788.py:9 (distance_modulus)\nSee https://jax.readthedocs.io/en/latest/errors.html#jax.errors.TracerArrayConversionError",
     "output_type": "error",
     "traceback": [
      "\u001b[0;31m---------------------------------------------------------------------------\u001b[0m",
      "\u001b[0;31mTracerArrayConversionError\u001b[0m                Traceback (most recent call last)",
      "\u001b[1;32m/home/santiago/CosmoProjects/differentiablestuff/SN1a/notebooks/Jax_cosmo_test.ipynb Cell 55\u001b[0m in \u001b[0;36m<cell line: 11>\u001b[0;34m()\u001b[0m\n\u001b[1;32m      <a href='vscode-notebook-cell:/home/santiago/CosmoProjects/differentiablestuff/SN1a/notebooks/Jax_cosmo_test.ipynb#ch0000043?line=6'>7</a>\u001b[0m num_steps\u001b[39m=\u001b[39m\u001b[39m100\u001b[39m\n\u001b[1;32m     <a href='vscode-notebook-cell:/home/santiago/CosmoProjects/differentiablestuff/SN1a/notebooks/Jax_cosmo_test.ipynb#ch0000043?line=9'>10</a>\u001b[0m sampler \u001b[39m=\u001b[39m em\u001b[39m.\u001b[39mEnsembleSampler(log_probability)\u001b[39m#)\u001b[39;00m\n\u001b[0;32m---> <a href='vscode-notebook-cell:/home/santiago/CosmoProjects/differentiablestuff/SN1a/notebooks/Jax_cosmo_test.ipynb#ch0000043?line=10'>11</a>\u001b[0m state \u001b[39m=\u001b[39m sampler\u001b[39m.\u001b[39;49minit(kkey2, pos)\n\u001b[1;32m     <a href='vscode-notebook-cell:/home/santiago/CosmoProjects/differentiablestuff/SN1a/notebooks/Jax_cosmo_test.ipynb#ch0000043?line=11'>12</a>\u001b[0m trace\u001b[39m=\u001b[39m sampler\u001b[39m.\u001b[39msample(key, state, num_steps)\n",
      "File \u001b[0;32m~/CosmoProjects/differentiablestuff/emcee-jax/src/emcee_jax/_src/sampler.py:120\u001b[0m, in \u001b[0;36mEnsembleSampler.init\u001b[0;34m(self, random_key, ensemble)\u001b[0m\n\u001b[1;32m    115\u001b[0m \u001b[39mdef\u001b[39;00m \u001b[39minit\u001b[39m(\n\u001b[1;32m    116\u001b[0m     \u001b[39mself\u001b[39m,\n\u001b[1;32m    117\u001b[0m     random_key: random\u001b[39m.\u001b[39mKeyArray,\n\u001b[1;32m    118\u001b[0m     ensemble: Union[Ensemble, Array],\n\u001b[1;32m    119\u001b[0m ) \u001b[39m-\u001b[39m\u001b[39m>\u001b[39m SamplerState:\n\u001b[0;32m--> 120\u001b[0m     initial_ensemble \u001b[39m=\u001b[39m Ensemble\u001b[39m.\u001b[39;49minit(\u001b[39mself\u001b[39;49m\u001b[39m.\u001b[39;49mwrapped_log_prob_fn, ensemble)\n\u001b[1;32m    121\u001b[0m     move_state, extras \u001b[39m=\u001b[39m \u001b[39mself\u001b[39m\u001b[39m.\u001b[39mmove\u001b[39m.\u001b[39minit(random_key, initial_ensemble)\n\u001b[1;32m    122\u001b[0m     \u001b[39mreturn\u001b[39;00m SamplerState(move_state, initial_ensemble, extras)\n",
      "File \u001b[0;32m~/CosmoProjects/differentiablestuff/emcee-jax/src/emcee_jax/_src/ensemble.py:23\u001b[0m, in \u001b[0;36mEnsemble.init\u001b[0;34m(cls, log_prob_fn, ensemble)\u001b[0m\n\u001b[1;32m     21\u001b[0m     \u001b[39mreturn\u001b[39;00m ensemble\n\u001b[1;32m     22\u001b[0m fn \u001b[39m=\u001b[39m jax\u001b[39m.\u001b[39mvmap(log_prob_fn\u001b[39m.\u001b[39mcall_wrapped)\n\u001b[0;32m---> 23\u001b[0m log_probability, deterministics \u001b[39m=\u001b[39m fn(ensemble)\n\u001b[1;32m     24\u001b[0m \u001b[39mreturn\u001b[39;00m \u001b[39mcls\u001b[39m(\n\u001b[1;32m     25\u001b[0m     coordinates\u001b[39m=\u001b[39mensemble,\n\u001b[1;32m     26\u001b[0m     deterministics\u001b[39m=\u001b[39mdeterministics,\n\u001b[1;32m     27\u001b[0m     log_probability\u001b[39m=\u001b[39mlog_probability,\n\u001b[1;32m     28\u001b[0m )\n",
      "    \u001b[0;31m[... skipping hidden 4 frame]\u001b[0m\n",
      "\u001b[1;32m/home/santiago/CosmoProjects/differentiablestuff/SN1a/notebooks/Jax_cosmo_test.ipynb Cell 55\u001b[0m in \u001b[0;36mlog_probability\u001b[0;34m(theta, x, y, sig)\u001b[0m\n\u001b[1;32m      <a href='vscode-notebook-cell:/home/santiago/CosmoProjects/differentiablestuff/SN1a/notebooks/Jax_cosmo_test.ipynb#ch0000043?line=4'>5</a>\u001b[0m lp \u001b[39m=\u001b[39m log_prior(\u001b[39m*\u001b[39m\u001b[39m*\u001b[39mtheta_dict)\n\u001b[1;32m      <a href='vscode-notebook-cell:/home/santiago/CosmoProjects/differentiablestuff/SN1a/notebooks/Jax_cosmo_test.ipynb#ch0000043?line=5'>6</a>\u001b[0m \u001b[39m#if not jnp.isfinite(lp):\u001b[39;00m\n\u001b[1;32m      <a href='vscode-notebook-cell:/home/santiago/CosmoProjects/differentiablestuff/SN1a/notebooks/Jax_cosmo_test.ipynb#ch0000043?line=6'>7</a>\u001b[0m \u001b[39m#    return -jnp.inf\u001b[39;00m\n\u001b[0;32m----> <a href='vscode-notebook-cell:/home/santiago/CosmoProjects/differentiablestuff/SN1a/notebooks/Jax_cosmo_test.ipynb#ch0000043?line=7'>8</a>\u001b[0m \u001b[39mreturn\u001b[39;00m lp \u001b[39m+\u001b[39m log_likelihood( x, y, sig, theta_dict)\n",
      "\u001b[1;32m/home/santiago/CosmoProjects/differentiablestuff/SN1a/notebooks/Jax_cosmo_test.ipynb Cell 55\u001b[0m in \u001b[0;36mlog_likelihood\u001b[0;34m(x, y, sig, theta_dict)\u001b[0m\n\u001b[1;32m      <a href='vscode-notebook-cell:/home/santiago/CosmoProjects/differentiablestuff/SN1a/notebooks/Jax_cosmo_test.ipynb#ch0000043?line=0'>1</a>\u001b[0m \u001b[39mdef\u001b[39;00m \u001b[39mlog_likelihood\u001b[39m(x, y, sig, theta_dict):\n\u001b[0;32m----> <a href='vscode-notebook-cell:/home/santiago/CosmoProjects/differentiablestuff/SN1a/notebooks/Jax_cosmo_test.ipynb#ch0000043?line=1'>2</a>\u001b[0m     distance_mod \u001b[39m=\u001b[39m np\u001b[39m.\u001b[39;49masarray(distance_modulus(theta_dict, x) , dtype\u001b[39m=\u001b[39;49m\u001b[39mfloat\u001b[39;49m)\n\u001b[1;32m      <a href='vscode-notebook-cell:/home/santiago/CosmoProjects/differentiablestuff/SN1a/notebooks/Jax_cosmo_test.ipynb#ch0000043?line=2'>3</a>\u001b[0m     log_like \u001b[39m=\u001b[39m \u001b[39m-\u001b[39m\u001b[39m0.5\u001b[39m \u001b[39m*\u001b[39m ((y \u001b[39m-\u001b[39m distance_mod)\u001b[39m*\u001b[39m\u001b[39m*\u001b[39m\u001b[39m2.0\u001b[39m\u001b[39m/\u001b[39msig\u001b[39m*\u001b[39m\u001b[39m*\u001b[39m\u001b[39m2.0\u001b[39m)\n\u001b[1;32m      <a href='vscode-notebook-cell:/home/santiago/CosmoProjects/differentiablestuff/SN1a/notebooks/Jax_cosmo_test.ipynb#ch0000043?line=3'>4</a>\u001b[0m     \u001b[39mreturn\u001b[39;00m log_like\n",
      "File \u001b[0;32m~/anaconda3/envs/diffstuff/lib/python3.10/site-packages/jax/core.py:534\u001b[0m, in \u001b[0;36mTracer.__array__\u001b[0;34m(self, *args, **kw)\u001b[0m\n\u001b[1;32m    533\u001b[0m \u001b[39mdef\u001b[39;00m \u001b[39m__array__\u001b[39m(\u001b[39mself\u001b[39m, \u001b[39m*\u001b[39margs, \u001b[39m*\u001b[39m\u001b[39m*\u001b[39mkw):\n\u001b[0;32m--> 534\u001b[0m   \u001b[39mraise\u001b[39;00m TracerArrayConversionError(\u001b[39mself\u001b[39m)\n",
      "\u001b[0;31mTracerArrayConversionError\u001b[0m: The numpy.ndarray conversion method __array__() was called on the JAX Tracer object Traced<ShapedArray(float32[2000])>with<BatchTrace(level=1/0)> with\n  val = DeviceArray([[33.26236 , 33.451763, 33.890545, ..., 45.634117, 45.635567,\n              45.636063],\n             [33.225986, 33.415386, 33.854168, ..., 44.53487 , 44.53606 ,\n              44.53647 ],\n             [33.234436, 33.423836, 33.86261 , ..., 44.690174, 44.691387,\n              44.691803],\n             ...,\n             [      nan,       nan,       nan, ...,       nan,       nan,\n                    nan],\n             [      nan,       nan,       nan, ...,       nan,       nan,\n                    nan],\n             [      nan,       nan,       nan, ...,       nan,       nan,\n                    nan]], dtype=float32)\n  batch_dim = 0\nThis Tracer was created on line /tmp/ipykernel_117953/143536788.py:9 (distance_modulus)\nSee https://jax.readthedocs.io/en/latest/errors.html#jax.errors.TracerArrayConversionError"
     ]
    }
   ],
   "source": [
    "#print(name+' started...')\n",
    "nwalkers = 8\n",
    "initial = jnp.array([0.3, -1, 0.01])\n",
    "ndim = len(initial)\n",
    "#pos = initial + 0.05 *random.normal(kkey1, (nwalkers, ndim)) \n",
    "pos = random.normal(kkey1, (nwalkers, ndim)) \n",
    "num_steps=100\n",
    "\n",
    "\n",
    "sampler = em.EnsembleSampler(log_probability)#)\n",
    "state = sampler.init(kkey2, pos)\n",
    "trace= sampler.sample(key, state, num_steps)"
   ]
  },
  {
   "cell_type": "code",
   "execution_count": 49,
   "id": "06bf38d5",
   "metadata": {},
   "outputs": [
    {
     "data": {
      "text/plain": [
       "['Omega_m', 'w0', 'wa']"
      ]
     },
     "execution_count": 49,
     "metadata": {},
     "output_type": "execute_result"
    }
   ],
   "source": [
    "list(var_dict.keys())"
   ]
  },
  {
   "cell_type": "code",
   "execution_count": 50,
   "id": "bb11ca12",
   "metadata": {},
   "outputs": [],
   "source": [
    "idata_em = az.from_emcee(sampler, var_names=list(var_dict.keys()))"
   ]
  },
  {
   "cell_type": "code",
   "execution_count": 55,
   "id": "3793df0d",
   "metadata": {},
   "outputs": [
    {
     "data": {
      "text/plain": [
       "{'$\\\\Omega_{m,0}$': 0.29, '$w_0$': -1.02, '$w_a$': 0.01}"
      ]
     },
     "execution_count": 55,
     "metadata": {},
     "output_type": "execute_result"
    }
   ],
   "source": [
    "ref_dict"
   ]
  },
  {
   "cell_type": "code",
   "execution_count": 74,
   "id": "22f718a0",
   "metadata": {},
   "outputs": [
    {
     "data": {
      "text/plain": [
       "array([[<AxesSubplot:ylabel='$\\\\Omega_{m,0}$'>, <AxesSubplot:>,\n",
       "        <AxesSubplot:>],\n",
       "       [<AxesSubplot:ylabel='$w_0$'>, <AxesSubplot:>, <AxesSubplot:>],\n",
       "       [<AxesSubplot:xlabel='$\\\\Omega_{m,0}$', ylabel='$w_a$'>,\n",
       "        <AxesSubplot:xlabel='$w_0$'>, <AxesSubplot:xlabel='$w_a$'>]],\n",
       "      dtype=object)"
      ]
     },
     "execution_count": 74,
     "metadata": {},
     "output_type": "execute_result"
    },
    {
     "data": {
      "image/png": "[encoded data removed]",
      "text/plain": [
       "<Figure size 864x720 with 6 Axes>"
      ]
     },
     "metadata": {
      "needs_background": "light"
     },
     "output_type": "display_data"
    }
   ],
   "source": [
    "fig, ax = plt.subplots(3,3, figsize=(12,10))\n",
    "labeller = az.labels.MapLabeller(var_name_map=var_dict)\n",
    "\n",
    "#az.plot_pair(numpyro_data, kind='kde', marginals=True, figsize=(10,10), textsize=16, contour=False, labeller=labeller, reference_values=ref_dict, ax=ax, marginal_kwargs={'color':'green'},\n",
    "#kde_kwargs={\"contourf_kwargs\": {\"cmap\": \"Greens\"}})\n",
    "\n",
    "#az.plot_pair(idata_num, kind='kde', marginals=True, figsize=(10,10), textsize=16, contour=False, labeller=labeller, reference_values=ref_dict, kde_kwargs={\"contourf_kwargs\": {\"cmap\": \"Blues\"}},\n",
    "#ax=ax, marginal_kwargs={'color':'blue'})\n",
    "\n",
    "\n",
    "az.plot_pair(idata_em, kind='kde', marginals=True, figsize=(10,10), textsize=16, contour=False, labeller=labeller, reference_values=ref_dict, \n",
    "kde_kwargs={\"hdi_probs\": [0.68, 0.95], \"contourf_kwargs\": {\"cmap\": \"Reds\"}},\n",
    "ax=ax, marginal_kwargs={'color':'red'},\n",
    "point_estimate=\"mean\"\n",
    ")"
   ]
  },
  {
   "cell_type": "code",
   "execution_count": 76,
   "id": "215ea3e9",
   "metadata": {},
   "outputs": [
    {
     "name": "stdout",
     "output_type": "stream",
     "text": [
      "[[<AxesSubplot:ylabel='theta\\nChoate'> <AxesSubplot:>]\n",
      " [<AxesSubplot:xlabel='mu', ylabel='theta\\nDeerfield'>\n",
      "  <AxesSubplot:xlabel='theta\\nChoate'>]]\n"
     ]
    },
    {
     "data": {
      "image/png": "[encoded data removed]",
      "text/plain": [
       "<Figure size 720x576 with 3 Axes>"
      ]
     },
     "metadata": {
      "needs_background": "light"
     },
     "output_type": "display_data"
    }
   ],
   "source": [
    "import matplotlib.pyplot as plt\n",
    "\n",
    "import arviz as az\n",
    "\n",
    "centered = az.load_arviz_data(\"centered_eight\")\n",
    "\n",
    "coords = {\"school\": [\"Choate\", \"Deerfield\"]}\n",
    "ax = az.plot_pair(\n",
    "    centered,\n",
    "    var_names=[\"mu\", \"theta\"],\n",
    "    #kind=[\"scatter\", \"kde\"],\n",
    "    kind=[\"kde\"],\n",
    "    #kde_kwargs={\"fill_last\": False},\n",
    "    #marginals=True,\n",
    "    coords=coords,\n",
    "    point_estimate='mean',\n",
    "    point_estimate_kwargs={'ls':'--'},\n",
    "    figsize=(10, 8)\n",
    ")\n",
    "print(ax)\n",
    "ax[0,0].text(s='hola', x=0.5, y=0.5)\n",
    "plt.show()"
   ]
  },
  {
   "cell_type": "code",
   "execution_count": null,
   "id": "8a301779",
   "metadata": {},
   "outputs": [],
   "source": [
    "ax.axvline"
   ]
  },
  {
   "cell_type": "code",
   "execution_count": 64,
   "id": "e228dc49",
   "metadata": {},
   "outputs": [],
   "source": [
    "import jax\n",
    "import emcee_jax\n",
    "\n",
    "def log_prob(theta, a1=100.0, a2=20.0):\n",
    "    x1, x2 = theta\n",
    "    some_number = x1 + jax.numpy.sin(x2)\n",
    "    log_prob_value = -(a1 * (x2 - x1**2)**2 + (1 - x1)**2) / a2\n",
    "\n",
    "    # This second argument can be any PyTree\n",
    "    return log_prob_value, {\"some_number\": some_number}\n",
    "\n",
    "num_walkers, num_steps = 100, 1000\n",
    "key1, key2, key3 = jax.random.split(jax.random.PRNGKey(0), 3)\n",
    "coords = jax.random.normal(key1, shape=(num_walkers, 2))\n",
    "sampler = emcee_jax.EnsembleSampler(log_prob)\n",
    "state = sampler.init(key2, coords)\n",
    "trace = sampler.sample(key3, state, num_steps)\n"
   ]
  },
  {
   "cell_type": "code",
   "execution_count": 68,
   "id": "702bfbc9",
   "metadata": {},
   "outputs": [
    {
     "data": {
      "text/html": [
       "\n",
       "            <div>\n",
       "              <div class='xr-header'>\n",
       "                <div class=\"xr-obj-type\">arviz.InferenceData</div>\n",
       "              </div>\n",
       "              <ul class=\"xr-sections group-sections\">\n",
       "              \n",
       "            <li class = \"xr-section-item\">\n",
       "                  <input id=\"idata_posteriordce245bc-6520-493c-b453-c35727b68b50\" class=\"xr-section-summary-in\" type=\"checkbox\">\n",
       "                  <label for=\"idata_posteriordce245bc-6520-493c-b453-c35727b68b50\" class = \"xr-section-summary\">posterior</label>\n",
       "                  <div class=\"xr-section-inline-details\"></div>\n",
       "                  <div class=\"xr-section-details\">\n",
       "                      <ul id=\"xr-dataset-coord-list\" class=\"xr-var-list\">\n",
       "                          <div style=\"padding-left:2rem;\"><div><svg style=\"position: absolute; width: 0; height: 0; overflow: hidden\">\n",
       "<defs>\n",
       "<symbol id=\"icon-database\" viewBox=\"0 0 32 32\">\n",
       "<path d=\"M16 0c-8.837 0-16 2.239-16 5v4c0 2.761 7.163 5 16 5s16-2.239 16-5v-4c0-2.761-7.163-5-16-5z\"></path>\n",
       "<path d=\"M16 17c-8.837 0-16-2.239-16-5v6c0 2.761 7.163 5 16 5s16-2.239 16-5v-6c0 2.761-7.163 5-16 5z\"></path>\n",
       "<path d=\"M16 26c-8.837 0-16-2.239-16-5v6c0 2.761 7.163 5 16 5s16-2.239 16-5v-6c0 2.761-7.163 5-16 5z\"></path>\n",
       "</symbol>\n",
       "<symbol id=\"icon-file-text2\" viewBox=\"0 0 32 32\">\n",
       "<path d=\"M28.681 7.159c-0.694-0.947-1.662-2.053-2.724-3.116s-2.169-2.030-3.116-2.724c-1.612-1.182-2.393-1.319-2.841-1.319h-15.5c-1.378 0-2.5 1.121-2.5 2.5v27c0 1.378 1.122 2.5 2.5 2.5h23c1.378 0 2.5-1.122 2.5-2.5v-19.5c0-0.448-0.137-1.23-1.319-2.841zM24.543 5.457c0.959 0.959 1.712 1.825 2.268 2.543h-4.811v-4.811c0.718 0.556 1.584 1.309 2.543 2.268zM28 29.5c0 0.271-0.229 0.5-0.5 0.5h-23c-0.271 0-0.5-0.229-0.5-0.5v-27c0-0.271 0.229-0.5 0.5-0.5 0 0 15.499-0 15.5 0v7c0 0.552 0.448 1 1 1h7v19.5z\"></path>\n",
       "<path d=\"M23 26h-14c-0.552 0-1-0.448-1-1s0.448-1 1-1h14c0.552 0 1 0.448 1 1s-0.448 1-1 1z\"></path>\n",
       "<path d=\"M23 22h-14c-0.552 0-1-0.448-1-1s0.448-1 1-1h14c0.552 0 1 0.448 1 1s-0.448 1-1 1z\"></path>\n",
       "<path d=\"M23 18h-14c-0.552 0-1-0.448-1-1s0.448-1 1-1h14c0.552 0 1 0.448 1 1s-0.448 1-1 1z\"></path>\n",
       "</symbol>\n",
       "</defs>\n",
       "</svg>\n",
       "<style>/* CSS stylesheet for displaying xarray objects in jupyterlab.\n",
       " *\n",
       " */\n",
       "\n",
       ":root {\n",
       "  --xr-font-color0: var(--jp-content-font-color0, rgba(0, 0, 0, 1));\n",
       "  --xr-font-color2: var(--jp-content-font-color2, rgba(0, 0, 0, 0.54));\n",
       "  --xr-font-color3: var(--jp-content-font-color3, rgba(0, 0, 0, 0.38));\n",
       "  --xr-border-color: var(--jp-border-color2, #e0e0e0);\n",
       "  --xr-disabled-color: var(--jp-layout-color3, #bdbdbd);\n",
       "  --xr-background-color: var(--jp-layout-color0, white);\n",
       "  --xr-background-color-row-even: var(--jp-layout-color1, white);\n",
       "  --xr-background-color-row-odd: var(--jp-layout-color2, #eeeeee);\n",
       "}\n",
       "\n",
       "html[theme=dark],\n",
       "body.vscode-dark {\n",
       "  --xr-font-color0: rgba(255, 255, 255, 1);\n",
       "  --xr-font-color2: rgba(255, 255, 255, 0.54);\n",
       "  --xr-font-color3: rgba(255, 255, 255, 0.38);\n",
       "  --xr-border-color: #1F1F1F;\n",
       "  --xr-disabled-color: #515151;\n",
       "  --xr-background-color: #111111;\n",
       "  --xr-background-color-row-even: #111111;\n",
       "  --xr-background-color-row-odd: #313131;\n",
       "}\n",
       "\n",
       ".xr-wrap {\n",
       "  display: block !important;\n",
       "  min-width: 300px;\n",
       "  max-width: 700px;\n",
       "}\n",
       "\n",
       ".xr-text-repr-fallback {\n",
       "  /* fallback to plain text repr when CSS is not injected (untrusted notebook) */\n",
       "  display: none;\n",
       "}\n",
       "\n",
       ".xr-header {\n",
       "  padding-top: 6px;\n",
       "  padding-bottom: 6px;\n",
       "  margin-bottom: 4px;\n",
       "  border-bottom: solid 1px var(--xr-border-color);\n",
       "}\n",
       "\n",
       ".xr-header > div,\n",
       ".xr-header > ul {\n",
       "  display: inline;\n",
       "  margin-top: 0;\n",
       "  margin-bottom: 0;\n",
       "}\n",
       "\n",
       ".xr-obj-type,\n",
       ".xr-array-name {\n",
       "  margin-left: 2px;\n",
       "  margin-right: 10px;\n",
       "}\n",
       "\n",
       ".xr-obj-type {\n",
       "  color: var(--xr-font-color2);\n",
       "}\n",
       "\n",
       ".xr-sections {\n",
       "  padding-left: 0 !important;\n",
       "  display: grid;\n",
       "  grid-template-columns: 150px auto auto 1fr 20px 20px;\n",
       "}\n",
       "\n",
       ".xr-section-item {\n",
       "  display: contents;\n",
       "}\n",
       "\n",
       ".xr-section-item input {\n",
       "  display: none;\n",
       "}\n",
       "\n",
       ".xr-section-item input + label {\n",
       "  color: var(--xr-disabled-color);\n",
       "}\n",
       "\n",
       ".xr-section-item input:enabled + label {\n",
       "  cursor: pointer;\n",
       "  color: var(--xr-font-color2);\n",
       "}\n",
       "\n",
       ".xr-section-item input:enabled + label:hover {\n",
       "  color: var(--xr-font-color0);\n",
       "}\n",
       "\n",
       ".xr-section-summary {\n",
       "  grid-column: 1;\n",
       "  color: var(--xr-font-color2);\n",
       "  font-weight: 500;\n",
       "}\n",
       "\n",
       ".xr-section-summary > span {\n",
       "  display: inline-block;\n",
       "  padding-left: 0.5em;\n",
       "}\n",
       "\n",
       ".xr-section-summary-in:disabled + label {\n",
       "  color: var(--xr-font-color2);\n",
       "}\n",
       "\n",
       ".xr-section-summary-in + label:before {\n",
       "  display: inline-block;\n",
       "  content: '►';\n",
       "  font-size: 11px;\n",
       "  width: 15px;\n",
       "  text-align: center;\n",
       "}\n",
       "\n",
       ".xr-section-summary-in:disabled + label:before {\n",
       "  color: var(--xr-disabled-color);\n",
       "}\n",
       "\n",
       ".xr-section-summary-in:checked + label:before {\n",
       "  content: '▼';\n",
       "}\n",
       "\n",
       ".xr-section-summary-in:checked + label > span {\n",
       "  display: none;\n",
       "}\n",
       "\n",
       ".xr-section-summary,\n",
       ".xr-section-inline-details {\n",
       "  padding-top: 4px;\n",
       "  padding-bottom: 4px;\n",
       "}\n",
       "\n",
       ".xr-section-inline-details {\n",
       "  grid-column: 2 / -1;\n",
       "}\n",
       "\n",
       ".xr-section-details {\n",
       "  display: none;\n",
       "  grid-column: 1 / -1;\n",
       "  margin-bottom: 5px;\n",
       "}\n",
       "\n",
       ".xr-section-summary-in:checked ~ .xr-section-details {\n",
       "  display: contents;\n",
       "}\n",
       "\n",
       ".xr-array-wrap {\n",
       "  grid-column: 1 / -1;\n",
       "  display: grid;\n",
       "  grid-template-columns: 20px auto;\n",
       "}\n",
       "\n",
       ".xr-array-wrap > label {\n",
       "  grid-column: 1;\n",
       "  vertical-align: top;\n",
       "}\n",
       "\n",
       ".xr-preview {\n",
       "  color: var(--xr-font-color3);\n",
       "}\n",
       "\n",
       ".xr-array-preview,\n",
       ".xr-array-data {\n",
       "  padding: 0 5px !important;\n",
       "  grid-column: 2;\n",
       "}\n",
       "\n",
       ".xr-array-data,\n",
       ".xr-array-in:checked ~ .xr-array-preview {\n",
       "  display: none;\n",
       "}\n",
       "\n",
       ".xr-array-in:checked ~ .xr-array-data,\n",
       ".xr-array-preview {\n",
       "  display: inline-block;\n",
       "}\n",
       "\n",
       ".xr-dim-list {\n",
       "  display: inline-block !important;\n",
       "  list-style: none;\n",
       "  padding: 0 !important;\n",
       "  margin: 0;\n",
       "}\n",
       "\n",
       ".xr-dim-list li {\n",
       "  display: inline-block;\n",
       "  padding: 0;\n",
       "  margin: 0;\n",
       "}\n",
       "\n",
       ".xr-dim-list:before {\n",
       "  content: '(';\n",
       "}\n",
       "\n",
       ".xr-dim-list:after {\n",
       "  content: ')';\n",
       "}\n",
       "\n",
       ".xr-dim-list li:not(:last-child):after {\n",
       "  content: ',';\n",
       "  padding-right: 5px;\n",
       "}\n",
       "\n",
       ".xr-has-index {\n",
       "  font-weight: bold;\n",
       "}\n",
       "\n",
       ".xr-var-list,\n",
       ".xr-var-item {\n",
       "  display: contents;\n",
       "}\n",
       "\n",
       ".xr-var-item > div,\n",
       ".xr-var-item label,\n",
       ".xr-var-item > .xr-var-name span {\n",
       "  background-color: var(--xr-background-color-row-even);\n",
       "  margin-bottom: 0;\n",
       "}\n",
       "\n",
       ".xr-var-item > .xr-var-name:hover span {\n",
       "  padding-right: 5px;\n",
       "}\n",
       "\n",
       ".xr-var-list > li:nth-child(odd) > div,\n",
       ".xr-var-list > li:nth-child(odd) > label,\n",
       ".xr-var-list > li:nth-child(odd) > .xr-var-name span {\n",
       "  background-color: var(--xr-background-color-row-odd);\n",
       "}\n",
       "\n",
       ".xr-var-name {\n",
       "  grid-column: 1;\n",
       "}\n",
       "\n",
       ".xr-var-dims {\n",
       "  grid-column: 2;\n",
       "}\n",
       "\n",
       ".xr-var-dtype {\n",
       "  grid-column: 3;\n",
       "  text-align: right;\n",
       "  color: var(--xr-font-color2);\n",
       "}\n",
       "\n",
       ".xr-var-preview {\n",
       "  grid-column: 4;\n",
       "}\n",
       "\n",
       ".xr-var-name,\n",
       ".xr-var-dims,\n",
       ".xr-var-dtype,\n",
       ".xr-preview,\n",
       ".xr-attrs dt {\n",
       "  white-space: nowrap;\n",
       "  overflow: hidden;\n",
       "  text-overflow: ellipsis;\n",
       "  padding-right: 10px;\n",
       "}\n",
       "\n",
       ".xr-var-name:hover,\n",
       ".xr-var-dims:hover,\n",
       ".xr-var-dtype:hover,\n",
       ".xr-attrs dt:hover {\n",
       "  overflow: visible;\n",
       "  width: auto;\n",
       "  z-index: 1;\n",
       "}\n",
       "\n",
       ".xr-var-attrs,\n",
       ".xr-var-data {\n",
       "  display: none;\n",
       "  background-color: var(--xr-background-color) !important;\n",
       "  padding-bottom: 5px !important;\n",
       "}\n",
       "\n",
       ".xr-var-attrs-in:checked ~ .xr-var-attrs,\n",
       ".xr-var-data-in:checked ~ .xr-var-data {\n",
       "  display: block;\n",
       "}\n",
       "\n",
       ".xr-var-data > table {\n",
       "  float: right;\n",
       "}\n",
       "\n",
       ".xr-var-name span,\n",
       ".xr-var-data,\n",
       ".xr-attrs {\n",
       "  padding-left: 25px !important;\n",
       "}\n",
       "\n",
       ".xr-attrs,\n",
       ".xr-var-attrs,\n",
       ".xr-var-data {\n",
       "  grid-column: 1 / -1;\n",
       "}\n",
       "\n",
       "dl.xr-attrs {\n",
       "  padding: 0;\n",
       "  margin: 0;\n",
       "  display: grid;\n",
       "  grid-template-columns: 125px auto;\n",
       "}\n",
       "\n",
       ".xr-attrs dt,\n",
       ".xr-attrs dd {\n",
       "  padding: 0;\n",
       "  margin: 0;\n",
       "  float: left;\n",
       "  padding-right: 10px;\n",
       "  width: auto;\n",
       "}\n",
       "\n",
       ".xr-attrs dt {\n",
       "  font-weight: normal;\n",
       "  grid-column: 1;\n",
       "}\n",
       "\n",
       ".xr-attrs dt:hover span {\n",
       "  display: inline-block;\n",
       "  background: var(--xr-background-color);\n",
       "  padding-right: 10px;\n",
       "}\n",
       "\n",
       ".xr-attrs dd {\n",
       "  grid-column: 2;\n",
       "  white-space: pre-wrap;\n",
       "  word-break: break-all;\n",
       "}\n",
       "\n",
       ".xr-icon-database,\n",
       ".xr-icon-file-text2 {\n",
       "  display: inline-block;\n",
       "  vertical-align: middle;\n",
       "  width: 1em;\n",
       "  height: 1.5em !important;\n",
       "  stroke-width: 0;\n",
       "  stroke: currentColor;\n",
       "  fill: currentColor;\n",
       "}\n",
       "</style><pre class='xr-text-repr-fallback'>&lt;xarray.Dataset&gt;\n",
       "Dimensions:        (chain: 100, draw: 1000, param_0_dim_0: 2)\n",
       "Coordinates:\n",
       "  * chain          (chain) int64 0 1 2 3 4 5 6 7 8 ... 92 93 94 95 96 97 98 99\n",
       "  * draw           (draw) int64 0 1 2 3 4 5 6 7 ... 993 994 995 996 997 998 999\n",
       "  * param_0_dim_0  (param_0_dim_0) int64 0 1\n",
       "Data variables:\n",
       "    param_0        (chain, draw, param_0_dim_0) float32 1.293 -1.776 ... 0.06608\n",
       "    some_number    (chain, draw) float32 0.3137 -0.1029 ... 0.1292 0.1292\n",
       "Attributes:\n",
       "    created_at:                 2022-07-12T14:48:54.520949\n",
       "    arviz_version:              0.12.1\n",
       "    inference_library:          emcee_jax\n",
       "    inference_library_version:  0.1.dev28+gc52f427</pre><div class='xr-wrap' style='display:none'><div class='xr-header'><div class='xr-obj-type'>xarray.Dataset</div></div><ul class='xr-sections'><li class='xr-section-item'><input id='section-2d0c3835-d458-4cbf-ae15-4efb190dcede' class='xr-section-summary-in' type='checkbox' disabled ><label for='section-2d0c3835-d458-4cbf-ae15-4efb190dcede' class='xr-section-summary'  title='Expand/collapse section'>Dimensions:</label><div class='xr-section-inline-details'><ul class='xr-dim-list'><li><span class='xr-has-index'>chain</span>: 100</li><li><span class='xr-has-index'>draw</span>: 1000</li><li><span class='xr-has-index'>param_0_dim_0</span>: 2</li></ul></div><div class='xr-section-details'></div></li><li class='xr-section-item'><input id='section-2c3b7c11-b7a5-4b54-aa4c-fdf9ee486ee1' class='xr-section-summary-in' type='checkbox'  checked><label for='section-2c3b7c11-b7a5-4b54-aa4c-fdf9ee486ee1' class='xr-section-summary' >Coordinates: <span>(3)</span></label><div class='xr-section-inline-details'></div><div class='xr-section-details'><ul class='xr-var-list'><li class='xr-var-item'><div class='xr-var-name'><span class='xr-has-index'>chain</span></div><div class='xr-var-dims'>(chain)</div><div class='xr-var-dtype'>int64</div><div class='xr-var-preview xr-preview'>0 1 2 3 4 5 6 ... 94 95 96 97 98 99</div><input id='attrs-8ecca9c0-402c-499d-b4bb-021c690d0d5e' class='xr-var-attrs-in' type='checkbox' disabled><label for='attrs-8ecca9c0-402c-499d-b4bb-021c690d0d5e' title='Show/Hide attributes'><svg class='icon xr-icon-file-text2'><use xlink:href='#icon-file-text2'></use></svg></label><input id='data-a17e40ea-a339-427b-baa5-28064d4ac60a' class='xr-var-data-in' type='checkbox'><label for='data-a17e40ea-a339-427b-baa5-28064d4ac60a' title='Show/Hide data repr'><svg class='icon xr-icon-database'><use xlink:href='#icon-database'></use></svg></label><div class='xr-var-attrs'><dl class='xr-attrs'></dl></div><div class='xr-var-data'><pre>array([ 0,  1,  2,  3,  4,  5,  6,  7,  8,  9, 10, 11, 12, 13, 14, 15, 16, 17,\n",
       "       18, 19, 20, 21, 22, 23, 24, 25, 26, 27, 28, 29, 30, 31, 32, 33, 34, 35,\n",
       "       36, 37, 38, 39, 40, 41, 42, 43, 44, 45, 46, 47, 48, 49, 50, 51, 52, 53,\n",
       "       54, 55, 56, 57, 58, 59, 60, 61, 62, 63, 64, 65, 66, 67, 68, 69, 70, 71,\n",
       "       72, 73, 74, 75, 76, 77, 78, 79, 80, 81, 82, 83, 84, 85, 86, 87, 88, 89,\n",
       "       90, 91, 92, 93, 94, 95, 96, 97, 98, 99])</pre></div></li><li class='xr-var-item'><div class='xr-var-name'><span class='xr-has-index'>draw</span></div><div class='xr-var-dims'>(draw)</div><div class='xr-var-dtype'>int64</div><div class='xr-var-preview xr-preview'>0 1 2 3 4 5 ... 995 996 997 998 999</div><input id='attrs-ed54c051-0443-43e3-a98f-396838fc575c' class='xr-var-attrs-in' type='checkbox' disabled><label for='attrs-ed54c051-0443-43e3-a98f-396838fc575c' title='Show/Hide attributes'><svg class='icon xr-icon-file-text2'><use xlink:href='#icon-file-text2'></use></svg></label><input id='data-0ffc5cf4-a58a-44b2-b2af-fe51afeb237c' class='xr-var-data-in' type='checkbox'><label for='data-0ffc5cf4-a58a-44b2-b2af-fe51afeb237c' title='Show/Hide data repr'><svg class='icon xr-icon-database'><use xlink:href='#icon-database'></use></svg></label><div class='xr-var-attrs'><dl class='xr-attrs'></dl></div><div class='xr-var-data'><pre>array([  0,   1,   2, ..., 997, 998, 999])</pre></div></li><li class='xr-var-item'><div class='xr-var-name'><span class='xr-has-index'>param_0_dim_0</span></div><div class='xr-var-dims'>(param_0_dim_0)</div><div class='xr-var-dtype'>int64</div><div class='xr-var-preview xr-preview'>0 1</div><input id='attrs-4c7a3ce2-8448-4902-a04e-8f80d15ead69' class='xr-var-attrs-in' type='checkbox' disabled><label for='attrs-4c7a3ce2-8448-4902-a04e-8f80d15ead69' title='Show/Hide attributes'><svg class='icon xr-icon-file-text2'><use xlink:href='#icon-file-text2'></use></svg></label><input id='data-f7d70bfe-e1f4-45d1-aa3f-23b62fdc047b' class='xr-var-data-in' type='checkbox'><label for='data-f7d70bfe-e1f4-45d1-aa3f-23b62fdc047b' title='Show/Hide data repr'><svg class='icon xr-icon-database'><use xlink:href='#icon-database'></use></svg></label><div class='xr-var-attrs'><dl class='xr-attrs'></dl></div><div class='xr-var-data'><pre>array([0, 1])</pre></div></li></ul></div></li><li class='xr-section-item'><input id='section-296694fc-e37e-4508-8351-15cb0443e594' class='xr-section-summary-in' type='checkbox'  checked><label for='section-296694fc-e37e-4508-8351-15cb0443e594' class='xr-section-summary' >Data variables: <span>(2)</span></label><div class='xr-section-inline-details'></div><div class='xr-section-details'><ul class='xr-var-list'><li class='xr-var-item'><div class='xr-var-name'><span>param_0</span></div><div class='xr-var-dims'>(chain, draw, param_0_dim_0)</div><div class='xr-var-dtype'>float32</div><div class='xr-var-preview xr-preview'>1.293 -1.776 ... 0.06321 0.06608</div><input id='attrs-4207e4a1-c10d-430c-9bad-0fce86616118' class='xr-var-attrs-in' type='checkbox' disabled><label for='attrs-4207e4a1-c10d-430c-9bad-0fce86616118' title='Show/Hide attributes'><svg class='icon xr-icon-file-text2'><use xlink:href='#icon-file-text2'></use></svg></label><input id='data-896dc3dd-b1a7-48be-81a9-117ce10ae870' class='xr-var-data-in' type='checkbox'><label for='data-896dc3dd-b1a7-48be-81a9-117ce10ae870' title='Show/Hide data repr'><svg class='icon xr-icon-database'><use xlink:href='#icon-database'></use></svg></label><div class='xr-var-attrs'><dl class='xr-attrs'></dl></div><div class='xr-var-data'><pre>array([[[ 1.292721  , -1.7759622 ],\n",
       "        [ 0.87658036, -1.3677597 ],\n",
       "        [ 0.9094048 , -1.2638949 ],\n",
       "        ...,\n",
       "        [ 2.0524733 ,  3.9757764 ],\n",
       "        [ 2.0606663 ,  4.0113707 ],\n",
       "        [ 2.0606663 ,  4.0113707 ]],\n",
       "\n",
       "       [[ 0.16507971,  0.02844916],\n",
       "        [ 0.20230338,  0.03066857],\n",
       "        [-0.03235865,  0.17429736],\n",
       "        ...,\n",
       "        [ 1.494027  ,  2.3311536 ],\n",
       "        [ 1.494027  ,  2.3311536 ],\n",
       "        [ 1.6969929 ,  2.5742471 ]],\n",
       "\n",
       "       [[ 1.5762385 ,  1.9208965 ],\n",
       "        [ 1.5762385 ,  1.9208965 ],\n",
       "        [ 1.5762385 ,  1.9208965 ],\n",
       "        ...,\n",
       "...\n",
       "        ...,\n",
       "        [ 3.93042   , 15.79053   ],\n",
       "        [ 3.93042   , 15.79053   ],\n",
       "        [ 3.93042   , 15.79053   ]],\n",
       "\n",
       "       [[-0.7490545 , -0.4932996 ],\n",
       "        [-0.7490545 , -0.4932996 ],\n",
       "        [-0.7490545 , -0.4932996 ],\n",
       "        ...,\n",
       "        [-0.6157298 ,  0.08187386],\n",
       "        [-0.6157298 ,  0.08187386],\n",
       "        [-0.6157298 ,  0.08187386]],\n",
       "\n",
       "       [[-0.11762025,  1.2305794 ],\n",
       "        [-0.24905531,  1.2026362 ],\n",
       "        [-0.26026627,  1.1912119 ],\n",
       "        ...,\n",
       "        [ 0.06320824,  0.06607646],\n",
       "        [ 0.06320824,  0.06607646],\n",
       "        [ 0.06320824,  0.06607646]]], dtype=float32)</pre></div></li><li class='xr-var-item'><div class='xr-var-name'><span>some_number</span></div><div class='xr-var-dims'>(chain, draw)</div><div class='xr-var-dtype'>float32</div><div class='xr-var-preview xr-preview'>0.3137 -0.1029 ... 0.1292 0.1292</div><input id='attrs-89e036f4-6498-4152-bc15-72f35ee497e0' class='xr-var-attrs-in' type='checkbox' disabled><label for='attrs-89e036f4-6498-4152-bc15-72f35ee497e0' title='Show/Hide attributes'><svg class='icon xr-icon-file-text2'><use xlink:href='#icon-file-text2'></use></svg></label><input id='data-96698e4d-809b-401d-9289-000763949dcb' class='xr-var-data-in' type='checkbox'><label for='data-96698e4d-809b-401d-9289-000763949dcb' title='Show/Hide data repr'><svg class='icon xr-icon-database'><use xlink:href='#icon-database'></use></svg></label><div class='xr-var-attrs'><dl class='xr-attrs'></dl></div><div class='xr-var-data'><pre>array([[ 0.31369382, -0.10287839, -0.04386944, ...,  1.3117249 ,\n",
       "         1.2964805 ,  1.2964805 ],\n",
       "       [ 0.19352503,  0.23296714,  0.14105754, ...,  2.218617  ,\n",
       "         2.218617  ,  2.2343884 ],\n",
       "       [ 2.5155768 ,  2.5155768 ,  2.5155768 , ..., -2.2056186 ,\n",
       "        -2.2056186 , -3.052032  ],\n",
       "       ...,\n",
       "       [-0.63713425, -0.6271646 , -0.37998444, ...,  3.847947  ,\n",
       "         3.847947  ,  3.847947  ],\n",
       "       [-1.2225891 , -1.2225891 , -1.2225891 , ..., -0.5339474 ,\n",
       "        -0.5339474 , -0.5339474 ],\n",
       "       [ 0.82506204,  0.68393576,  0.6685524 , ...,  0.12923664,\n",
       "         0.12923664,  0.12923664]], dtype=float32)</pre></div></li></ul></div></li><li class='xr-section-item'><input id='section-217318c5-ffd7-4c94-869f-5ce4ee9af610' class='xr-section-summary-in' type='checkbox'  checked><label for='section-217318c5-ffd7-4c94-869f-5ce4ee9af610' class='xr-section-summary' >Attributes: <span>(4)</span></label><div class='xr-section-inline-details'></div><div class='xr-section-details'><dl class='xr-attrs'><dt><span>created_at :</span></dt><dd>2022-07-12T14:48:54.520949</dd><dt><span>arviz_version :</span></dt><dd>0.12.1</dd><dt><span>inference_library :</span></dt><dd>emcee_jax</dd><dt><span>inference_library_version :</span></dt><dd>0.1.dev28+gc52f427</dd></dl></div></li></ul></div></div><br></div>\n",
       "                      </ul>\n",
       "                  </div>\n",
       "            </li>\n",
       "            \n",
       "            <li class = \"xr-section-item\">\n",
       "                  <input id=\"idata_sample_statse12e5243-0cbe-4d87-b167-51bbeec36a0e\" class=\"xr-section-summary-in\" type=\"checkbox\">\n",
       "                  <label for=\"idata_sample_statse12e5243-0cbe-4d87-b167-51bbeec36a0e\" class = \"xr-section-summary\">sample_stats</label>\n",
       "                  <div class=\"xr-section-inline-details\"></div>\n",
       "                  <div class=\"xr-section-details\">\n",
       "                      <ul id=\"xr-dataset-coord-list\" class=\"xr-var-list\">\n",
       "                          <div style=\"padding-left:2rem;\"><div><svg style=\"position: absolute; width: 0; height: 0; overflow: hidden\">\n",
       "<defs>\n",
       "<symbol id=\"icon-database\" viewBox=\"0 0 32 32\">\n",
       "<path d=\"M16 0c-8.837 0-16 2.239-16 5v4c0 2.761 7.163 5 16 5s16-2.239 16-5v-4c0-2.761-7.163-5-16-5z\"></path>\n",
       "<path d=\"M16 17c-8.837 0-16-2.239-16-5v6c0 2.761 7.163 5 16 5s16-2.239 16-5v-6c0 2.761-7.163 5-16 5z\"></path>\n",
       "<path d=\"M16 26c-8.837 0-16-2.239-16-5v6c0 2.761 7.163 5 16 5s16-2.239 16-5v-6c0 2.761-7.163 5-16 5z\"></path>\n",
       "</symbol>\n",
       "<symbol id=\"icon-file-text2\" viewBox=\"0 0 32 32\">\n",
       "<path d=\"M28.681 7.159c-0.694-0.947-1.662-2.053-2.724-3.116s-2.169-2.030-3.116-2.724c-1.612-1.182-2.393-1.319-2.841-1.319h-15.5c-1.378 0-2.5 1.121-2.5 2.5v27c0 1.378 1.122 2.5 2.5 2.5h23c1.378 0 2.5-1.122 2.5-2.5v-19.5c0-0.448-0.137-1.23-1.319-2.841zM24.543 5.457c0.959 0.959 1.712 1.825 2.268 2.543h-4.811v-4.811c0.718 0.556 1.584 1.309 2.543 2.268zM28 29.5c0 0.271-0.229 0.5-0.5 0.5h-23c-0.271 0-0.5-0.229-0.5-0.5v-27c0-0.271 0.229-0.5 0.5-0.5 0 0 15.499-0 15.5 0v7c0 0.552 0.448 1 1 1h7v19.5z\"></path>\n",
       "<path d=\"M23 26h-14c-0.552 0-1-0.448-1-1s0.448-1 1-1h14c0.552 0 1 0.448 1 1s-0.448 1-1 1z\"></path>\n",
       "<path d=\"M23 22h-14c-0.552 0-1-0.448-1-1s0.448-1 1-1h14c0.552 0 1 0.448 1 1s-0.448 1-1 1z\"></path>\n",
       "<path d=\"M23 18h-14c-0.552 0-1-0.448-1-1s0.448-1 1-1h14c0.552 0 1 0.448 1 1s-0.448 1-1 1z\"></path>\n",
       "</symbol>\n",
       "</defs>\n",
       "</svg>\n",
       "<style>/* CSS stylesheet for displaying xarray objects in jupyterlab.\n",
       " *\n",
       " */\n",
       "\n",
       ":root {\n",
       "  --xr-font-color0: var(--jp-content-font-color0, rgba(0, 0, 0, 1));\n",
       "  --xr-font-color2: var(--jp-content-font-color2, rgba(0, 0, 0, 0.54));\n",
       "  --xr-font-color3: var(--jp-content-font-color3, rgba(0, 0, 0, 0.38));\n",
       "  --xr-border-color: var(--jp-border-color2, #e0e0e0);\n",
       "  --xr-disabled-color: var(--jp-layout-color3, #bdbdbd);\n",
       "  --xr-background-color: var(--jp-layout-color0, white);\n",
       "  --xr-background-color-row-even: var(--jp-layout-color1, white);\n",
       "  --xr-background-color-row-odd: var(--jp-layout-color2, #eeeeee);\n",
       "}\n",
       "\n",
       "html[theme=dark],\n",
       "body.vscode-dark {\n",
       "  --xr-font-color0: rgba(255, 255, 255, 1);\n",
       "  --xr-font-color2: rgba(255, 255, 255, 0.54);\n",
       "  --xr-font-color3: rgba(255, 255, 255, 0.38);\n",
       "  --xr-border-color: #1F1F1F;\n",
       "  --xr-disabled-color: #515151;\n",
       "  --xr-background-color: #111111;\n",
       "  --xr-background-color-row-even: #111111;\n",
       "  --xr-background-color-row-odd: #313131;\n",
       "}\n",
       "\n",
       ".xr-wrap {\n",
       "  display: block !important;\n",
       "  min-width: 300px;\n",
       "  max-width: 700px;\n",
       "}\n",
       "\n",
       ".xr-text-repr-fallback {\n",
       "  /* fallback to plain text repr when CSS is not injected (untrusted notebook) */\n",
       "  display: none;\n",
       "}\n",
       "\n",
       ".xr-header {\n",
       "  padding-top: 6px;\n",
       "  padding-bottom: 6px;\n",
       "  margin-bottom: 4px;\n",
       "  border-bottom: solid 1px var(--xr-border-color);\n",
       "}\n",
       "\n",
       ".xr-header > div,\n",
       ".xr-header > ul {\n",
       "  display: inline;\n",
       "  margin-top: 0;\n",
       "  margin-bottom: 0;\n",
       "}\n",
       "\n",
       ".xr-obj-type,\n",
       ".xr-array-name {\n",
       "  margin-left: 2px;\n",
       "  margin-right: 10px;\n",
       "}\n",
       "\n",
       ".xr-obj-type {\n",
       "  color: var(--xr-font-color2);\n",
       "}\n",
       "\n",
       ".xr-sections {\n",
       "  padding-left: 0 !important;\n",
       "  display: grid;\n",
       "  grid-template-columns: 150px auto auto 1fr 20px 20px;\n",
       "}\n",
       "\n",
       ".xr-section-item {\n",
       "  display: contents;\n",
       "}\n",
       "\n",
       ".xr-section-item input {\n",
       "  display: none;\n",
       "}\n",
       "\n",
       ".xr-section-item input + label {\n",
       "  color: var(--xr-disabled-color);\n",
       "}\n",
       "\n",
       ".xr-section-item input:enabled + label {\n",
       "  cursor: pointer;\n",
       "  color: var(--xr-font-color2);\n",
       "}\n",
       "\n",
       ".xr-section-item input:enabled + label:hover {\n",
       "  color: var(--xr-font-color0);\n",
       "}\n",
       "\n",
       ".xr-section-summary {\n",
       "  grid-column: 1;\n",
       "  color: var(--xr-font-color2);\n",
       "  font-weight: 500;\n",
       "}\n",
       "\n",
       ".xr-section-summary > span {\n",
       "  display: inline-block;\n",
       "  padding-left: 0.5em;\n",
       "}\n",
       "\n",
       ".xr-section-summary-in:disabled + label {\n",
       "  color: var(--xr-font-color2);\n",
       "}\n",
       "\n",
       ".xr-section-summary-in + label:before {\n",
       "  display: inline-block;\n",
       "  content: '►';\n",
       "  font-size: 11px;\n",
       "  width: 15px;\n",
       "  text-align: center;\n",
       "}\n",
       "\n",
       ".xr-section-summary-in:disabled + label:before {\n",
       "  color: var(--xr-disabled-color);\n",
       "}\n",
       "\n",
       ".xr-section-summary-in:checked + label:before {\n",
       "  content: '▼';\n",
       "}\n",
       "\n",
       ".xr-section-summary-in:checked + label > span {\n",
       "  display: none;\n",
       "}\n",
       "\n",
       ".xr-section-summary,\n",
       ".xr-section-inline-details {\n",
       "  padding-top: 4px;\n",
       "  padding-bottom: 4px;\n",
       "}\n",
       "\n",
       ".xr-section-inline-details {\n",
       "  grid-column: 2 / -1;\n",
       "}\n",
       "\n",
       ".xr-section-details {\n",
       "  display: none;\n",
       "  grid-column: 1 / -1;\n",
       "  margin-bottom: 5px;\n",
       "}\n",
       "\n",
       ".xr-section-summary-in:checked ~ .xr-section-details {\n",
       "  display: contents;\n",
       "}\n",
       "\n",
       ".xr-array-wrap {\n",
       "  grid-column: 1 / -1;\n",
       "  display: grid;\n",
       "  grid-template-columns: 20px auto;\n",
       "}\n",
       "\n",
       ".xr-array-wrap > label {\n",
       "  grid-column: 1;\n",
       "  vertical-align: top;\n",
       "}\n",
       "\n",
       ".xr-preview {\n",
       "  color: var(--xr-font-color3);\n",
       "}\n",
       "\n",
       ".xr-array-preview,\n",
       ".xr-array-data {\n",
       "  padding: 0 5px !important;\n",
       "  grid-column: 2;\n",
       "}\n",
       "\n",
       ".xr-array-data,\n",
       ".xr-array-in:checked ~ .xr-array-preview {\n",
       "  display: none;\n",
       "}\n",
       "\n",
       ".xr-array-in:checked ~ .xr-array-data,\n",
       ".xr-array-preview {\n",
       "  display: inline-block;\n",
       "}\n",
       "\n",
       ".xr-dim-list {\n",
       "  display: inline-block !important;\n",
       "  list-style: none;\n",
       "  padding: 0 !important;\n",
       "  margin: 0;\n",
       "}\n",
       "\n",
       ".xr-dim-list li {\n",
       "  display: inline-block;\n",
       "  padding: 0;\n",
       "  margin: 0;\n",
       "}\n",
       "\n",
       ".xr-dim-list:before {\n",
       "  content: '(';\n",
       "}\n",
       "\n",
       ".xr-dim-list:after {\n",
       "  content: ')';\n",
       "}\n",
       "\n",
       ".xr-dim-list li:not(:last-child):after {\n",
       "  content: ',';\n",
       "  padding-right: 5px;\n",
       "}\n",
       "\n",
       ".xr-has-index {\n",
       "  font-weight: bold;\n",
       "}\n",
       "\n",
       ".xr-var-list,\n",
       ".xr-var-item {\n",
       "  display: contents;\n",
       "}\n",
       "\n",
       ".xr-var-item > div,\n",
       ".xr-var-item label,\n",
       ".xr-var-item > .xr-var-name span {\n",
       "  background-color: var(--xr-background-color-row-even);\n",
       "  margin-bottom: 0;\n",
       "}\n",
       "\n",
       ".xr-var-item > .xr-var-name:hover span {\n",
       "  padding-right: 5px;\n",
       "}\n",
       "\n",
       ".xr-var-list > li:nth-child(odd) > div,\n",
       ".xr-var-list > li:nth-child(odd) > label,\n",
       ".xr-var-list > li:nth-child(odd) > .xr-var-name span {\n",
       "  background-color: var(--xr-background-color-row-odd);\n",
       "}\n",
       "\n",
       ".xr-var-name {\n",
       "  grid-column: 1;\n",
       "}\n",
       "\n",
       ".xr-var-dims {\n",
       "  grid-column: 2;\n",
       "}\n",
       "\n",
       ".xr-var-dtype {\n",
       "  grid-column: 3;\n",
       "  text-align: right;\n",
       "  color: var(--xr-font-color2);\n",
       "}\n",
       "\n",
       ".xr-var-preview {\n",
       "  grid-column: 4;\n",
       "}\n",
       "\n",
       ".xr-var-name,\n",
       ".xr-var-dims,\n",
       ".xr-var-dtype,\n",
       ".xr-preview,\n",
       ".xr-attrs dt {\n",
       "  white-space: nowrap;\n",
       "  overflow: hidden;\n",
       "  text-overflow: ellipsis;\n",
       "  padding-right: 10px;\n",
       "}\n",
       "\n",
       ".xr-var-name:hover,\n",
       ".xr-var-dims:hover,\n",
       ".xr-var-dtype:hover,\n",
       ".xr-attrs dt:hover {\n",
       "  overflow: visible;\n",
       "  width: auto;\n",
       "  z-index: 1;\n",
       "}\n",
       "\n",
       ".xr-var-attrs,\n",
       ".xr-var-data {\n",
       "  display: none;\n",
       "  background-color: var(--xr-background-color) !important;\n",
       "  padding-bottom: 5px !important;\n",
       "}\n",
       "\n",
       ".xr-var-attrs-in:checked ~ .xr-var-attrs,\n",
       ".xr-var-data-in:checked ~ .xr-var-data {\n",
       "  display: block;\n",
       "}\n",
       "\n",
       ".xr-var-data > table {\n",
       "  float: right;\n",
       "}\n",
       "\n",
       ".xr-var-name span,\n",
       ".xr-var-data,\n",
       ".xr-attrs {\n",
       "  padding-left: 25px !important;\n",
       "}\n",
       "\n",
       ".xr-attrs,\n",
       ".xr-var-attrs,\n",
       ".xr-var-data {\n",
       "  grid-column: 1 / -1;\n",
       "}\n",
       "\n",
       "dl.xr-attrs {\n",
       "  padding: 0;\n",
       "  margin: 0;\n",
       "  display: grid;\n",
       "  grid-template-columns: 125px auto;\n",
       "}\n",
       "\n",
       ".xr-attrs dt,\n",
       ".xr-attrs dd {\n",
       "  padding: 0;\n",
       "  margin: 0;\n",
       "  float: left;\n",
       "  padding-right: 10px;\n",
       "  width: auto;\n",
       "}\n",
       "\n",
       ".xr-attrs dt {\n",
       "  font-weight: normal;\n",
       "  grid-column: 1;\n",
       "}\n",
       "\n",
       ".xr-attrs dt:hover span {\n",
       "  display: inline-block;\n",
       "  background: var(--xr-background-color);\n",
       "  padding-right: 10px;\n",
       "}\n",
       "\n",
       ".xr-attrs dd {\n",
       "  grid-column: 2;\n",
       "  white-space: pre-wrap;\n",
       "  word-break: break-all;\n",
       "}\n",
       "\n",
       ".xr-icon-database,\n",
       ".xr-icon-file-text2 {\n",
       "  display: inline-block;\n",
       "  vertical-align: middle;\n",
       "  width: 1em;\n",
       "  height: 1.5em !important;\n",
       "  stroke-width: 0;\n",
       "  stroke: currentColor;\n",
       "  fill: currentColor;\n",
       "}\n",
       "</style><pre class='xr-text-repr-fallback'>&lt;xarray.Dataset&gt;\n",
       "Dimensions:          (chain: 100, draw: 1000)\n",
       "Coordinates:\n",
       "  * chain            (chain) int64 0 1 2 3 4 5 6 7 8 ... 92 93 94 95 96 97 98 99\n",
       "  * draw             (draw) int64 0 1 2 3 4 5 6 ... 993 994 995 996 997 998 999\n",
       "Data variables:\n",
       "    accept           (chain, draw) bool True True True ... False False False\n",
       "    acceptance_rate  (chain, draw) float32 1.0 1.0 1.0 ... 0.0 0.0 2.359e-11\n",
       "    lp               (chain, draw) float32 -59.42 -22.82 ... -0.06315 -0.06315\n",
       "Attributes:\n",
       "    created_at:                 2022-07-12T14:48:54.522617\n",
       "    arviz_version:              0.12.1\n",
       "    inference_library:          emcee_jax\n",
       "    inference_library_version:  0.1.dev28+gc52f427</pre><div class='xr-wrap' style='display:none'><div class='xr-header'><div class='xr-obj-type'>xarray.Dataset</div></div><ul class='xr-sections'><li class='xr-section-item'><input id='section-2b4730dc-ecd9-4e9c-b898-a9afbd37c454' class='xr-section-summary-in' type='checkbox' disabled ><label for='section-2b4730dc-ecd9-4e9c-b898-a9afbd37c454' class='xr-section-summary'  title='Expand/collapse section'>Dimensions:</label><div class='xr-section-inline-details'><ul class='xr-dim-list'><li><span class='xr-has-index'>chain</span>: 100</li><li><span class='xr-has-index'>draw</span>: 1000</li></ul></div><div class='xr-section-details'></div></li><li class='xr-section-item'><input id='section-aeb771fc-1437-4e18-8ee4-3ed6783da2bf' class='xr-section-summary-in' type='checkbox'  checked><label for='section-aeb771fc-1437-4e18-8ee4-3ed6783da2bf' class='xr-section-summary' >Coordinates: <span>(2)</span></label><div class='xr-section-inline-details'></div><div class='xr-section-details'><ul class='xr-var-list'><li class='xr-var-item'><div class='xr-var-name'><span class='xr-has-index'>chain</span></div><div class='xr-var-dims'>(chain)</div><div class='xr-var-dtype'>int64</div><div class='xr-var-preview xr-preview'>0 1 2 3 4 5 6 ... 94 95 96 97 98 99</div><input id='attrs-4016f5b0-af4f-4a63-b9be-5e8e3f1e3885' class='xr-var-attrs-in' type='checkbox' disabled><label for='attrs-4016f5b0-af4f-4a63-b9be-5e8e3f1e3885' title='Show/Hide attributes'><svg class='icon xr-icon-file-text2'><use xlink:href='#icon-file-text2'></use></svg></label><input id='data-f7c59f26-e475-45f7-ab94-d37db0883ddd' class='xr-var-data-in' type='checkbox'><label for='data-f7c59f26-e475-45f7-ab94-d37db0883ddd' title='Show/Hide data repr'><svg class='icon xr-icon-database'><use xlink:href='#icon-database'></use></svg></label><div class='xr-var-attrs'><dl class='xr-attrs'></dl></div><div class='xr-var-data'><pre>array([ 0,  1,  2,  3,  4,  5,  6,  7,  8,  9, 10, 11, 12, 13, 14, 15, 16, 17,\n",
       "       18, 19, 20, 21, 22, 23, 24, 25, 26, 27, 28, 29, 30, 31, 32, 33, 34, 35,\n",
       "       36, 37, 38, 39, 40, 41, 42, 43, 44, 45, 46, 47, 48, 49, 50, 51, 52, 53,\n",
       "       54, 55, 56, 57, 58, 59, 60, 61, 62, 63, 64, 65, 66, 67, 68, 69, 70, 71,\n",
       "       72, 73, 74, 75, 76, 77, 78, 79, 80, 81, 82, 83, 84, 85, 86, 87, 88, 89,\n",
       "       90, 91, 92, 93, 94, 95, 96, 97, 98, 99])</pre></div></li><li class='xr-var-item'><div class='xr-var-name'><span class='xr-has-index'>draw</span></div><div class='xr-var-dims'>(draw)</div><div class='xr-var-dtype'>int64</div><div class='xr-var-preview xr-preview'>0 1 2 3 4 5 ... 995 996 997 998 999</div><input id='attrs-ddceb675-e3dd-47ba-bcf2-cc18885c51ca' class='xr-var-attrs-in' type='checkbox' disabled><label for='attrs-ddceb675-e3dd-47ba-bcf2-cc18885c51ca' title='Show/Hide attributes'><svg class='icon xr-icon-file-text2'><use xlink:href='#icon-file-text2'></use></svg></label><input id='data-5e11ea7b-8f0b-40ff-9686-cddcea96ddcb' class='xr-var-data-in' type='checkbox'><label for='data-5e11ea7b-8f0b-40ff-9686-cddcea96ddcb' title='Show/Hide data repr'><svg class='icon xr-icon-database'><use xlink:href='#icon-database'></use></svg></label><div class='xr-var-attrs'><dl class='xr-attrs'></dl></div><div class='xr-var-data'><pre>array([  0,   1,   2, ..., 997, 998, 999])</pre></div></li></ul></div></li><li class='xr-section-item'><input id='section-2187340d-f308-4543-9be0-a1b7238f5231' class='xr-section-summary-in' type='checkbox'  checked><label for='section-2187340d-f308-4543-9be0-a1b7238f5231' class='xr-section-summary' >Data variables: <span>(3)</span></label><div class='xr-section-inline-details'></div><div class='xr-section-details'><ul class='xr-var-list'><li class='xr-var-item'><div class='xr-var-name'><span>accept</span></div><div class='xr-var-dims'>(chain, draw)</div><div class='xr-var-dtype'>bool</div><div class='xr-var-preview xr-preview'>True True True ... False False</div><input id='attrs-79df683e-4f60-4282-8a73-896ddb36c4dd' class='xr-var-attrs-in' type='checkbox' disabled><label for='attrs-79df683e-4f60-4282-8a73-896ddb36c4dd' title='Show/Hide attributes'><svg class='icon xr-icon-file-text2'><use xlink:href='#icon-file-text2'></use></svg></label><input id='data-c8ccd7e8-c09d-43df-9670-e9f37ddbd774' class='xr-var-data-in' type='checkbox'><label for='data-c8ccd7e8-c09d-43df-9670-e9f37ddbd774' title='Show/Hide data repr'><svg class='icon xr-icon-database'><use xlink:href='#icon-database'></use></svg></label><div class='xr-var-attrs'><dl class='xr-attrs'></dl></div><div class='xr-var-data'><pre>array([[ True,  True,  True, ..., False,  True, False],\n",
       "       [ True,  True,  True, ...,  True, False,  True],\n",
       "       [ True, False, False, ..., False, False,  True],\n",
       "       ...,\n",
       "       [ True,  True,  True, ...,  True, False, False],\n",
       "       [False, False, False, ..., False, False, False],\n",
       "       [False,  True,  True, ..., False, False, False]])</pre></div></li><li class='xr-var-item'><div class='xr-var-name'><span>acceptance_rate</span></div><div class='xr-var-dims'>(chain, draw)</div><div class='xr-var-dtype'>float32</div><div class='xr-var-preview xr-preview'>1.0 1.0 1.0 ... 0.0 0.0 2.359e-11</div><input id='attrs-39fb3918-dbca-44d1-8bcc-8d746e3d61cd' class='xr-var-attrs-in' type='checkbox' disabled><label for='attrs-39fb3918-dbca-44d1-8bcc-8d746e3d61cd' title='Show/Hide attributes'><svg class='icon xr-icon-file-text2'><use xlink:href='#icon-file-text2'></use></svg></label><input id='data-81ee4a4e-05ca-424f-b8ec-b0391cf3ce97' class='xr-var-data-in' type='checkbox'><label for='data-81ee4a4e-05ca-424f-b8ec-b0391cf3ce97' title='Show/Hide data repr'><svg class='icon xr-icon-database'><use xlink:href='#icon-database'></use></svg></label><div class='xr-var-attrs'><dl class='xr-attrs'></dl></div><div class='xr-var-data'><pre>array([[1.0000000e+00, 1.0000000e+00, 1.0000000e+00, ..., 0.0000000e+00,\n",
       "        1.0000000e+00, 6.2541775e-27],\n",
       "       [1.0000000e+00, 1.0000000e+00, 6.8255031e-01, ..., 7.2358739e-01,\n",
       "        8.1097298e-09, 7.1821570e-01],\n",
       "       [2.8885847e-01, 1.7994784e-13, 1.4697441e-01, ..., 2.2754172e-04,\n",
       "        1.9550302e-07, 2.4991401e-01],\n",
       "       ...,\n",
       "       [1.0000000e+00, 1.0000000e+00, 1.0000000e+00, ..., 4.8333037e-01,\n",
       "        0.0000000e+00, 0.0000000e+00],\n",
       "       [3.9972275e-02, 6.0288346e-01, 7.3517688e-02, ..., 0.0000000e+00,\n",
       "        0.0000000e+00, 1.5348701e-02],\n",
       "       [1.3307592e-01, 1.0000000e+00, 1.0000000e+00, ..., 0.0000000e+00,\n",
       "        0.0000000e+00, 2.3591903e-11]], dtype=float32)</pre></div></li><li class='xr-var-item'><div class='xr-var-name'><span>lp</span></div><div class='xr-var-dims'>(chain, draw)</div><div class='xr-var-dtype'>float32</div><div class='xr-var-preview xr-preview'>-59.42 -22.82 ... -0.06315 -0.06315</div><input id='attrs-5099bbab-9ae5-4e4b-9da2-51b58cc4ac46' class='xr-var-attrs-in' type='checkbox' disabled><label for='attrs-5099bbab-9ae5-4e4b-9da2-51b58cc4ac46' title='Show/Hide attributes'><svg class='icon xr-icon-file-text2'><use xlink:href='#icon-file-text2'></use></svg></label><input id='data-5fd8808d-3821-4e7a-a07d-6af9deacde52' class='xr-var-data-in' type='checkbox'><label for='data-5fd8808d-3821-4e7a-a07d-6af9deacde52' title='Show/Hide data repr'><svg class='icon xr-icon-database'><use xlink:href='#icon-database'></use></svg></label><div class='xr-var-attrs'><dl class='xr-attrs'></dl></div><div class='xr-var-data'><pre>array([[-5.9416431e+01, -2.2816504e+01, -2.1859978e+01, ...,\n",
       "        -3.3592257e-01, -3.3231699e-01, -3.3231699e-01],\n",
       "       [-3.4861770e-02, -3.2342132e-02, -2.0336652e-01, ...,\n",
       "        -6.1244678e-02, -6.1244678e-02, -4.9105641e-01],\n",
       "       [-1.6050037e+00, -1.6050037e+00, -1.6050037e+00, ...,\n",
       "        -9.6635276e-01, -9.6635276e-01, -2.8240416e+00],\n",
       "       ...,\n",
       "       [-2.3428576e+00, -1.5491003e+00, -2.8666660e-01, ...,\n",
       "        -1.0153153e+00, -1.0153153e+00, -1.0153153e+00],\n",
       "       [-5.7115688e+00, -5.7115688e+00, -5.7115688e+00, ...,\n",
       "        -5.7231498e-01, -5.7231498e-01, -5.7231498e-01],\n",
       "       [-7.4647942e+00, -6.5829363e+00, -6.3903761e+00, ...,\n",
       "        -6.3149303e-02, -6.3149303e-02, -6.3149303e-02]], dtype=float32)</pre></div></li></ul></div></li><li class='xr-section-item'><input id='section-f16c3553-cb2c-4417-883b-102620962d5d' class='xr-section-summary-in' type='checkbox'  checked><label for='section-f16c3553-cb2c-4417-883b-102620962d5d' class='xr-section-summary' >Attributes: <span>(4)</span></label><div class='xr-section-inline-details'></div><div class='xr-section-details'><dl class='xr-attrs'><dt><span>created_at :</span></dt><dd>2022-07-12T14:48:54.522617</dd><dt><span>arviz_version :</span></dt><dd>0.12.1</dd><dt><span>inference_library :</span></dt><dd>emcee_jax</dd><dt><span>inference_library_version :</span></dt><dd>0.1.dev28+gc52f427</dd></dl></div></li></ul></div></div><br></div>\n",
       "                      </ul>\n",
       "                  </div>\n",
       "            </li>\n",
       "            \n",
       "              </ul>\n",
       "            </div>\n",
       "            <style> /* CSS stylesheet for displaying InferenceData objects in jupyterlab.\n",
       " *\n",
       " */\n",
       "\n",
       ":root {\n",
       "  --xr-font-color0: var(--jp-content-font-color0, rgba(0, 0, 0, 1));\n",
       "  --xr-font-color2: var(--jp-content-font-color2, rgba(0, 0, 0, 0.54));\n",
       "  --xr-font-color3: var(--jp-content-font-color3, rgba(0, 0, 0, 0.38));\n",
       "  --xr-border-color: var(--jp-border-color2, #e0e0e0);\n",
       "  --xr-disabled-color: var(--jp-layout-color3, #bdbdbd);\n",
       "  --xr-background-color: var(--jp-layout-color0, white);\n",
       "  --xr-background-color-row-even: var(--jp-layout-color1, white);\n",
       "  --xr-background-color-row-odd: var(--jp-layout-color2, #eeeeee);\n",
       "}\n",
       "\n",
       "html[theme=dark],\n",
       "body.vscode-dark {\n",
       "  --xr-font-color0: rgba(255, 255, 255, 1);\n",
       "  --xr-font-color2: rgba(255, 255, 255, 0.54);\n",
       "  --xr-font-color3: rgba(255, 255, 255, 0.38);\n",
       "  --xr-border-color: #1F1F1F;\n",
       "  --xr-disabled-color: #515151;\n",
       "  --xr-background-color: #111111;\n",
       "  --xr-background-color-row-even: #111111;\n",
       "  --xr-background-color-row-odd: #313131;\n",
       "}\n",
       "\n",
       ".xr-wrap {\n",
       "  display: block;\n",
       "  min-width: 300px;\n",
       "  max-width: 700px;\n",
       "}\n",
       "\n",
       ".xr-text-repr-fallback {\n",
       "  /* fallback to plain text repr when CSS is not injected (untrusted notebook) */\n",
       "  display: none;\n",
       "}\n",
       "\n",
       ".xr-header {\n",
       "  padding-top: 6px;\n",
       "  padding-bottom: 6px;\n",
       "  margin-bottom: 4px;\n",
       "  border-bottom: solid 1px var(--xr-border-color);\n",
       "}\n",
       "\n",
       ".xr-header > div,\n",
       ".xr-header > ul {\n",
       "  display: inline;\n",
       "  margin-top: 0;\n",
       "  margin-bottom: 0;\n",
       "}\n",
       "\n",
       ".xr-obj-type,\n",
       ".xr-array-name {\n",
       "  margin-left: 2px;\n",
       "  margin-right: 10px;\n",
       "}\n",
       "\n",
       ".xr-obj-type {\n",
       "  color: var(--xr-font-color2);\n",
       "}\n",
       "\n",
       ".xr-sections {\n",
       "  padding-left: 0 !important;\n",
       "  display: grid;\n",
       "  grid-template-columns: 150px auto auto 1fr 20px 20px;\n",
       "}\n",
       "\n",
       ".xr-sections.group-sections {\n",
       "  grid-template-columns: auto;\n",
       "}\n",
       "\n",
       ".xr-section-item {\n",
       "  display: contents;\n",
       "}\n",
       "\n",
       ".xr-section-item input {\n",
       "  display: none;\n",
       "}\n",
       "\n",
       ".xr-section-item input + label {\n",
       "  color: var(--xr-disabled-color);\n",
       "}\n",
       "\n",
       ".xr-section-item input:enabled + label {\n",
       "  cursor: pointer;\n",
       "  color: var(--xr-font-color2);\n",
       "}\n",
       "\n",
       ".xr-section-item input:enabled + label:hover {\n",
       "  color: var(--xr-font-color0);\n",
       "}\n",
       "\n",
       ".xr-section-summary {\n",
       "  grid-column: 1;\n",
       "  color: var(--xr-font-color2);\n",
       "  font-weight: 500;\n",
       "}\n",
       "\n",
       ".xr-section-summary > span {\n",
       "  display: inline-block;\n",
       "  padding-left: 0.5em;\n",
       "}\n",
       "\n",
       ".xr-section-summary-in:disabled + label {\n",
       "  color: var(--xr-font-color2);\n",
       "}\n",
       "\n",
       ".xr-section-summary-in + label:before {\n",
       "  display: inline-block;\n",
       "  content: '►';\n",
       "  font-size: 11px;\n",
       "  width: 15px;\n",
       "  text-align: center;\n",
       "}\n",
       "\n",
       ".xr-section-summary-in:disabled + label:before {\n",
       "  color: var(--xr-disabled-color);\n",
       "}\n",
       "\n",
       ".xr-section-summary-in:checked + label:before {\n",
       "  content: '▼';\n",
       "}\n",
       "\n",
       ".xr-section-summary-in:checked + label > span {\n",
       "  display: none;\n",
       "}\n",
       "\n",
       ".xr-section-summary,\n",
       ".xr-section-inline-details {\n",
       "  padding-top: 4px;\n",
       "  padding-bottom: 4px;\n",
       "}\n",
       "\n",
       ".xr-section-inline-details {\n",
       "  grid-column: 2 / -1;\n",
       "}\n",
       "\n",
       ".xr-section-details {\n",
       "  display: none;\n",
       "  grid-column: 1 / -1;\n",
       "  margin-bottom: 5px;\n",
       "}\n",
       "\n",
       ".xr-section-summary-in:checked ~ .xr-section-details {\n",
       "  display: contents;\n",
       "}\n",
       "\n",
       ".xr-array-wrap {\n",
       "  grid-column: 1 / -1;\n",
       "  display: grid;\n",
       "  grid-template-columns: 20px auto;\n",
       "}\n",
       "\n",
       ".xr-array-wrap > label {\n",
       "  grid-column: 1;\n",
       "  vertical-align: top;\n",
       "}\n",
       "\n",
       ".xr-preview {\n",
       "  color: var(--xr-font-color3);\n",
       "}\n",
       "\n",
       ".xr-array-preview,\n",
       ".xr-array-data {\n",
       "  padding: 0 5px !important;\n",
       "  grid-column: 2;\n",
       "}\n",
       "\n",
       ".xr-array-data,\n",
       ".xr-array-in:checked ~ .xr-array-preview {\n",
       "  display: none;\n",
       "}\n",
       "\n",
       ".xr-array-in:checked ~ .xr-array-data,\n",
       ".xr-array-preview {\n",
       "  display: inline-block;\n",
       "}\n",
       "\n",
       ".xr-dim-list {\n",
       "  display: inline-block !important;\n",
       "  list-style: none;\n",
       "  padding: 0 !important;\n",
       "  margin: 0;\n",
       "}\n",
       "\n",
       ".xr-dim-list li {\n",
       "  display: inline-block;\n",
       "  padding: 0;\n",
       "  margin: 0;\n",
       "}\n",
       "\n",
       ".xr-dim-list:before {\n",
       "  content: '(';\n",
       "}\n",
       "\n",
       ".xr-dim-list:after {\n",
       "  content: ')';\n",
       "}\n",
       "\n",
       ".xr-dim-list li:not(:last-child):after {\n",
       "  content: ',';\n",
       "  padding-right: 5px;\n",
       "}\n",
       "\n",
       ".xr-has-index {\n",
       "  font-weight: bold;\n",
       "}\n",
       "\n",
       ".xr-var-list,\n",
       ".xr-var-item {\n",
       "  display: contents;\n",
       "}\n",
       "\n",
       ".xr-var-item > div,\n",
       ".xr-var-item label,\n",
       ".xr-var-item > .xr-var-name span {\n",
       "  background-color: var(--xr-background-color-row-even);\n",
       "  margin-bottom: 0;\n",
       "}\n",
       "\n",
       ".xr-var-item > .xr-var-name:hover span {\n",
       "  padding-right: 5px;\n",
       "}\n",
       "\n",
       ".xr-var-list > li:nth-child(odd) > div,\n",
       ".xr-var-list > li:nth-child(odd) > label,\n",
       ".xr-var-list > li:nth-child(odd) > .xr-var-name span {\n",
       "  background-color: var(--xr-background-color-row-odd);\n",
       "}\n",
       "\n",
       ".xr-var-name {\n",
       "  grid-column: 1;\n",
       "}\n",
       "\n",
       ".xr-var-dims {\n",
       "  grid-column: 2;\n",
       "}\n",
       "\n",
       ".xr-var-dtype {\n",
       "  grid-column: 3;\n",
       "  text-align: right;\n",
       "  color: var(--xr-font-color2);\n",
       "}\n",
       "\n",
       ".xr-var-preview {\n",
       "  grid-column: 4;\n",
       "}\n",
       "\n",
       ".xr-var-name,\n",
       ".xr-var-dims,\n",
       ".xr-var-dtype,\n",
       ".xr-preview,\n",
       ".xr-attrs dt {\n",
       "  white-space: nowrap;\n",
       "  overflow: hidden;\n",
       "  text-overflow: ellipsis;\n",
       "  padding-right: 10px;\n",
       "}\n",
       "\n",
       ".xr-var-name:hover,\n",
       ".xr-var-dims:hover,\n",
       ".xr-var-dtype:hover,\n",
       ".xr-attrs dt:hover {\n",
       "  overflow: visible;\n",
       "  width: auto;\n",
       "  z-index: 1;\n",
       "}\n",
       "\n",
       ".xr-var-attrs,\n",
       ".xr-var-data {\n",
       "  display: none;\n",
       "  background-color: var(--xr-background-color) !important;\n",
       "  padding-bottom: 5px !important;\n",
       "}\n",
       "\n",
       ".xr-var-attrs-in:checked ~ .xr-var-attrs,\n",
       ".xr-var-data-in:checked ~ .xr-var-data {\n",
       "  display: block;\n",
       "}\n",
       "\n",
       ".xr-var-data > table {\n",
       "  float: right;\n",
       "}\n",
       "\n",
       ".xr-var-name span,\n",
       ".xr-var-data,\n",
       ".xr-attrs {\n",
       "  padding-left: 25px !important;\n",
       "}\n",
       "\n",
       ".xr-attrs,\n",
       ".xr-var-attrs,\n",
       ".xr-var-data {\n",
       "  grid-column: 1 / -1;\n",
       "}\n",
       "\n",
       "dl.xr-attrs {\n",
       "  padding: 0;\n",
       "  margin: 0;\n",
       "  display: grid;\n",
       "  grid-template-columns: 125px auto;\n",
       "}\n",
       "\n",
       ".xr-attrs dt, dd {\n",
       "  padding: 0;\n",
       "  margin: 0;\n",
       "  float: left;\n",
       "  padding-right: 10px;\n",
       "  width: auto;\n",
       "}\n",
       "\n",
       ".xr-attrs dt {\n",
       "  font-weight: normal;\n",
       "  grid-column: 1;\n",
       "}\n",
       "\n",
       ".xr-attrs dt:hover span {\n",
       "  display: inline-block;\n",
       "  background: var(--xr-background-color);\n",
       "  padding-right: 10px;\n",
       "}\n",
       "\n",
       ".xr-attrs dd {\n",
       "  grid-column: 2;\n",
       "  white-space: pre-wrap;\n",
       "  word-break: break-all;\n",
       "}\n",
       "\n",
       ".xr-icon-database,\n",
       ".xr-icon-file-text2 {\n",
       "  display: inline-block;\n",
       "  vertical-align: middle;\n",
       "  width: 1em;\n",
       "  height: 1.5em !important;\n",
       "  stroke-width: 0;\n",
       "  stroke: currentColor;\n",
       "  fill: currentColor;\n",
       "}\n",
       ".xr-wrap{width:700px!important;} </style>"
      ],
      "text/plain": [
       "Inference data with groups:\n",
       "\t> posterior\n",
       "\t> sample_stats"
      ]
     },
     "execution_count": 68,
     "metadata": {},
     "output_type": "execute_result"
    }
   ],
   "source": [
    "trace.to_inference_data()"
   ]
  },
  {
   "cell_type": "code",
   "execution_count": null,
   "id": "dc5f03f7",
   "metadata": {},
   "outputs": [],
   "source": []
  }
 ],
 "metadata": {
  "kernelspec": {
   "display_name": "Python 3.10.4 ('diffstuff')",
   "language": "python",
   "name": "python3"
  },
  "language_info": {
   "codemirror_mode": {
    "name": "ipython",
    "version": 3
   },
   "file_extension": ".py",
   "mimetype": "text/x-python",
   "name": "python",
   "nbconvert_exporter": "python",
   "pygments_lexer": "ipython3",
   "version": "3.10.4"
  },
  "vscode": {
   "interpreter": {
    "hash": "285225d6a3f3cdc903724ee22bae20ee39dbee19c2500e9a7a66fbe1e06fae80"
   }
  }
 },
 "nbformat": 4,
 "nbformat_minor": 5
}
